{
 "cells": [
  {
   "cell_type": "markdown",
   "id": "3d99b2e9",
   "metadata": {},
   "source": [
    "# Vrijheid, politiek en geluk: hoe culturele factoren ons welzijn beïnvloeden\n",
    "Geluk hangt niet alleen af van welvaart, gezondheid en onderwijs. Ook culturele factoren, zoals vrijheid en politieke betrokkenheid, spelen een belangrijke rol.\n",
    "In dit perspectief onderzoeken we hoe vrijheid en politiek samenhangen met welzijn en sociaal gedrag. Alcoholgebruik gebruiken we daarbij als concreet voorbeeld van ontspanning en sociale vrijheid. Met drie visualisaties laten we zien hoe deze factoren samenhangen met geluk in verschillende landen."
   ]
  },
  {
   "cell_type": "markdown",
   "id": "ce64cddf",
   "metadata": {
    "hide-input": true
   },
   "source": [
    "## Eerste argument: Hoge politieke betrokkenheid hangt samen met lager gemiddeld geluk\n",
    "In landen waar politiek een grote rol speelt in het dagelijks leven, ervaren mensen gemiddeld minder geluk. Dat blijkt uit de cijfers. De grafiek hieronder laat zien dat landen waar meer mensen politiek 'heel belangrijk' vinden, gemiddeld lagere geluksscores rapporteren. Dit suggereert dat maatschappelijke zorgen of politieke spanningen het algemene welzijn negatief beïnvloeden."
   ]
  },
  {
   "cell_type": "code",
   "execution_count": 2,
   "id": "032a2028",
   "metadata": {
    "tags": [
     "hide-input"
    ]
   },
   "outputs": [
    {
     "data": {
      "application/vnd.plotly.v1+json": {
       "config": {
        "plotlyServerURL": "https://plot.ly"
       },
       "data": [
        {
         "hovertemplate": "<b>%{text}</b><br>Mensen die politiek belangrijk vinden: %{x:.1f}%<br>Geluk score: %{y:.2f} op 10<extra></extra>",
         "marker": {
          "color": "steelblue",
          "line": {
           "color": "black",
           "width": 1
          },
          "opacity": 0.8,
          "size": 8
         },
         "mode": "markers",
         "showlegend": false,
         "text": [
          "Dominican Republic",
          "El Salvador",
          "Uganda",
          "Tanzania",
          "Saudi Arabia",
          "Belgium",
          "Malta",
          "Moldova",
          "Burkina Faso",
          "Mali",
          "Ireland",
          "Zambia",
          "Luxembourg",
          "Qatar",
          "Yemen",
          "Uzbekistan",
          "Algeria",
          "South Africa",
          "Trinidad and Tobago",
          "Rwanda",
          "Kuwait",
          "Ghana",
          "Haiti",
          "India",
          "Armenia",
          "Kyrgyzstan",
          "Poland",
          "Georgia",
          "Latvia",
          "Thailand",
          "Australia",
          "Tajikistan",
          "Libya",
          "Tunisia",
          "Lebanon",
          "Jordan",
          "Kenya",
          "Iceland",
          "Vietnam",
          "Indonesia",
          "Venezuela",
          "Albania",
          "Iran",
          "Uruguay",
          "Iraq",
          "Guatemala",
          "United States",
          "Greece",
          "Italy",
          "United Kingdom",
          "Japan",
          "Germany",
          "Ukraine",
          "Switzerland",
          "Argentina",
          "Kazakhstan",
          "Turkey",
          "Lithuania",
          "Maldives",
          "Austria",
          "Nigeria",
          "Serbia",
          "Bulgaria",
          "Denmark",
          "North Macedonia",
          "Czechia",
          "Russia",
          "Norway",
          "Cyprus",
          "Singapore",
          "Canada",
          "Romania",
          "Peru",
          "Chile",
          "Croatia",
          "Hungary",
          "Philippines",
          "Portugal",
          "Colombia",
          "China",
          "Pakistan",
          "Ecuador",
          "Brazil",
          "Nicaragua",
          "Sweden",
          "Malaysia",
          "Azerbaijan",
          "Spain",
          "Finland",
          "Bangladesh",
          "Mexico",
          "Ethiopia",
          "South Korea",
          "Mongolia",
          "Estonia",
          "Belarus",
          "Montenegro",
          "Morocco",
          "Myanmar",
          "Bolivia",
          "Egypt",
          "Slovenia",
          "Netherlands",
          "Bosnia and Herzegovina",
          "Slovakia",
          "New Zealand",
          "France",
          "Zimbabwe"
         ],
         "type": "scatter",
         "x": [
          15.58753,
          16.98565,
          23.22473,
          32.87788,
          25.56591,
          6.501069,
          11.87288,
          5.649665,
          17.58097,
          21.89781,
          10.10618,
          21.17568,
          9.662143,
          29.15042,
          14.3,
          16.26667,
          20.33333,
          21.41956,
          15.61561,
          21.0871,
          31.23561,
          22.52539,
          17.24311,
          17.04267,
          12.75573,
          14.03992,
          7.85026,
          13.02664,
          4.247163,
          16.02826,
          10.33786,
          23.91667,
          19.91632,
          15.12114,
          14.91667,
          18.62012,
          23.49206,
          10.8673,
          8.916666,
          19.224,
          9.579832,
          5.375286,
          22.61508,
          16.34857,
          17.58333,
          16.68023,
          14.86577,
          10.31946,
          11.39515,
          15.03719,
          15.0037,
          14.53412,
          7.876245,
          9.830394,
          7.527421,
          13.47962,
          20.91097,
          5.552118,
          3.68217,
          11.3728,
          34.85246,
          6.145812,
          11.92675,
          8.220552,
          10.48998,
          4.968174,
          11.06395,
          13.96364,
          9.804559,
          8.352848,
          12.1565,
          10.17035,
          12.29561,
          10.12897,
          3.501479,
          7.37226,
          39.24622,
          8.081975,
          19.14474,
          15.13963,
          19.89975,
          16.88963,
          16.50029,
          18.75,
          20.8333,
          11.88119,
          4.300631,
          13.78508,
          6.308783,
          5.416667,
          16.43988,
          9.837399,
          7.951807,
          12.57114,
          4.266163,
          10.91012,
          12.55643,
          17.83333,
          30.5,
          14.9492,
          8.166666,
          3.617311,
          4.900155,
          6.335009,
          8.598923,
          9.365559,
          9.244078,
          24.36214
         ],
         "y": [
          5.545,
          6.061,
          4.636,
          3.623,
          6.494,
          6.834,
          6.602,
          5.766,
          4.834,
          4.723,
          7.085,
          4.073,
          7.324,
          6.374,
          3.658,
          6.179,
          4.887,
          4.956,
          6.1919,
          3.415,
          6.106,
          5.088,
          3.615,
          3.819,
          5.283,
          5.744,
          6.166,
          4.891,
          6.032,
          5.985,
          7.183,
          5.466,
          5.41,
          4.596,
          4.584,
          4.395,
          4.607,
          7.554,
          5.411,
          5.345,
          4.892,
          5.117,
          4.721,
          6.431,
          4.854,
          6.435,
          6.951,
          5.723,
          6.483,
          7.064,
          5.94,
          7.155,
          4.875,
          7.571,
          5.929,
          6.152,
          4.948,
          6.255,
          5.198,
          7.268,
          4.759,
          5.7782,
          5.266,
          7.62,
          5.101,
          6.965,
          5.477,
          7.392,
          6.223,
          6.377,
          7.103,
          6.14,
          5.84,
          6.172,
          5.882,
          5.992,
          5.88,
          5.929,
          6.012,
          5.339,
          4.934,
          5.764,
          6.33,
          5.972,
          7.363,
          5.384,
          5.171,
          6.491,
          7.842,
          5.025,
          6.317,
          4.275,
          5.845,
          5.677,
          6.189,
          5.534,
          5.5461,
          4.918,
          4.426,
          5.716,
          4.283,
          6.461,
          7.464,
          5.813,
          6.331,
          7.277,
          6.69,
          3.145
         ]
        },
        {
         "line": {
          "color": "red",
          "dash": "dash"
         },
         "mode": "lines",
         "name": "Regressielijn",
         "type": "scatter",
         "x": [
          3.501479,
          3.86253698989899,
          4.22359497979798,
          4.58465296969697,
          4.94571095959596,
          5.30676894949495,
          5.667826939393939,
          6.028884929292929,
          6.3899429191919195,
          6.7510009090909096,
          7.1120588989899,
          7.473116888888889,
          7.834174878787879,
          8.195232868686869,
          8.556290858585859,
          8.917348848484849,
          9.27840683838384,
          9.63946482828283,
          10.00052281818182,
          10.36158080808081,
          10.7226387979798,
          11.08369678787879,
          11.444754777777778,
          11.80581276767677,
          12.166870757575758,
          12.527928747474748,
          12.888986737373738,
          13.250044727272728,
          13.611102717171718,
          13.972160707070708,
          14.333218696969698,
          14.694276686868688,
          15.055334676767679,
          15.416392666666669,
          15.777450656565659,
          16.13850864646465,
          16.49956663636364,
          16.860624626262627,
          17.22168261616162,
          17.58274060606061,
          17.9437985959596,
          18.304856585858587,
          18.665914575757576,
          19.026972565656568,
          19.38803055555556,
          19.749088545454548,
          20.11014653535354,
          20.471204525252528,
          20.832262515151516,
          21.193320505050508,
          21.554378494949496,
          21.915436484848488,
          22.276494474747476,
          22.63755246464647,
          22.998610454545457,
          23.35966844444445,
          23.720726434343437,
          24.08178442424243,
          24.442842414141417,
          24.80390040404041,
          25.164958393939397,
          25.52601638383839,
          25.887074373737377,
          26.24813236363637,
          26.609190353535357,
          26.970248343434346,
          27.331306333333337,
          27.692364323232326,
          28.053422313131318,
          28.414480303030306,
          28.775538292929298,
          29.136596282828286,
          29.497654272727278,
          29.858712262626266,
          30.219770252525258,
          30.580828242424246,
          30.941886232323238,
          31.302944222222227,
          31.66400221212122,
          32.02506020202021,
          32.386118191919195,
          32.74717618181819,
          33.10823417171717,
          33.46929216161617,
          33.830350151515155,
          34.19140814141414,
          34.55246613131314,
          34.91352412121213,
          35.274582111111116,
          35.63564010101011,
          35.99669809090909,
          36.35775608080809,
          36.71881407070708,
          37.079872060606064,
          37.44093005050506,
          37.80198804040404,
          38.163046030303036,
          38.52410402020203,
          38.88516201010101,
          39.24622
         ],
         "y": [
          6.298076923834513,
          6.279216661134482,
          6.2603563984344515,
          6.241496135734421,
          6.22263587303439,
          6.20377561033436,
          6.1849153476343295,
          6.166055084934299,
          6.147194822234268,
          6.128334559534237,
          6.109474296834207,
          6.090614034134177,
          6.071753771434146,
          6.052893508734115,
          6.034033246034085,
          6.015172983334054,
          5.996312720634023,
          5.9774524579339925,
          5.958592195233963,
          5.939731932533932,
          5.920871669833901,
          5.9020114071338705,
          5.88315114443384,
          5.864290881733809,
          5.845430619033779,
          5.8265703563337485,
          5.807710093633718,
          5.788849830933687,
          5.769989568233656,
          5.751129305533626,
          5.732269042833595,
          5.713408780133565,
          5.694548517433534,
          5.675688254733504,
          5.656827992033473,
          5.637967729333442,
          5.6191074666334115,
          5.600247203933382,
          5.581386941233351,
          5.56252667853332,
          5.54366641583329,
          5.524806153133259,
          5.505945890433228,
          5.487085627733197,
          5.468225365033167,
          5.449365102333137,
          5.430504839633106,
          5.411644576933075,
          5.392784314233046,
          5.373924051533015,
          5.355063788832984,
          5.3362035261329535,
          5.317343263432923,
          5.298483000732892,
          5.279622738032861,
          5.260762475332831,
          5.2419022126328,
          5.22304194993277,
          5.204181687232739,
          5.185321424532709,
          5.166461161832678,
          5.147600899132647,
          5.128740636432617,
          5.109880373732587,
          5.091020111032556,
          5.072159848332525,
          5.0532995856324945,
          5.034439322932464,
          5.015579060232433,
          4.996718797532403,
          4.9778585348323725,
          4.958998272132342,
          4.940138009432311,
          4.92127774673228,
          4.90241748403225,
          4.88355722133222,
          4.864696958632189,
          4.845836695932158,
          4.826976433232128,
          4.808116170532097,
          4.789255907832066,
          4.7703956451320355,
          4.751535382432006,
          4.732675119731975,
          4.713814857031944,
          4.6949545943319135,
          4.676094331631883,
          4.657234068931852,
          4.638373806231822,
          4.6195135435317916,
          4.600653280831761,
          4.58179301813173,
          4.562932755431699,
          4.544072492731669,
          4.525212230031638,
          4.506351967331608,
          4.487491704631577,
          4.468631441931546,
          4.449771179231517,
          4.430910916531486
         ]
        }
       ],
       "layout": {
        "showlegend": false,
        "template": {
         "data": {
          "bar": [
           {
            "error_x": {
             "color": "rgb(36,36,36)"
            },
            "error_y": {
             "color": "rgb(36,36,36)"
            },
            "marker": {
             "line": {
              "color": "white",
              "width": 0.5
             },
             "pattern": {
              "fillmode": "overlay",
              "size": 10,
              "solidity": 0.2
             }
            },
            "type": "bar"
           }
          ],
          "barpolar": [
           {
            "marker": {
             "line": {
              "color": "white",
              "width": 0.5
             },
             "pattern": {
              "fillmode": "overlay",
              "size": 10,
              "solidity": 0.2
             }
            },
            "type": "barpolar"
           }
          ],
          "carpet": [
           {
            "aaxis": {
             "endlinecolor": "rgb(36,36,36)",
             "gridcolor": "white",
             "linecolor": "white",
             "minorgridcolor": "white",
             "startlinecolor": "rgb(36,36,36)"
            },
            "baxis": {
             "endlinecolor": "rgb(36,36,36)",
             "gridcolor": "white",
             "linecolor": "white",
             "minorgridcolor": "white",
             "startlinecolor": "rgb(36,36,36)"
            },
            "type": "carpet"
           }
          ],
          "choropleth": [
           {
            "colorbar": {
             "outlinewidth": 1,
             "tickcolor": "rgb(36,36,36)",
             "ticks": "outside"
            },
            "type": "choropleth"
           }
          ],
          "contour": [
           {
            "colorbar": {
             "outlinewidth": 1,
             "tickcolor": "rgb(36,36,36)",
             "ticks": "outside"
            },
            "colorscale": [
             [
              0,
              "#440154"
             ],
             [
              0.1111111111111111,
              "#482878"
             ],
             [
              0.2222222222222222,
              "#3e4989"
             ],
             [
              0.3333333333333333,
              "#31688e"
             ],
             [
              0.4444444444444444,
              "#26828e"
             ],
             [
              0.5555555555555556,
              "#1f9e89"
             ],
             [
              0.6666666666666666,
              "#35b779"
             ],
             [
              0.7777777777777778,
              "#6ece58"
             ],
             [
              0.8888888888888888,
              "#b5de2b"
             ],
             [
              1,
              "#fde725"
             ]
            ],
            "type": "contour"
           }
          ],
          "contourcarpet": [
           {
            "colorbar": {
             "outlinewidth": 1,
             "tickcolor": "rgb(36,36,36)",
             "ticks": "outside"
            },
            "type": "contourcarpet"
           }
          ],
          "heatmap": [
           {
            "colorbar": {
             "outlinewidth": 1,
             "tickcolor": "rgb(36,36,36)",
             "ticks": "outside"
            },
            "colorscale": [
             [
              0,
              "#440154"
             ],
             [
              0.1111111111111111,
              "#482878"
             ],
             [
              0.2222222222222222,
              "#3e4989"
             ],
             [
              0.3333333333333333,
              "#31688e"
             ],
             [
              0.4444444444444444,
              "#26828e"
             ],
             [
              0.5555555555555556,
              "#1f9e89"
             ],
             [
              0.6666666666666666,
              "#35b779"
             ],
             [
              0.7777777777777778,
              "#6ece58"
             ],
             [
              0.8888888888888888,
              "#b5de2b"
             ],
             [
              1,
              "#fde725"
             ]
            ],
            "type": "heatmap"
           }
          ],
          "heatmapgl": [
           {
            "colorbar": {
             "outlinewidth": 1,
             "tickcolor": "rgb(36,36,36)",
             "ticks": "outside"
            },
            "colorscale": [
             [
              0,
              "#440154"
             ],
             [
              0.1111111111111111,
              "#482878"
             ],
             [
              0.2222222222222222,
              "#3e4989"
             ],
             [
              0.3333333333333333,
              "#31688e"
             ],
             [
              0.4444444444444444,
              "#26828e"
             ],
             [
              0.5555555555555556,
              "#1f9e89"
             ],
             [
              0.6666666666666666,
              "#35b779"
             ],
             [
              0.7777777777777778,
              "#6ece58"
             ],
             [
              0.8888888888888888,
              "#b5de2b"
             ],
             [
              1,
              "#fde725"
             ]
            ],
            "type": "heatmapgl"
           }
          ],
          "histogram": [
           {
            "marker": {
             "line": {
              "color": "white",
              "width": 0.6
             }
            },
            "type": "histogram"
           }
          ],
          "histogram2d": [
           {
            "colorbar": {
             "outlinewidth": 1,
             "tickcolor": "rgb(36,36,36)",
             "ticks": "outside"
            },
            "colorscale": [
             [
              0,
              "#440154"
             ],
             [
              0.1111111111111111,
              "#482878"
             ],
             [
              0.2222222222222222,
              "#3e4989"
             ],
             [
              0.3333333333333333,
              "#31688e"
             ],
             [
              0.4444444444444444,
              "#26828e"
             ],
             [
              0.5555555555555556,
              "#1f9e89"
             ],
             [
              0.6666666666666666,
              "#35b779"
             ],
             [
              0.7777777777777778,
              "#6ece58"
             ],
             [
              0.8888888888888888,
              "#b5de2b"
             ],
             [
              1,
              "#fde725"
             ]
            ],
            "type": "histogram2d"
           }
          ],
          "histogram2dcontour": [
           {
            "colorbar": {
             "outlinewidth": 1,
             "tickcolor": "rgb(36,36,36)",
             "ticks": "outside"
            },
            "colorscale": [
             [
              0,
              "#440154"
             ],
             [
              0.1111111111111111,
              "#482878"
             ],
             [
              0.2222222222222222,
              "#3e4989"
             ],
             [
              0.3333333333333333,
              "#31688e"
             ],
             [
              0.4444444444444444,
              "#26828e"
             ],
             [
              0.5555555555555556,
              "#1f9e89"
             ],
             [
              0.6666666666666666,
              "#35b779"
             ],
             [
              0.7777777777777778,
              "#6ece58"
             ],
             [
              0.8888888888888888,
              "#b5de2b"
             ],
             [
              1,
              "#fde725"
             ]
            ],
            "type": "histogram2dcontour"
           }
          ],
          "mesh3d": [
           {
            "colorbar": {
             "outlinewidth": 1,
             "tickcolor": "rgb(36,36,36)",
             "ticks": "outside"
            },
            "type": "mesh3d"
           }
          ],
          "parcoords": [
           {
            "line": {
             "colorbar": {
              "outlinewidth": 1,
              "tickcolor": "rgb(36,36,36)",
              "ticks": "outside"
             }
            },
            "type": "parcoords"
           }
          ],
          "pie": [
           {
            "automargin": true,
            "type": "pie"
           }
          ],
          "scatter": [
           {
            "fillpattern": {
             "fillmode": "overlay",
             "size": 10,
             "solidity": 0.2
            },
            "type": "scatter"
           }
          ],
          "scatter3d": [
           {
            "line": {
             "colorbar": {
              "outlinewidth": 1,
              "tickcolor": "rgb(36,36,36)",
              "ticks": "outside"
             }
            },
            "marker": {
             "colorbar": {
              "outlinewidth": 1,
              "tickcolor": "rgb(36,36,36)",
              "ticks": "outside"
             }
            },
            "type": "scatter3d"
           }
          ],
          "scattercarpet": [
           {
            "marker": {
             "colorbar": {
              "outlinewidth": 1,
              "tickcolor": "rgb(36,36,36)",
              "ticks": "outside"
             }
            },
            "type": "scattercarpet"
           }
          ],
          "scattergeo": [
           {
            "marker": {
             "colorbar": {
              "outlinewidth": 1,
              "tickcolor": "rgb(36,36,36)",
              "ticks": "outside"
             }
            },
            "type": "scattergeo"
           }
          ],
          "scattergl": [
           {
            "marker": {
             "colorbar": {
              "outlinewidth": 1,
              "tickcolor": "rgb(36,36,36)",
              "ticks": "outside"
             }
            },
            "type": "scattergl"
           }
          ],
          "scattermapbox": [
           {
            "marker": {
             "colorbar": {
              "outlinewidth": 1,
              "tickcolor": "rgb(36,36,36)",
              "ticks": "outside"
             }
            },
            "type": "scattermapbox"
           }
          ],
          "scatterpolar": [
           {
            "marker": {
             "colorbar": {
              "outlinewidth": 1,
              "tickcolor": "rgb(36,36,36)",
              "ticks": "outside"
             }
            },
            "type": "scatterpolar"
           }
          ],
          "scatterpolargl": [
           {
            "marker": {
             "colorbar": {
              "outlinewidth": 1,
              "tickcolor": "rgb(36,36,36)",
              "ticks": "outside"
             }
            },
            "type": "scatterpolargl"
           }
          ],
          "scatterternary": [
           {
            "marker": {
             "colorbar": {
              "outlinewidth": 1,
              "tickcolor": "rgb(36,36,36)",
              "ticks": "outside"
             }
            },
            "type": "scatterternary"
           }
          ],
          "surface": [
           {
            "colorbar": {
             "outlinewidth": 1,
             "tickcolor": "rgb(36,36,36)",
             "ticks": "outside"
            },
            "colorscale": [
             [
              0,
              "#440154"
             ],
             [
              0.1111111111111111,
              "#482878"
             ],
             [
              0.2222222222222222,
              "#3e4989"
             ],
             [
              0.3333333333333333,
              "#31688e"
             ],
             [
              0.4444444444444444,
              "#26828e"
             ],
             [
              0.5555555555555556,
              "#1f9e89"
             ],
             [
              0.6666666666666666,
              "#35b779"
             ],
             [
              0.7777777777777778,
              "#6ece58"
             ],
             [
              0.8888888888888888,
              "#b5de2b"
             ],
             [
              1,
              "#fde725"
             ]
            ],
            "type": "surface"
           }
          ],
          "table": [
           {
            "cells": {
             "fill": {
              "color": "rgb(237,237,237)"
             },
             "line": {
              "color": "white"
             }
            },
            "header": {
             "fill": {
              "color": "rgb(217,217,217)"
             },
             "line": {
              "color": "white"
             }
            },
            "type": "table"
           }
          ]
         },
         "layout": {
          "annotationdefaults": {
           "arrowhead": 0,
           "arrowwidth": 1
          },
          "autotypenumbers": "strict",
          "coloraxis": {
           "colorbar": {
            "outlinewidth": 1,
            "tickcolor": "rgb(36,36,36)",
            "ticks": "outside"
           }
          },
          "colorscale": {
           "diverging": [
            [
             0,
             "rgb(103,0,31)"
            ],
            [
             0.1,
             "rgb(178,24,43)"
            ],
            [
             0.2,
             "rgb(214,96,77)"
            ],
            [
             0.3,
             "rgb(244,165,130)"
            ],
            [
             0.4,
             "rgb(253,219,199)"
            ],
            [
             0.5,
             "rgb(247,247,247)"
            ],
            [
             0.6,
             "rgb(209,229,240)"
            ],
            [
             0.7,
             "rgb(146,197,222)"
            ],
            [
             0.8,
             "rgb(67,147,195)"
            ],
            [
             0.9,
             "rgb(33,102,172)"
            ],
            [
             1,
             "rgb(5,48,97)"
            ]
           ],
           "sequential": [
            [
             0,
             "#440154"
            ],
            [
             0.1111111111111111,
             "#482878"
            ],
            [
             0.2222222222222222,
             "#3e4989"
            ],
            [
             0.3333333333333333,
             "#31688e"
            ],
            [
             0.4444444444444444,
             "#26828e"
            ],
            [
             0.5555555555555556,
             "#1f9e89"
            ],
            [
             0.6666666666666666,
             "#35b779"
            ],
            [
             0.7777777777777778,
             "#6ece58"
            ],
            [
             0.8888888888888888,
             "#b5de2b"
            ],
            [
             1,
             "#fde725"
            ]
           ],
           "sequentialminus": [
            [
             0,
             "#440154"
            ],
            [
             0.1111111111111111,
             "#482878"
            ],
            [
             0.2222222222222222,
             "#3e4989"
            ],
            [
             0.3333333333333333,
             "#31688e"
            ],
            [
             0.4444444444444444,
             "#26828e"
            ],
            [
             0.5555555555555556,
             "#1f9e89"
            ],
            [
             0.6666666666666666,
             "#35b779"
            ],
            [
             0.7777777777777778,
             "#6ece58"
            ],
            [
             0.8888888888888888,
             "#b5de2b"
            ],
            [
             1,
             "#fde725"
            ]
           ]
          },
          "colorway": [
           "#1F77B4",
           "#FF7F0E",
           "#2CA02C",
           "#D62728",
           "#9467BD",
           "#8C564B",
           "#E377C2",
           "#7F7F7F",
           "#BCBD22",
           "#17BECF"
          ],
          "font": {
           "color": "rgb(36,36,36)"
          },
          "geo": {
           "bgcolor": "white",
           "lakecolor": "white",
           "landcolor": "white",
           "showlakes": true,
           "showland": true,
           "subunitcolor": "white"
          },
          "hoverlabel": {
           "align": "left"
          },
          "hovermode": "closest",
          "mapbox": {
           "style": "light"
          },
          "paper_bgcolor": "white",
          "plot_bgcolor": "white",
          "polar": {
           "angularaxis": {
            "gridcolor": "rgb(232,232,232)",
            "linecolor": "rgb(36,36,36)",
            "showgrid": false,
            "showline": true,
            "ticks": "outside"
           },
           "bgcolor": "white",
           "radialaxis": {
            "gridcolor": "rgb(232,232,232)",
            "linecolor": "rgb(36,36,36)",
            "showgrid": false,
            "showline": true,
            "ticks": "outside"
           }
          },
          "scene": {
           "xaxis": {
            "backgroundcolor": "white",
            "gridcolor": "rgb(232,232,232)",
            "gridwidth": 2,
            "linecolor": "rgb(36,36,36)",
            "showbackground": true,
            "showgrid": false,
            "showline": true,
            "ticks": "outside",
            "zeroline": false,
            "zerolinecolor": "rgb(36,36,36)"
           },
           "yaxis": {
            "backgroundcolor": "white",
            "gridcolor": "rgb(232,232,232)",
            "gridwidth": 2,
            "linecolor": "rgb(36,36,36)",
            "showbackground": true,
            "showgrid": false,
            "showline": true,
            "ticks": "outside",
            "zeroline": false,
            "zerolinecolor": "rgb(36,36,36)"
           },
           "zaxis": {
            "backgroundcolor": "white",
            "gridcolor": "rgb(232,232,232)",
            "gridwidth": 2,
            "linecolor": "rgb(36,36,36)",
            "showbackground": true,
            "showgrid": false,
            "showline": true,
            "ticks": "outside",
            "zeroline": false,
            "zerolinecolor": "rgb(36,36,36)"
           }
          },
          "shapedefaults": {
           "fillcolor": "black",
           "line": {
            "width": 0
           },
           "opacity": 0.3
          },
          "ternary": {
           "aaxis": {
            "gridcolor": "rgb(232,232,232)",
            "linecolor": "rgb(36,36,36)",
            "showgrid": false,
            "showline": true,
            "ticks": "outside"
           },
           "baxis": {
            "gridcolor": "rgb(232,232,232)",
            "linecolor": "rgb(36,36,36)",
            "showgrid": false,
            "showline": true,
            "ticks": "outside"
           },
           "bgcolor": "white",
           "caxis": {
            "gridcolor": "rgb(232,232,232)",
            "linecolor": "rgb(36,36,36)",
            "showgrid": false,
            "showline": true,
            "ticks": "outside"
           }
          },
          "title": {
           "x": 0.05
          },
          "xaxis": {
           "automargin": true,
           "gridcolor": "rgb(232,232,232)",
           "linecolor": "rgb(36,36,36)",
           "showgrid": false,
           "showline": true,
           "ticks": "outside",
           "title": {
            "standoff": 15
           },
           "zeroline": false,
           "zerolinecolor": "rgb(36,36,36)"
          },
          "yaxis": {
           "automargin": true,
           "gridcolor": "rgb(232,232,232)",
           "linecolor": "rgb(36,36,36)",
           "showgrid": false,
           "showline": true,
           "ticks": "outside",
           "title": {
            "standoff": 15
           },
           "zeroline": false,
           "zerolinecolor": "rgb(36,36,36)"
          }
         }
        },
        "title": {
         "text": "Relatie tussen politiek belang en geluk per land"
        },
        "xaxis": {
         "title": {
          "text": "Percentage mensen dat politiek 'heel belangrijk' vindt"
         }
        },
        "yaxis": {
         "title": {
          "text": "Gemiddelde geluksscore (schaal 0 tot 10)"
         }
        }
       }
      }
     },
     "metadata": {},
     "output_type": "display_data"
    }
   ],
   "source": [
    "import pandas as pd\n",
    "import plotly.graph_objects as go\n",
    "from scipy.stats import linregress\n",
    "import numpy as np\n",
    "\n",
    "# Data inladen\n",
    "pad = \"Data/Gecombineerde_dataset__Politiek_belang__alcoholconsumptie_en_geluk.csv\"\n",
    "subset = pd.read_csv(pad)\n",
    "subset.columns = subset.columns.str.strip()\n",
    "\n",
    "# Regressie berekenen\n",
    "slope, intercept, r_value, p_value, std_err = linregress(subset[\"Very important in life: Politics\"], subset[\"Cantril ladder score\"])\n",
    "\n",
    "# X-waarden voor lijn\n",
    "x_vals = np.linspace(subset[\"Very important in life: Politics\"].min(), subset[\"Very important in life: Politics\"].max(), 100)\n",
    "y_pred = slope * x_vals + intercept\n",
    "\n",
    "# Plot starten\n",
    "fig = go.Figure()\n",
    "\n",
    "# Simpele en catchy hovertekst\n",
    "fig.add_trace(go.Scatter(\n",
    "    x=subset[\"Very important in life: Politics\"],\n",
    "    y=subset[\"Cantril ladder score\"],\n",
    "    mode='markers',\n",
    "    marker=dict(\n",
    "        size=8,\n",
    "        color='steelblue',\n",
    "        line=dict(width=1, color='black'),\n",
    "        opacity=0.8\n",
    "    ),\n",
    "    text=subset[\"Entity\"],\n",
    "    hovertemplate=\"<b>%{text}</b><br>Mensen die politiek belangrijk vinden: %{x:.1f}%<br>Geluk score: %{y:.2f} op 10<extra></extra>\",\n",
    "    showlegend=False\n",
    "))\n",
    "\n",
    "# Regressielijn toevoegen\n",
    "fig.add_trace(go.Scatter(\n",
    "    x=x_vals,\n",
    "    y=y_pred,\n",
    "    mode='lines',\n",
    "    line=dict(color='red', dash='dash'),\n",
    "    name='Regressielijn'\n",
    "))\n",
    "\n",
    "# Layout\n",
    "fig.update_layout(\n",
    "    title=\"Relatie tussen politiek belang en geluk per land\",\n",
    "    xaxis_title=\"Percentage mensen dat politiek 'heel belangrijk' vindt\",\n",
    "    yaxis_title=\"Gemiddelde geluksscore (schaal 0 tot 10)\",\n",
    "    template=\"simple_white\",\n",
    "    showlegend=False\n",
    ")\n",
    "\n",
    "fig.show()\n",
    "fig.write_html(\"politiek_geluk_regressie.html\")\n"
   ]
  },
  {
   "cell_type": "markdown",
   "id": "246e4d2d",
   "metadata": {},
   "source": [
    "**Visualisatie 2.1**  \n",
    "Hoe belangrijk mensen politiek vinden, zegt iets over hoe gelukkig ze zich voelen. Dat zie je in deze visualisatie: elk punt staat voor een land, met op de x-as het percentage mensen dat politiek ‘heel belangrijk’ vindt en op de y-as de gemiddelde geluksscore (0–10).\n",
    "De rode lijn laat het patroon zien: in landen waar politiek belangrijker wordt gevonden, ligt het geluk gemiddeld lager. De samenhang is duidelijk: **r = -0.37**, een matig negatief verband.\n",
    "\n",
    "**Wat zien we:**  \n",
    "- In landen waar meer dan **20%** politiek 'heel belangrijk' vindt, zakt de geluksscore richting de **5**.  \n",
    "- In landen waar minder dan **10%** dat zegt, ligt het geluk rond de **7**. \n",
    "Mensen lijken zich minder gelukkig te voelen in landen waar politiek een grotere rol speelt. Het gaat om een samenhang, niet om een oorzakelijk verband.\n"
   ]
  },
  {
   "cell_type": "markdown",
   "id": "0bdab888",
   "metadata": {},
   "source": [
    "## Tweede argument: Gelukkige landen tonen minder politieke focus en meer ruimte voor ontspanning\n",
    "Landen waar mensen zich gelukkiger voelen, tonen opvallend minder politieke focus én meer ruimte voor ontspanning. Dat blijkt uit de cijfers: hoe hoger het gemiddelde geluk, hoe minder mensen politiek 'heel belangrijk' vinden en hoe hoger het gemiddelde alcoholgebruik ligt.\n",
    "Dat klinkt misschien onverwacht, maar het patroon is duidelijk. In gelukkige samenlevingen lijken mensen zich minder zorgen te maken over politiek en is er meer ruimte voor sociale vrijheid en ontspanning."
   ]
  },
  {
   "cell_type": "code",
   "execution_count": 2,
   "id": "1003204a",
   "metadata": {
    "tags": [
     "hide-input"
    ]
   },
   "outputs": [
    {
     "data": {
      "application/vnd.plotly.v1+json": {
       "config": {
        "plotlyServerURL": "https://plot.ly"
       },
       "data": [
        {
         "hovertemplate": "Categorie geluk: %{x}<br>Gemiddeld alcoholgebruik: %{y:.1f} liter per persoon per jaar<br>(Hoeveel alcohol mensen gemiddeld drinken in deze groep)",
         "marker": {
          "color": "#636EFA"
         },
         "name": "Alcoholgebruik (liter per jaar)",
         "text": [
          3.8,
          6.1,
          9.8
         ],
         "textposition": "outside",
         "type": "bar",
         "x": [
          "Laag geluk",
          "Gemiddeld geluk",
          "Hoog geluk"
         ],
         "y": [
          3.791357142857143,
          6.0783,
          9.843
         ]
        },
        {
         "hovertemplate": "Categorie geluk: %{x}<br>Gemiddeld percentage mensen dat politiek héél belangrijk vindt: %{y:.1f}%<br>(Hoeveel procent dit écht belangrijk vindt in deze groep)",
         "marker": {
          "color": "#EF553B"
         },
         "name": "Mensen die politiek héél belangrijk vinden (%)",
         "text": [
          19.2,
          13,
          10.7
         ],
         "textposition": "outside",
         "type": "bar",
         "x": [
          "Laag geluk",
          "Gemiddeld geluk",
          "Hoog geluk"
         ],
         "y": [
          19.192024,
          12.990429549999998,
          10.747422349999999
         ]
        }
       ],
       "layout": {
        "barmode": "group",
        "plot_bgcolor": "#F9F9F9",
        "template": {
         "data": {
          "bar": [
           {
            "error_x": {
             "color": "#2a3f5f"
            },
            "error_y": {
             "color": "#2a3f5f"
            },
            "marker": {
             "line": {
              "color": "#E5ECF6",
              "width": 0.5
             },
             "pattern": {
              "fillmode": "overlay",
              "size": 10,
              "solidity": 0.2
             }
            },
            "type": "bar"
           }
          ],
          "barpolar": [
           {
            "marker": {
             "line": {
              "color": "#E5ECF6",
              "width": 0.5
             },
             "pattern": {
              "fillmode": "overlay",
              "size": 10,
              "solidity": 0.2
             }
            },
            "type": "barpolar"
           }
          ],
          "carpet": [
           {
            "aaxis": {
             "endlinecolor": "#2a3f5f",
             "gridcolor": "white",
             "linecolor": "white",
             "minorgridcolor": "white",
             "startlinecolor": "#2a3f5f"
            },
            "baxis": {
             "endlinecolor": "#2a3f5f",
             "gridcolor": "white",
             "linecolor": "white",
             "minorgridcolor": "white",
             "startlinecolor": "#2a3f5f"
            },
            "type": "carpet"
           }
          ],
          "choropleth": [
           {
            "colorbar": {
             "outlinewidth": 0,
             "ticks": ""
            },
            "type": "choropleth"
           }
          ],
          "contour": [
           {
            "colorbar": {
             "outlinewidth": 0,
             "ticks": ""
            },
            "colorscale": [
             [
              0,
              "#0d0887"
             ],
             [
              0.1111111111111111,
              "#46039f"
             ],
             [
              0.2222222222222222,
              "#7201a8"
             ],
             [
              0.3333333333333333,
              "#9c179e"
             ],
             [
              0.4444444444444444,
              "#bd3786"
             ],
             [
              0.5555555555555556,
              "#d8576b"
             ],
             [
              0.6666666666666666,
              "#ed7953"
             ],
             [
              0.7777777777777778,
              "#fb9f3a"
             ],
             [
              0.8888888888888888,
              "#fdca26"
             ],
             [
              1,
              "#f0f921"
             ]
            ],
            "type": "contour"
           }
          ],
          "contourcarpet": [
           {
            "colorbar": {
             "outlinewidth": 0,
             "ticks": ""
            },
            "type": "contourcarpet"
           }
          ],
          "heatmap": [
           {
            "colorbar": {
             "outlinewidth": 0,
             "ticks": ""
            },
            "colorscale": [
             [
              0,
              "#0d0887"
             ],
             [
              0.1111111111111111,
              "#46039f"
             ],
             [
              0.2222222222222222,
              "#7201a8"
             ],
             [
              0.3333333333333333,
              "#9c179e"
             ],
             [
              0.4444444444444444,
              "#bd3786"
             ],
             [
              0.5555555555555556,
              "#d8576b"
             ],
             [
              0.6666666666666666,
              "#ed7953"
             ],
             [
              0.7777777777777778,
              "#fb9f3a"
             ],
             [
              0.8888888888888888,
              "#fdca26"
             ],
             [
              1,
              "#f0f921"
             ]
            ],
            "type": "heatmap"
           }
          ],
          "heatmapgl": [
           {
            "colorbar": {
             "outlinewidth": 0,
             "ticks": ""
            },
            "colorscale": [
             [
              0,
              "#0d0887"
             ],
             [
              0.1111111111111111,
              "#46039f"
             ],
             [
              0.2222222222222222,
              "#7201a8"
             ],
             [
              0.3333333333333333,
              "#9c179e"
             ],
             [
              0.4444444444444444,
              "#bd3786"
             ],
             [
              0.5555555555555556,
              "#d8576b"
             ],
             [
              0.6666666666666666,
              "#ed7953"
             ],
             [
              0.7777777777777778,
              "#fb9f3a"
             ],
             [
              0.8888888888888888,
              "#fdca26"
             ],
             [
              1,
              "#f0f921"
             ]
            ],
            "type": "heatmapgl"
           }
          ],
          "histogram": [
           {
            "marker": {
             "pattern": {
              "fillmode": "overlay",
              "size": 10,
              "solidity": 0.2
             }
            },
            "type": "histogram"
           }
          ],
          "histogram2d": [
           {
            "colorbar": {
             "outlinewidth": 0,
             "ticks": ""
            },
            "colorscale": [
             [
              0,
              "#0d0887"
             ],
             [
              0.1111111111111111,
              "#46039f"
             ],
             [
              0.2222222222222222,
              "#7201a8"
             ],
             [
              0.3333333333333333,
              "#9c179e"
             ],
             [
              0.4444444444444444,
              "#bd3786"
             ],
             [
              0.5555555555555556,
              "#d8576b"
             ],
             [
              0.6666666666666666,
              "#ed7953"
             ],
             [
              0.7777777777777778,
              "#fb9f3a"
             ],
             [
              0.8888888888888888,
              "#fdca26"
             ],
             [
              1,
              "#f0f921"
             ]
            ],
            "type": "histogram2d"
           }
          ],
          "histogram2dcontour": [
           {
            "colorbar": {
             "outlinewidth": 0,
             "ticks": ""
            },
            "colorscale": [
             [
              0,
              "#0d0887"
             ],
             [
              0.1111111111111111,
              "#46039f"
             ],
             [
              0.2222222222222222,
              "#7201a8"
             ],
             [
              0.3333333333333333,
              "#9c179e"
             ],
             [
              0.4444444444444444,
              "#bd3786"
             ],
             [
              0.5555555555555556,
              "#d8576b"
             ],
             [
              0.6666666666666666,
              "#ed7953"
             ],
             [
              0.7777777777777778,
              "#fb9f3a"
             ],
             [
              0.8888888888888888,
              "#fdca26"
             ],
             [
              1,
              "#f0f921"
             ]
            ],
            "type": "histogram2dcontour"
           }
          ],
          "mesh3d": [
           {
            "colorbar": {
             "outlinewidth": 0,
             "ticks": ""
            },
            "type": "mesh3d"
           }
          ],
          "parcoords": [
           {
            "line": {
             "colorbar": {
              "outlinewidth": 0,
              "ticks": ""
             }
            },
            "type": "parcoords"
           }
          ],
          "pie": [
           {
            "automargin": true,
            "type": "pie"
           }
          ],
          "scatter": [
           {
            "fillpattern": {
             "fillmode": "overlay",
             "size": 10,
             "solidity": 0.2
            },
            "type": "scatter"
           }
          ],
          "scatter3d": [
           {
            "line": {
             "colorbar": {
              "outlinewidth": 0,
              "ticks": ""
             }
            },
            "marker": {
             "colorbar": {
              "outlinewidth": 0,
              "ticks": ""
             }
            },
            "type": "scatter3d"
           }
          ],
          "scattercarpet": [
           {
            "marker": {
             "colorbar": {
              "outlinewidth": 0,
              "ticks": ""
             }
            },
            "type": "scattercarpet"
           }
          ],
          "scattergeo": [
           {
            "marker": {
             "colorbar": {
              "outlinewidth": 0,
              "ticks": ""
             }
            },
            "type": "scattergeo"
           }
          ],
          "scattergl": [
           {
            "marker": {
             "colorbar": {
              "outlinewidth": 0,
              "ticks": ""
             }
            },
            "type": "scattergl"
           }
          ],
          "scattermapbox": [
           {
            "marker": {
             "colorbar": {
              "outlinewidth": 0,
              "ticks": ""
             }
            },
            "type": "scattermapbox"
           }
          ],
          "scatterpolar": [
           {
            "marker": {
             "colorbar": {
              "outlinewidth": 0,
              "ticks": ""
             }
            },
            "type": "scatterpolar"
           }
          ],
          "scatterpolargl": [
           {
            "marker": {
             "colorbar": {
              "outlinewidth": 0,
              "ticks": ""
             }
            },
            "type": "scatterpolargl"
           }
          ],
          "scatterternary": [
           {
            "marker": {
             "colorbar": {
              "outlinewidth": 0,
              "ticks": ""
             }
            },
            "type": "scatterternary"
           }
          ],
          "surface": [
           {
            "colorbar": {
             "outlinewidth": 0,
             "ticks": ""
            },
            "colorscale": [
             [
              0,
              "#0d0887"
             ],
             [
              0.1111111111111111,
              "#46039f"
             ],
             [
              0.2222222222222222,
              "#7201a8"
             ],
             [
              0.3333333333333333,
              "#9c179e"
             ],
             [
              0.4444444444444444,
              "#bd3786"
             ],
             [
              0.5555555555555556,
              "#d8576b"
             ],
             [
              0.6666666666666666,
              "#ed7953"
             ],
             [
              0.7777777777777778,
              "#fb9f3a"
             ],
             [
              0.8888888888888888,
              "#fdca26"
             ],
             [
              1,
              "#f0f921"
             ]
            ],
            "type": "surface"
           }
          ],
          "table": [
           {
            "cells": {
             "fill": {
              "color": "#EBF0F8"
             },
             "line": {
              "color": "white"
             }
            },
            "header": {
             "fill": {
              "color": "#C8D4E3"
             },
             "line": {
              "color": "white"
             }
            },
            "type": "table"
           }
          ]
         },
         "layout": {
          "annotationdefaults": {
           "arrowcolor": "#2a3f5f",
           "arrowhead": 0,
           "arrowwidth": 1
          },
          "autotypenumbers": "strict",
          "coloraxis": {
           "colorbar": {
            "outlinewidth": 0,
            "ticks": ""
           }
          },
          "colorscale": {
           "diverging": [
            [
             0,
             "#8e0152"
            ],
            [
             0.1,
             "#c51b7d"
            ],
            [
             0.2,
             "#de77ae"
            ],
            [
             0.3,
             "#f1b6da"
            ],
            [
             0.4,
             "#fde0ef"
            ],
            [
             0.5,
             "#f7f7f7"
            ],
            [
             0.6,
             "#e6f5d0"
            ],
            [
             0.7,
             "#b8e186"
            ],
            [
             0.8,
             "#7fbc41"
            ],
            [
             0.9,
             "#4d9221"
            ],
            [
             1,
             "#276419"
            ]
           ],
           "sequential": [
            [
             0,
             "#0d0887"
            ],
            [
             0.1111111111111111,
             "#46039f"
            ],
            [
             0.2222222222222222,
             "#7201a8"
            ],
            [
             0.3333333333333333,
             "#9c179e"
            ],
            [
             0.4444444444444444,
             "#bd3786"
            ],
            [
             0.5555555555555556,
             "#d8576b"
            ],
            [
             0.6666666666666666,
             "#ed7953"
            ],
            [
             0.7777777777777778,
             "#fb9f3a"
            ],
            [
             0.8888888888888888,
             "#fdca26"
            ],
            [
             1,
             "#f0f921"
            ]
           ],
           "sequentialminus": [
            [
             0,
             "#0d0887"
            ],
            [
             0.1111111111111111,
             "#46039f"
            ],
            [
             0.2222222222222222,
             "#7201a8"
            ],
            [
             0.3333333333333333,
             "#9c179e"
            ],
            [
             0.4444444444444444,
             "#bd3786"
            ],
            [
             0.5555555555555556,
             "#d8576b"
            ],
            [
             0.6666666666666666,
             "#ed7953"
            ],
            [
             0.7777777777777778,
             "#fb9f3a"
            ],
            [
             0.8888888888888888,
             "#fdca26"
            ],
            [
             1,
             "#f0f921"
            ]
           ]
          },
          "colorway": [
           "#636efa",
           "#EF553B",
           "#00cc96",
           "#ab63fa",
           "#FFA15A",
           "#19d3f3",
           "#FF6692",
           "#B6E880",
           "#FF97FF",
           "#FECB52"
          ],
          "font": {
           "color": "#2a3f5f"
          },
          "geo": {
           "bgcolor": "white",
           "lakecolor": "white",
           "landcolor": "#E5ECF6",
           "showlakes": true,
           "showland": true,
           "subunitcolor": "white"
          },
          "hoverlabel": {
           "align": "left"
          },
          "hovermode": "closest",
          "mapbox": {
           "style": "light"
          },
          "paper_bgcolor": "white",
          "plot_bgcolor": "#E5ECF6",
          "polar": {
           "angularaxis": {
            "gridcolor": "white",
            "linecolor": "white",
            "ticks": ""
           },
           "bgcolor": "#E5ECF6",
           "radialaxis": {
            "gridcolor": "white",
            "linecolor": "white",
            "ticks": ""
           }
          },
          "scene": {
           "xaxis": {
            "backgroundcolor": "#E5ECF6",
            "gridcolor": "white",
            "gridwidth": 2,
            "linecolor": "white",
            "showbackground": true,
            "ticks": "",
            "zerolinecolor": "white"
           },
           "yaxis": {
            "backgroundcolor": "#E5ECF6",
            "gridcolor": "white",
            "gridwidth": 2,
            "linecolor": "white",
            "showbackground": true,
            "ticks": "",
            "zerolinecolor": "white"
           },
           "zaxis": {
            "backgroundcolor": "#E5ECF6",
            "gridcolor": "white",
            "gridwidth": 2,
            "linecolor": "white",
            "showbackground": true,
            "ticks": "",
            "zerolinecolor": "white"
           }
          },
          "shapedefaults": {
           "line": {
            "color": "#2a3f5f"
           }
          },
          "ternary": {
           "aaxis": {
            "gridcolor": "white",
            "linecolor": "white",
            "ticks": ""
           },
           "baxis": {
            "gridcolor": "white",
            "linecolor": "white",
            "ticks": ""
           },
           "bgcolor": "#E5ECF6",
           "caxis": {
            "gridcolor": "white",
            "linecolor": "white",
            "ticks": ""
           }
          },
          "title": {
           "x": 0.05
          },
          "xaxis": {
           "automargin": true,
           "gridcolor": "white",
           "linecolor": "white",
           "ticks": "",
           "title": {
            "standoff": 15
           },
           "zerolinecolor": "white",
           "zerolinewidth": 2
          },
          "yaxis": {
           "automargin": true,
           "gridcolor": "white",
           "linecolor": "white",
           "ticks": "",
           "title": {
            "standoff": 15
           },
           "zerolinecolor": "white",
           "zerolinewidth": 2
          }
         }
        },
        "title": {
         "text": "Gemiddeld alcoholgebruik en politiek belang per gelukscategorie"
        },
        "xaxis": {
         "title": {
          "text": "Gelukscategorie"
         }
        },
        "yaxis": {
         "title": {
          "text": "Waarde"
         }
        }
       }
      }
     },
     "metadata": {},
     "output_type": "display_data"
    }
   ],
   "source": [
    "import pandas as pd\n",
    "import plotly.graph_objects as go\n",
    "\n",
    "# Data inladen\n",
    "pad = \"Data/Gecombineerde_dataset__Politiek_belang__alcoholconsumptie_en_geluk.csv\"\n",
    "subset = pd.read_csv(pad)\n",
    "subset.columns = subset.columns.str.strip()\n",
    "\n",
    "# Gelukscategorie aanmaken\n",
    "subset[\"Gelukscategorie\"] = pd.cut(\n",
    "    subset[\"Cantril ladder score\"],\n",
    "    bins=[0, 5, 6.5, 10],\n",
    "    labels=[\"Laag geluk\", \"Gemiddeld geluk\", \"Hoog geluk\"]\n",
    ")\n",
    "\n",
    "# Gemiddelden per gelukscategorie\n",
    "gemiddelden = subset.groupby(\"Gelukscategorie\").agg({\n",
    "    \"alcohol_consumption\": \"mean\",\n",
    "    \"Very important in life: Politics\": \"mean\"\n",
    "}).reset_index()\n",
    "\n",
    "# Kleuren\n",
    "kleuren = ['#636EFA', '#EF553B']\n",
    "\n",
    "# Barplot maken met begrijpelijke hover\n",
    "fig2 = go.Figure()\n",
    "\n",
    "fig2.add_trace(go.Bar(\n",
    "    x=gemiddelden[\"Gelukscategorie\"],\n",
    "    y=gemiddelden[\"alcohol_consumption\"],\n",
    "    name=\"Alcoholgebruik (liter per jaar)\",\n",
    "    marker_color=kleuren[0],\n",
    "    text=gemiddelden[\"alcohol_consumption\"].round(1),\n",
    "    textposition='outside',\n",
    "    hovertemplate=(\n",
    "        \"Categorie geluk: %{x}<br>\"\n",
    "        \"Gemiddeld alcoholgebruik: %{y:.1f} liter per persoon per jaar<br>\"\n",
    "        \"(Hoeveel alcohol mensen gemiddeld drinken in deze groep)\"\n",
    "    )\n",
    "))\n",
    "\n",
    "fig2.add_trace(go.Bar(\n",
    "    x=gemiddelden[\"Gelukscategorie\"],\n",
    "    y=gemiddelden[\"Very important in life: Politics\"],\n",
    "    name=\"Mensen die politiek héél belangrijk vinden (%)\",\n",
    "    marker_color=kleuren[1],\n",
    "    text=gemiddelden[\"Very important in life: Politics\"].round(1),\n",
    "    textposition='outside',\n",
    "    hovertemplate=(\n",
    "        \"Categorie geluk: %{x}<br>\"\n",
    "        \"Gemiddeld percentage mensen dat politiek héél belangrijk vindt: %{y:.1f}%<br>\"\n",
    "        \"(Hoeveel procent dit écht belangrijk vindt in deze groep)\"\n",
    "    )\n",
    "))\n",
    "\n",
    "fig2.update_layout(\n",
    "    barmode='group',\n",
    "    title=\"Gemiddeld alcoholgebruik en politiek belang per gelukscategorie\",\n",
    "    yaxis_title=\"Waarde\",\n",
    "    xaxis_title=\"Gelukscategorie\",\n",
    "    plot_bgcolor=\"#F9F9F9\"\n",
    ")\n",
    "\n",
    "fig2.show()\n",
    "fig2.write_html(\"politiek_alcohol_geluk.html\")"
   ]
  },
  {
   "cell_type": "markdown",
   "id": "7556ec03",
   "metadata": {},
   "source": [
    "**Visualisatie 2.2**  \n",
    "De visualisatie verdeelt landen in drie groepen op basis van hun gemiddelde geluksscore: laag, gemiddeld en hoog. Per groep zie je het gemiddelde alcoholgebruik en het percentage mensen dat politiek 'heel belangrijk' vindt.\n",
    "\n",
    "Wat blijkt uit de data:  \n",
    "- In landen met een hoge geluksscore wordt gemiddeld ruim **10** liter alcohol per persoon per jaar gedronken, en vindt slechts **12%** politiek heel belangrijk.\n",
    "- In landen met een lage geluksscore, zoals Bangladesh en Egypte, is dat slechts **5** liter alcohol, terwijl **28%** politiek belangrijk vindt.\n",
    "\n",
    "In gelukkige samenlevingen maken mensen zich minder druk om politiek en is er meer ruimte voor ontspanning en sociaal gedrag. Alcoholgebruik is hier geen oordeel, maar een concreet voorbeeld van sociale vrijheid."
   ]
  },
  {
   "cell_type": "markdown",
   "id": "6b9e7aa9",
   "metadata": {},
   "source": [
    "## Derde argument: Meer vrijheid hangt samen met hoger gemiddeld geluk en meer sociaal gedrag\n",
    "Vrijheid speelt een sleutelrol in het verklaren van verschillen in geluk en gedrag tussen landen. In landen waar mensen meer vrijheid ervaren, wordt niet alleen meer alcohol gedronken, maar voelen mensen zich ook gelukkiger. De cijfers bevestigen dit duidelijke verband."
   ]
  },
  {
   "cell_type": "code",
   "execution_count": 3,
   "id": "bfbf5b86",
   "metadata": {
    "tags": [
     "hide-input"
    ]
   },
   "outputs": [
    {
     "data": {
      "application/vnd.plotly.v1+json": {
       "config": {
        "plotlyServerURL": "https://plot.ly"
       },
       "data": [
        {
         "hovertemplate": "<b>%{hovertext}</b><br><br>Type land=Gedeeltelijk vrij land<br>Gemiddelde geluksscore (0-10)=%{x}<br>Alcoholgebruik per persoon (liter per jaar)=%{y}<br>Vrijheidsscore van het land (0 = niet vrij, 100 = heel vrij)=%{marker.size}<extra></extra>",
         "hovertext": [
          "Dominican Republic",
          "El Salvador",
          "Tanzania",
          "Moldova",
          "Zambia",
          "Kuwait",
          "India",
          "Armenia",
          "Georgia",
          "Tunisia",
          "Lebanon",
          "Kenya",
          "Indonesia",
          "Albania",
          "Guatemala",
          "Ukraine",
          "Maldives",
          "Nigeria",
          "Serbia",
          "North Macedonia",
          "Singapore",
          "Peru",
          "Hungary",
          "Philippines",
          "Pakistan",
          "Malaysia",
          "Bangladesh",
          "Mexico",
          "Montenegro",
          "Morocco",
          "Bolivia",
          "Bosnia and Herzegovina"
         ],
         "legendgroup": "Gedeeltelijk vrij land",
         "marker": {
          "color": "#636efa",
          "line": {
           "width": 1
          },
          "opacity": 0.7,
          "size": [
           68,
           56,
           36,
           62,
           54,
           37,
           66,
           54,
           58,
           56,
           43,
           52,
           58,
           67,
           49,
           50,
           41,
           43,
           60,
           68,
           47,
           70,
           66,
           58,
           37,
           53,
           40,
           60,
           67,
           37,
           66,
           52
          ],
          "sizemode": "area",
          "sizeref": 0.25,
          "symbol": "circle"
         },
         "mode": "markers",
         "name": "Gedeeltelijk vrij land",
         "orientation": "v",
         "showlegend": true,
         "type": "scatter",
         "x": [
          5.545,
          6.061,
          3.623,
          5.766,
          4.073,
          6.106,
          3.819,
          5.283,
          4.891,
          4.596,
          4.584,
          4.607,
          5.345,
          5.117,
          6.435,
          4.875,
          5.198,
          4.759,
          5.7782,
          5.101,
          6.377,
          5.84,
          5.992,
          5.88,
          4.934,
          5.384,
          5.025,
          6.317,
          5.5461,
          4.918,
          5.716,
          5.813
         ],
         "xaxis": "x",
         "y": [
          6.5,
          3.15,
          10.95,
          11.08,
          3.62,
          0,
          4.1,
          4.28,
          14.41,
          1.71,
          1.26,
          2.47,
          0.074,
          4.47,
          1.54,
          9.24,
          1.49,
          3.78,
          7.89,
          4.36,
          1.81,
          6.45,
          9.93,
          5.66,
          0.084,
          0.74,
          0.092,
          4.79,
          10.34,
          0.5,
          3.59,
          5.87
         ],
         "yaxis": "y"
        },
        {
         "hovertemplate": "<b>%{hovertext}</b><br><br>Type land=Niet vrij land<br>Gemiddelde geluksscore (0-10)=%{x}<br>Alcoholgebruik per persoon (liter per jaar)=%{y}<br>Vrijheidsscore van het land (0 = niet vrij, 100 = heel vrij)=%{marker.size}<extra></extra>",
         "hovertext": [
          "Uganda",
          "Saudi Arabia",
          "Burkina Faso",
          "Mali",
          "Qatar",
          "Yemen",
          "Uzbekistan",
          "Algeria",
          "Rwanda",
          "Haiti",
          "Kyrgyzstan",
          "Thailand",
          "Tajikistan",
          "Libya",
          "Jordan",
          "Vietnam",
          "Venezuela",
          "Iran",
          "Iraq",
          "Kazakhstan",
          "Turkey",
          "Russia",
          "China",
          "Nicaragua",
          "Azerbaijan",
          "Ethiopia",
          "Belarus",
          "Myanmar",
          "Egypt",
          "Zimbabwe"
         ],
         "legendgroup": "Niet vrij land",
         "marker": {
          "color": "#EF553B",
          "line": {
           "width": 1
          },
          "opacity": 0.7,
          "size": [
           35,
           8,
           30,
           29,
           25,
           9,
           12,
           32,
           23,
           31,
           27,
           30,
           7,
           10,
           33,
           19,
           15,
           12,
           29,
           23,
           32,
           16,
           9,
           19,
           9,
           21,
           8,
           9,
           18,
           28
          ],
          "sizemode": "area",
          "sizeref": 0.25,
          "symbol": "circle"
         },
         "mode": "markers",
         "name": "Niet vrij land",
         "orientation": "v",
         "showlegend": true,
         "type": "scatter",
         "x": [
          4.636,
          6.494,
          4.834,
          4.723,
          6.374,
          3.658,
          6.179,
          4.887,
          3.415,
          3.615,
          5.744,
          5.985,
          5.466,
          5.41,
          4.395,
          5.411,
          4.892,
          4.721,
          4.854,
          6.152,
          4.948,
          5.477,
          5.339,
          5.972,
          5.171,
          4.275,
          5.534,
          4.426,
          4.283,
          3.145
         ],
         "xaxis": "x",
         "y": [
          11.3,
          0,
          11.27,
          5.32,
          1.15,
          0.044,
          2.1,
          0.54,
          2.87,
          3.11,
          3.63,
          7.99,
          0.74,
          0.012,
          0.23,
          8.04,
          1.99,
          0.51,
          0.24,
          4.52,
          1.69,
          10.53,
          4.58,
          3.67,
          2.49,
          3.06,
          11.63,
          1.93,
          0.13,
          2.67
         ],
         "yaxis": "y"
        },
        {
         "hovertemplate": "<b>%{hovertext}</b><br><br>Type land=Vrij land<br>Gemiddelde geluksscore (0-10)=%{x}<br>Alcoholgebruik per persoon (liter per jaar)=%{y}<br>Vrijheidsscore van het land (0 = niet vrij, 100 = heel vrij)=%{marker.size}<extra></extra>",
         "hovertext": [
          "Belgium",
          "Malta",
          "Ireland",
          "Luxembourg",
          "South Africa",
          "Trinidad and Tobago",
          "Ghana",
          "Poland",
          "Latvia",
          "Australia",
          "Iceland",
          "Uruguay",
          "United States",
          "Greece",
          "Italy",
          "United Kingdom",
          "Japan",
          "Germany",
          "Switzerland",
          "Argentina",
          "Lithuania",
          "Austria",
          "Bulgaria",
          "Denmark",
          "Norway",
          "Cyprus",
          "Canada",
          "Romania",
          "Chile",
          "Croatia",
          "Portugal",
          "Colombia",
          "Ecuador",
          "Brazil",
          "Sweden",
          "Spain",
          "Finland",
          "South Korea",
          "Mongolia",
          "Estonia",
          "Slovenia",
          "Netherlands",
          "Slovakia",
          "New Zealand",
          "France"
         ],
         "legendgroup": "Vrij land",
         "marker": {
          "color": "#00cc96",
          "line": {
           "width": 1
          },
          "opacity": 0.7,
          "size": [
           96,
           89,
           97,
           97,
           79,
           82,
           80,
           81,
           88,
           95,
           94,
           96,
           83,
           86,
           90,
           93,
           96,
           94,
           96,
           85,
           89,
           93,
           79,
           97,
           100,
           92,
           98,
           83,
           94,
           84,
           96,
           70,
           70,
           72,
           100,
           90,
           100,
           83,
           84,
           94,
           95,
           97,
           90,
           99,
           89
          ],
          "sizemode": "area",
          "sizeref": 0.25,
          "symbol": "circle"
         },
         "mode": "markers",
         "name": "Vrij land",
         "orientation": "v",
         "showlegend": true,
         "type": "scatter",
         "x": [
          6.834,
          6.602,
          7.085,
          7.324,
          4.956,
          6.1919,
          5.088,
          6.166,
          6.032,
          7.183,
          7.554,
          6.431,
          6.951,
          5.723,
          6.483,
          7.064,
          5.94,
          7.155,
          7.571,
          5.929,
          6.255,
          7.268,
          5.266,
          7.62,
          7.392,
          6.223,
          7.103,
          6.14,
          6.172,
          5.882,
          5.929,
          6.012,
          5.764,
          6.33,
          7.363,
          6.491,
          7.842,
          5.845,
          5.677,
          6.189,
          6.461,
          7.464,
          6.331,
          7.277,
          6.69
         ],
         "xaxis": "x",
         "y": [
          9.43,
          7.11,
          10.77,
          10.82,
          7.13,
          6.06,
          4.26,
          11.66,
          12.87,
          10.29,
          7.94,
          5.61,
          9.9,
          5.81,
          6.97,
          10.73,
          6.38,
          11.84,
          10.07,
          8.05,
          12.1,
          11.51,
          11.62,
          9.49,
          7.38,
          6.36,
          9.89,
          16.8,
          7.56,
          7.65,
          8.88,
          4.24,
          2.54,
          7.7,
          9.57,
          9.16,
          9.08,
          7.79,
          7.68,
          10.68,
          10.41,
          8.71,
          10.67,
          10.02,
          10.32
         ],
         "yaxis": "y"
        }
       ],
       "layout": {
        "legend": {
         "itemsizing": "constant",
         "title": {
          "text": "Type land"
         },
         "tracegroupgap": 0
        },
        "template": {
         "data": {
          "bar": [
           {
            "error_x": {
             "color": "#2a3f5f"
            },
            "error_y": {
             "color": "#2a3f5f"
            },
            "marker": {
             "line": {
              "color": "#E5ECF6",
              "width": 0.5
             },
             "pattern": {
              "fillmode": "overlay",
              "size": 10,
              "solidity": 0.2
             }
            },
            "type": "bar"
           }
          ],
          "barpolar": [
           {
            "marker": {
             "line": {
              "color": "#E5ECF6",
              "width": 0.5
             },
             "pattern": {
              "fillmode": "overlay",
              "size": 10,
              "solidity": 0.2
             }
            },
            "type": "barpolar"
           }
          ],
          "carpet": [
           {
            "aaxis": {
             "endlinecolor": "#2a3f5f",
             "gridcolor": "white",
             "linecolor": "white",
             "minorgridcolor": "white",
             "startlinecolor": "#2a3f5f"
            },
            "baxis": {
             "endlinecolor": "#2a3f5f",
             "gridcolor": "white",
             "linecolor": "white",
             "minorgridcolor": "white",
             "startlinecolor": "#2a3f5f"
            },
            "type": "carpet"
           }
          ],
          "choropleth": [
           {
            "colorbar": {
             "outlinewidth": 0,
             "ticks": ""
            },
            "type": "choropleth"
           }
          ],
          "contour": [
           {
            "colorbar": {
             "outlinewidth": 0,
             "ticks": ""
            },
            "colorscale": [
             [
              0,
              "#0d0887"
             ],
             [
              0.1111111111111111,
              "#46039f"
             ],
             [
              0.2222222222222222,
              "#7201a8"
             ],
             [
              0.3333333333333333,
              "#9c179e"
             ],
             [
              0.4444444444444444,
              "#bd3786"
             ],
             [
              0.5555555555555556,
              "#d8576b"
             ],
             [
              0.6666666666666666,
              "#ed7953"
             ],
             [
              0.7777777777777778,
              "#fb9f3a"
             ],
             [
              0.8888888888888888,
              "#fdca26"
             ],
             [
              1,
              "#f0f921"
             ]
            ],
            "type": "contour"
           }
          ],
          "contourcarpet": [
           {
            "colorbar": {
             "outlinewidth": 0,
             "ticks": ""
            },
            "type": "contourcarpet"
           }
          ],
          "heatmap": [
           {
            "colorbar": {
             "outlinewidth": 0,
             "ticks": ""
            },
            "colorscale": [
             [
              0,
              "#0d0887"
             ],
             [
              0.1111111111111111,
              "#46039f"
             ],
             [
              0.2222222222222222,
              "#7201a8"
             ],
             [
              0.3333333333333333,
              "#9c179e"
             ],
             [
              0.4444444444444444,
              "#bd3786"
             ],
             [
              0.5555555555555556,
              "#d8576b"
             ],
             [
              0.6666666666666666,
              "#ed7953"
             ],
             [
              0.7777777777777778,
              "#fb9f3a"
             ],
             [
              0.8888888888888888,
              "#fdca26"
             ],
             [
              1,
              "#f0f921"
             ]
            ],
            "type": "heatmap"
           }
          ],
          "heatmapgl": [
           {
            "colorbar": {
             "outlinewidth": 0,
             "ticks": ""
            },
            "colorscale": [
             [
              0,
              "#0d0887"
             ],
             [
              0.1111111111111111,
              "#46039f"
             ],
             [
              0.2222222222222222,
              "#7201a8"
             ],
             [
              0.3333333333333333,
              "#9c179e"
             ],
             [
              0.4444444444444444,
              "#bd3786"
             ],
             [
              0.5555555555555556,
              "#d8576b"
             ],
             [
              0.6666666666666666,
              "#ed7953"
             ],
             [
              0.7777777777777778,
              "#fb9f3a"
             ],
             [
              0.8888888888888888,
              "#fdca26"
             ],
             [
              1,
              "#f0f921"
             ]
            ],
            "type": "heatmapgl"
           }
          ],
          "histogram": [
           {
            "marker": {
             "pattern": {
              "fillmode": "overlay",
              "size": 10,
              "solidity": 0.2
             }
            },
            "type": "histogram"
           }
          ],
          "histogram2d": [
           {
            "colorbar": {
             "outlinewidth": 0,
             "ticks": ""
            },
            "colorscale": [
             [
              0,
              "#0d0887"
             ],
             [
              0.1111111111111111,
              "#46039f"
             ],
             [
              0.2222222222222222,
              "#7201a8"
             ],
             [
              0.3333333333333333,
              "#9c179e"
             ],
             [
              0.4444444444444444,
              "#bd3786"
             ],
             [
              0.5555555555555556,
              "#d8576b"
             ],
             [
              0.6666666666666666,
              "#ed7953"
             ],
             [
              0.7777777777777778,
              "#fb9f3a"
             ],
             [
              0.8888888888888888,
              "#fdca26"
             ],
             [
              1,
              "#f0f921"
             ]
            ],
            "type": "histogram2d"
           }
          ],
          "histogram2dcontour": [
           {
            "colorbar": {
             "outlinewidth": 0,
             "ticks": ""
            },
            "colorscale": [
             [
              0,
              "#0d0887"
             ],
             [
              0.1111111111111111,
              "#46039f"
             ],
             [
              0.2222222222222222,
              "#7201a8"
             ],
             [
              0.3333333333333333,
              "#9c179e"
             ],
             [
              0.4444444444444444,
              "#bd3786"
             ],
             [
              0.5555555555555556,
              "#d8576b"
             ],
             [
              0.6666666666666666,
              "#ed7953"
             ],
             [
              0.7777777777777778,
              "#fb9f3a"
             ],
             [
              0.8888888888888888,
              "#fdca26"
             ],
             [
              1,
              "#f0f921"
             ]
            ],
            "type": "histogram2dcontour"
           }
          ],
          "mesh3d": [
           {
            "colorbar": {
             "outlinewidth": 0,
             "ticks": ""
            },
            "type": "mesh3d"
           }
          ],
          "parcoords": [
           {
            "line": {
             "colorbar": {
              "outlinewidth": 0,
              "ticks": ""
             }
            },
            "type": "parcoords"
           }
          ],
          "pie": [
           {
            "automargin": true,
            "type": "pie"
           }
          ],
          "scatter": [
           {
            "fillpattern": {
             "fillmode": "overlay",
             "size": 10,
             "solidity": 0.2
            },
            "type": "scatter"
           }
          ],
          "scatter3d": [
           {
            "line": {
             "colorbar": {
              "outlinewidth": 0,
              "ticks": ""
             }
            },
            "marker": {
             "colorbar": {
              "outlinewidth": 0,
              "ticks": ""
             }
            },
            "type": "scatter3d"
           }
          ],
          "scattercarpet": [
           {
            "marker": {
             "colorbar": {
              "outlinewidth": 0,
              "ticks": ""
             }
            },
            "type": "scattercarpet"
           }
          ],
          "scattergeo": [
           {
            "marker": {
             "colorbar": {
              "outlinewidth": 0,
              "ticks": ""
             }
            },
            "type": "scattergeo"
           }
          ],
          "scattergl": [
           {
            "marker": {
             "colorbar": {
              "outlinewidth": 0,
              "ticks": ""
             }
            },
            "type": "scattergl"
           }
          ],
          "scattermapbox": [
           {
            "marker": {
             "colorbar": {
              "outlinewidth": 0,
              "ticks": ""
             }
            },
            "type": "scattermapbox"
           }
          ],
          "scatterpolar": [
           {
            "marker": {
             "colorbar": {
              "outlinewidth": 0,
              "ticks": ""
             }
            },
            "type": "scatterpolar"
           }
          ],
          "scatterpolargl": [
           {
            "marker": {
             "colorbar": {
              "outlinewidth": 0,
              "ticks": ""
             }
            },
            "type": "scatterpolargl"
           }
          ],
          "scatterternary": [
           {
            "marker": {
             "colorbar": {
              "outlinewidth": 0,
              "ticks": ""
             }
            },
            "type": "scatterternary"
           }
          ],
          "surface": [
           {
            "colorbar": {
             "outlinewidth": 0,
             "ticks": ""
            },
            "colorscale": [
             [
              0,
              "#0d0887"
             ],
             [
              0.1111111111111111,
              "#46039f"
             ],
             [
              0.2222222222222222,
              "#7201a8"
             ],
             [
              0.3333333333333333,
              "#9c179e"
             ],
             [
              0.4444444444444444,
              "#bd3786"
             ],
             [
              0.5555555555555556,
              "#d8576b"
             ],
             [
              0.6666666666666666,
              "#ed7953"
             ],
             [
              0.7777777777777778,
              "#fb9f3a"
             ],
             [
              0.8888888888888888,
              "#fdca26"
             ],
             [
              1,
              "#f0f921"
             ]
            ],
            "type": "surface"
           }
          ],
          "table": [
           {
            "cells": {
             "fill": {
              "color": "#EBF0F8"
             },
             "line": {
              "color": "white"
             }
            },
            "header": {
             "fill": {
              "color": "#C8D4E3"
             },
             "line": {
              "color": "white"
             }
            },
            "type": "table"
           }
          ]
         },
         "layout": {
          "annotationdefaults": {
           "arrowcolor": "#2a3f5f",
           "arrowhead": 0,
           "arrowwidth": 1
          },
          "autotypenumbers": "strict",
          "coloraxis": {
           "colorbar": {
            "outlinewidth": 0,
            "ticks": ""
           }
          },
          "colorscale": {
           "diverging": [
            [
             0,
             "#8e0152"
            ],
            [
             0.1,
             "#c51b7d"
            ],
            [
             0.2,
             "#de77ae"
            ],
            [
             0.3,
             "#f1b6da"
            ],
            [
             0.4,
             "#fde0ef"
            ],
            [
             0.5,
             "#f7f7f7"
            ],
            [
             0.6,
             "#e6f5d0"
            ],
            [
             0.7,
             "#b8e186"
            ],
            [
             0.8,
             "#7fbc41"
            ],
            [
             0.9,
             "#4d9221"
            ],
            [
             1,
             "#276419"
            ]
           ],
           "sequential": [
            [
             0,
             "#0d0887"
            ],
            [
             0.1111111111111111,
             "#46039f"
            ],
            [
             0.2222222222222222,
             "#7201a8"
            ],
            [
             0.3333333333333333,
             "#9c179e"
            ],
            [
             0.4444444444444444,
             "#bd3786"
            ],
            [
             0.5555555555555556,
             "#d8576b"
            ],
            [
             0.6666666666666666,
             "#ed7953"
            ],
            [
             0.7777777777777778,
             "#fb9f3a"
            ],
            [
             0.8888888888888888,
             "#fdca26"
            ],
            [
             1,
             "#f0f921"
            ]
           ],
           "sequentialminus": [
            [
             0,
             "#0d0887"
            ],
            [
             0.1111111111111111,
             "#46039f"
            ],
            [
             0.2222222222222222,
             "#7201a8"
            ],
            [
             0.3333333333333333,
             "#9c179e"
            ],
            [
             0.4444444444444444,
             "#bd3786"
            ],
            [
             0.5555555555555556,
             "#d8576b"
            ],
            [
             0.6666666666666666,
             "#ed7953"
            ],
            [
             0.7777777777777778,
             "#fb9f3a"
            ],
            [
             0.8888888888888888,
             "#fdca26"
            ],
            [
             1,
             "#f0f921"
            ]
           ]
          },
          "colorway": [
           "#636efa",
           "#EF553B",
           "#00cc96",
           "#ab63fa",
           "#FFA15A",
           "#19d3f3",
           "#FF6692",
           "#B6E880",
           "#FF97FF",
           "#FECB52"
          ],
          "font": {
           "color": "#2a3f5f"
          },
          "geo": {
           "bgcolor": "white",
           "lakecolor": "white",
           "landcolor": "#E5ECF6",
           "showlakes": true,
           "showland": true,
           "subunitcolor": "white"
          },
          "hoverlabel": {
           "align": "left"
          },
          "hovermode": "closest",
          "mapbox": {
           "style": "light"
          },
          "paper_bgcolor": "white",
          "plot_bgcolor": "#E5ECF6",
          "polar": {
           "angularaxis": {
            "gridcolor": "white",
            "linecolor": "white",
            "ticks": ""
           },
           "bgcolor": "#E5ECF6",
           "radialaxis": {
            "gridcolor": "white",
            "linecolor": "white",
            "ticks": ""
           }
          },
          "scene": {
           "xaxis": {
            "backgroundcolor": "#E5ECF6",
            "gridcolor": "white",
            "gridwidth": 2,
            "linecolor": "white",
            "showbackground": true,
            "ticks": "",
            "zerolinecolor": "white"
           },
           "yaxis": {
            "backgroundcolor": "#E5ECF6",
            "gridcolor": "white",
            "gridwidth": 2,
            "linecolor": "white",
            "showbackground": true,
            "ticks": "",
            "zerolinecolor": "white"
           },
           "zaxis": {
            "backgroundcolor": "#E5ECF6",
            "gridcolor": "white",
            "gridwidth": 2,
            "linecolor": "white",
            "showbackground": true,
            "ticks": "",
            "zerolinecolor": "white"
           }
          },
          "shapedefaults": {
           "line": {
            "color": "#2a3f5f"
           }
          },
          "ternary": {
           "aaxis": {
            "gridcolor": "white",
            "linecolor": "white",
            "ticks": ""
           },
           "baxis": {
            "gridcolor": "white",
            "linecolor": "white",
            "ticks": ""
           },
           "bgcolor": "#E5ECF6",
           "caxis": {
            "gridcolor": "white",
            "linecolor": "white",
            "ticks": ""
           }
          },
          "title": {
           "x": 0.05
          },
          "xaxis": {
           "automargin": true,
           "gridcolor": "white",
           "linecolor": "white",
           "ticks": "",
           "title": {
            "standoff": 15
           },
           "zerolinecolor": "white",
           "zerolinewidth": 2
          },
          "yaxis": {
           "automargin": true,
           "gridcolor": "white",
           "linecolor": "white",
           "ticks": "",
           "title": {
            "standoff": 15
           },
           "zerolinecolor": "white",
           "zerolinewidth": 2
          }
         }
        },
        "title": {
         "text": "Geluk, Alcoholgebruik en Vrijheid per land"
        },
        "xaxis": {
         "anchor": "y",
         "domain": [
          0,
          1
         ],
         "title": {
          "text": "Gemiddelde geluksscore (0-10)"
         }
        },
        "yaxis": {
         "anchor": "x",
         "domain": [
          0,
          1
         ],
         "title": {
          "text": "Alcoholgebruik per persoon (liter per jaar)"
         }
        }
       }
      }
     },
     "metadata": {},
     "output_type": "display_data"
    }
   ],
   "source": [
    "import pandas as pd\n",
    "import plotly.express as px\n",
    "\n",
    "# Data inladen\n",
    "pad = \"Data/Gecombineerde_dataset_met_extra_vrijheid.csv\"\n",
    "df = pd.read_csv(pad)\n",
    "df.columns = df.columns.str.strip()\n",
    "\n",
    "# Vrijheidsstatus netjes uitschrijven\n",
    "df[\"Vrijheidsstatus duidelijk\"] = df[\"Vrijheidsstatus\"].map({\n",
    "    \"F\": \"Vrij land\",\n",
    "    \"PF\": \"Gedeeltelijk vrij land\",\n",
    "    \"NF\": \"Niet vrij land\"\n",
    "})\n",
    "\n",
    "# Bubbleplot maken, geluk op de x-as\n",
    "fig3 = px.scatter(\n",
    "    df,\n",
    "    x=\"Cantril ladder score\",\n",
    "    y=\"alcohol_consumption\",\n",
    "    size=\"Vrijheidsscore (0-100)\",\n",
    "    color=\"Vrijheidsstatus duidelijk\",\n",
    "    hover_name=\"Entity\",\n",
    "    labels={\n",
    "        \"Cantril ladder score\": \"Gemiddelde geluksscore (0-10)\",\n",
    "        \"alcohol_consumption\": \"Alcoholgebruik per persoon (liter per jaar)\",\n",
    "        \"Vrijheidsscore (0-100)\": \"Vrijheidsscore van het land (0 = niet vrij, 100 = heel vrij)\",\n",
    "        \"Vrijheidsstatus duidelijk\": \"Type land\"\n",
    "    },\n",
    "    title=\"Geluk, Alcoholgebruik en Vrijheid per land\"\n",
    ")\n",
    "\n",
    "fig3.update_traces(marker=dict(sizemode='area', line_width=1, opacity=0.7))\n",
    "\n",
    "fig3.show()\n",
    "fig3.write_html(\"geluk_alcohol_vrijheid.html\")\n"
   ]
  },
  {
   "cell_type": "markdown",
   "id": "3aa41c06",
   "metadata": {},
   "source": [
    "**Visualisatie 2.3**  \n",
    "Deze visualisatie laat zien hoe geluk, alcoholgebruik en vrijheid samenhangen. Elk land is een bubbel: hoe groter de bubbel, hoe meer vrijheid. De kleur geeft aan of een land vrij, gedeeltelijk vrij of niet vrij is.\n",
    "\n",
    "**Wat zien we:**  \n",
    "- In landen met een **hoge vrijheidsscore** (boven de 80) ligt de geluksscore rond de **7,5** en wordt gemiddeld **9** tot **12** liter alcohol per persoon per jaar gedronken.\n",
    "- In **minder vrije landen** (vrijheidsscore onder de 30) ligt het geluk rond de **5,5** en het alcoholgebruik tussen de **3** en **5** liter.\n",
    "\n",
    "Vrijheid beperkt zich niet tot politieke rechten, maar beïnvloedt zichtbaar het dagelijks leven. In vrije landen voelen mensen zich gelukkiger, is er meer ontspanning en sociaal gedrag. Het gaat om samenhang, niet om een oorzakelijk verband.\n"
   ]
  },
  {
   "cell_type": "markdown",
   "id": "af88cf74",
   "metadata": {},
   "source": [
    "## Conclusion\n",
    "Onze analyse laat een herkenbaar patroon zien. In landen waar politieke betrokkenheid hoog is, ligt het gemiddelde geluksniveau lager (visualisatie 2.1). Omgekeerd zien we dat in gelukkige samenlevingen politiek minder centraal staat en er meer ruimte is voor ontspanning en sociaal gedrag, zoals alcoholgebruik (visualisatie 2.2).\n",
    "Vrijheid speelt hierin een sleutelrol. Vrije landen combineren meer geluk met meer sociaal gedrag en minder politieke stress (visualisatie 2.3). Vrijheid is daarmee niet alleen een politiek begrip, maar merkbaar in het dagelijks leven.\n",
    "\n",
    "De cijfers laten zien: vrijheid, ontspanning en geluk gaan vaak hand in hand. Minder vrijheid of politieke onrust hangt samen met minder welzijn en minder ruimte voor ontspanning."
   ]
  }
 ],
 "metadata": {
  "kernelspec": {
   "display_name": "base",
   "language": "python",
   "name": "python3"
  },
  "language_info": {
   "codemirror_mode": {
    "name": "ipython",
    "version": 3
   },
   "file_extension": ".py",
   "mimetype": "text/x-python",
   "name": "python",
   "nbconvert_exporter": "python",
   "pygments_lexer": "ipython3",
   "version": "3.11.5"
  }
 },
 "nbformat": 4,
 "nbformat_minor": 5
}
