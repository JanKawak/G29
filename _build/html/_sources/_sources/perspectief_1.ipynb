{
 "cells": [
  {
   "cell_type": "markdown",
   "id": "1070a738",
   "metadata": {},
   "source": [
    "## Perspectief 1: Waarom investeren in persoonlijke hulpdiensten het meeste geluk oplevert\n",
    "\n",
    "Geluk hangt af van allerlei factoren, zoals inkomen, gezondheid, gezin en werk. Uit onze analyse blijkt dat één specifieke factor extra belangrijk is: *sociale hulpdiensten. Hiermee bedoelen we diensten waarbij mensen persoonlijk geholpen worden door professionals, zoals thuiszorg, psychische hulp (GGZ), coaching bij werkloosheid, kinderopvang en begeleiding in wijken. Deze diensten worden ook *“hulp in natura”** genoemd: mensen krijgen geen geld, maar concrete begeleiding en zorg.\n",
    "\n",
    "We baseren onze analyse op data uit 77 landen tussen 2011 en 2016. Hieronder laten we duidelijk zien waarom investeren in deze diensten zoveel verschil maakt voor het geluk in een land.\n",
    "\n",
    "## Argument 1: Sociale hulpdiensten zorgen voor meer geluk\n"
   ]
  },
  {
   "cell_type": "code",
   "execution_count": null,
   "id": "0ba2237a",
   "metadata": {
    "tags": [
     "hide-input"
    ]
   },
   "outputs": [
    {
     "data": {
      "application/vnd.plotly.v1+json": {
       "config": {
        "plotlyServerURL": "https://plot.ly"
       },
       "data": [
        {
         "colorscale": [
          [
           0,
           "rgb(255,245,240)"
          ],
          [
           0.125,
           "rgb(254,224,210)"
          ],
          [
           0.25,
           "rgb(252,187,161)"
          ],
          [
           0.375,
           "rgb(252,146,114)"
          ],
          [
           0.5,
           "rgb(251,106,74)"
          ],
          [
           0.625,
           "rgb(239,59,44)"
          ],
          [
           0.75,
           "rgb(203,24,29)"
          ],
          [
           0.875,
           "rgb(165,15,21)"
          ],
          [
           1,
           "rgb(103,0,13)"
          ]
         ],
         "hoverinfo": "text",
         "showscale": false,
         "text": [
          [
           "<b>Home-help ben.</b><br>Uitgaven aan thuishulp voor ouderen/zieken.<br><br>Verband: 0.41<br>Hoger → meer geluk",
           "<b>Family allowance</b><br>Kinderbijslag en soortgelijke voordelen, per persoon.<br><br>Verband: 0.44<br>Hoger → meer geluk",
           "<b>Training prog.</b><br>Training- en omscholingsprogramma's, per persoon.<br><br>Verband: 0.46<br>Hoger → meer geluk",
           "<b>Health exp.</b><br>Overheidsuitgaven aan gezondheidszorg, per persoon.<br><br>Verband: 0.52<br>Hoger → meer geluk",
           "<b>Child-care ben.</b><br>Uitgaven aan kinderopvang, per persoon.<br><br>Verband: 0.53<br>Hoger → meer geluk",
           "<b>Housing ben.</b><br>Uitgaven aan huisvestingssteun, per persoon.<br><br>Verband: 0.54<br>Hoger → meer geluk",
           "<b>ALMP programmes</b><br>Actief arbeidsmarktbeleid, zoals training/subsidies.<br><br>Verband: 0.58<br>Hoger → meer geluk",
           "<b>Other soc. exp.</b><br>Overige sociale uitgaven, per persoon.<br><br>Verband: 0.61<br>Hoger → meer geluk",
           "<b>Family ben.</b><br>Overheidsuitgaven aan gezinsvoordelen, per persoon.<br><br>Verband: 0.67<br>Hoger → meer geluk",
           "<b>Incapacity ben.</b><br>Uitgaven aan arbeidsongeschiktheid, per persoon.<br><br>Verband: 0.74<br>Hoger → meer geluk",
           "<b>In-kind soc. exp.</b><br>Sociale uitgaven in natura (zoals gezondheidszorg), per persoon.<br><br>Verband: 0.80<br>Hoger → meer geluk"
          ]
         ],
         "type": "heatmap",
         "x": [
          "Home-help ben.",
          "Family allowance",
          "Training prog.",
          "Health exp.",
          "Child-care ben.",
          "Housing ben.",
          "ALMP programmes",
          "Other soc. exp.",
          "Family ben.",
          "Incapacity ben.",
          "In-kind soc. exp."
         ],
         "y": [
          "Geluksscore"
         ],
         "z": [
          [
           0.41317045941190567,
           0.43777356271861845,
           0.4607879363241751,
           0.5232843965144253,
           0.5281693451077517,
           0.536079909568199,
           0.5753950850713775,
           0.6080222288623351,
           0.666011972710067,
           0.7385113453626762,
           0.8000496939414755
          ]
         ],
         "zmax": 1,
         "zmin": 0
        }
       ],
       "layout": {
        "font": {
         "size": 12
        },
        "height": 300,
        "margin": {
         "b": 120,
         "l": 100,
         "r": 100,
         "t": 100
        },
        "plot_bgcolor": "white",
        "template": {
         "data": {
          "bar": [
           {
            "error_x": {
             "color": "#2a3f5f"
            },
            "error_y": {
             "color": "#2a3f5f"
            },
            "marker": {
             "line": {
              "color": "#E5ECF6",
              "width": 0.5
             },
             "pattern": {
              "fillmode": "overlay",
              "size": 10,
              "solidity": 0.2
             }
            },
            "type": "bar"
           }
          ],
          "barpolar": [
           {
            "marker": {
             "line": {
              "color": "#E5ECF6",
              "width": 0.5
             },
             "pattern": {
              "fillmode": "overlay",
              "size": 10,
              "solidity": 0.2
             }
            },
            "type": "barpolar"
           }
          ],
          "carpet": [
           {
            "aaxis": {
             "endlinecolor": "#2a3f5f",
             "gridcolor": "white",
             "linecolor": "white",
             "minorgridcolor": "white",
             "startlinecolor": "#2a3f5f"
            },
            "baxis": {
             "endlinecolor": "#2a3f5f",
             "gridcolor": "white",
             "linecolor": "white",
             "minorgridcolor": "white",
             "startlinecolor": "#2a3f5f"
            },
            "type": "carpet"
           }
          ],
          "choropleth": [
           {
            "colorbar": {
             "outlinewidth": 0,
             "ticks": ""
            },
            "type": "choropleth"
           }
          ],
          "contour": [
           {
            "colorbar": {
             "outlinewidth": 0,
             "ticks": ""
            },
            "colorscale": [
             [
              0,
              "#0d0887"
             ],
             [
              0.1111111111111111,
              "#46039f"
             ],
             [
              0.2222222222222222,
              "#7201a8"
             ],
             [
              0.3333333333333333,
              "#9c179e"
             ],
             [
              0.4444444444444444,
              "#bd3786"
             ],
             [
              0.5555555555555556,
              "#d8576b"
             ],
             [
              0.6666666666666666,
              "#ed7953"
             ],
             [
              0.7777777777777778,
              "#fb9f3a"
             ],
             [
              0.8888888888888888,
              "#fdca26"
             ],
             [
              1,
              "#f0f921"
             ]
            ],
            "type": "contour"
           }
          ],
          "contourcarpet": [
           {
            "colorbar": {
             "outlinewidth": 0,
             "ticks": ""
            },
            "type": "contourcarpet"
           }
          ],
          "heatmap": [
           {
            "colorbar": {
             "outlinewidth": 0,
             "ticks": ""
            },
            "colorscale": [
             [
              0,
              "#0d0887"
             ],
             [
              0.1111111111111111,
              "#46039f"
             ],
             [
              0.2222222222222222,
              "#7201a8"
             ],
             [
              0.3333333333333333,
              "#9c179e"
             ],
             [
              0.4444444444444444,
              "#bd3786"
             ],
             [
              0.5555555555555556,
              "#d8576b"
             ],
             [
              0.6666666666666666,
              "#ed7953"
             ],
             [
              0.7777777777777778,
              "#fb9f3a"
             ],
             [
              0.8888888888888888,
              "#fdca26"
             ],
             [
              1,
              "#f0f921"
             ]
            ],
            "type": "heatmap"
           }
          ],
          "heatmapgl": [
           {
            "colorbar": {
             "outlinewidth": 0,
             "ticks": ""
            },
            "colorscale": [
             [
              0,
              "#0d0887"
             ],
             [
              0.1111111111111111,
              "#46039f"
             ],
             [
              0.2222222222222222,
              "#7201a8"
             ],
             [
              0.3333333333333333,
              "#9c179e"
             ],
             [
              0.4444444444444444,
              "#bd3786"
             ],
             [
              0.5555555555555556,
              "#d8576b"
             ],
             [
              0.6666666666666666,
              "#ed7953"
             ],
             [
              0.7777777777777778,
              "#fb9f3a"
             ],
             [
              0.8888888888888888,
              "#fdca26"
             ],
             [
              1,
              "#f0f921"
             ]
            ],
            "type": "heatmapgl"
           }
          ],
          "histogram": [
           {
            "marker": {
             "pattern": {
              "fillmode": "overlay",
              "size": 10,
              "solidity": 0.2
             }
            },
            "type": "histogram"
           }
          ],
          "histogram2d": [
           {
            "colorbar": {
             "outlinewidth": 0,
             "ticks": ""
            },
            "colorscale": [
             [
              0,
              "#0d0887"
             ],
             [
              0.1111111111111111,
              "#46039f"
             ],
             [
              0.2222222222222222,
              "#7201a8"
             ],
             [
              0.3333333333333333,
              "#9c179e"
             ],
             [
              0.4444444444444444,
              "#bd3786"
             ],
             [
              0.5555555555555556,
              "#d8576b"
             ],
             [
              0.6666666666666666,
              "#ed7953"
             ],
             [
              0.7777777777777778,
              "#fb9f3a"
             ],
             [
              0.8888888888888888,
              "#fdca26"
             ],
             [
              1,
              "#f0f921"
             ]
            ],
            "type": "histogram2d"
           }
          ],
          "histogram2dcontour": [
           {
            "colorbar": {
             "outlinewidth": 0,
             "ticks": ""
            },
            "colorscale": [
             [
              0,
              "#0d0887"
             ],
             [
              0.1111111111111111,
              "#46039f"
             ],
             [
              0.2222222222222222,
              "#7201a8"
             ],
             [
              0.3333333333333333,
              "#9c179e"
             ],
             [
              0.4444444444444444,
              "#bd3786"
             ],
             [
              0.5555555555555556,
              "#d8576b"
             ],
             [
              0.6666666666666666,
              "#ed7953"
             ],
             [
              0.7777777777777778,
              "#fb9f3a"
             ],
             [
              0.8888888888888888,
              "#fdca26"
             ],
             [
              1,
              "#f0f921"
             ]
            ],
            "type": "histogram2dcontour"
           }
          ],
          "mesh3d": [
           {
            "colorbar": {
             "outlinewidth": 0,
             "ticks": ""
            },
            "type": "mesh3d"
           }
          ],
          "parcoords": [
           {
            "line": {
             "colorbar": {
              "outlinewidth": 0,
              "ticks": ""
             }
            },
            "type": "parcoords"
           }
          ],
          "pie": [
           {
            "automargin": true,
            "type": "pie"
           }
          ],
          "scatter": [
           {
            "fillpattern": {
             "fillmode": "overlay",
             "size": 10,
             "solidity": 0.2
            },
            "type": "scatter"
           }
          ],
          "scatter3d": [
           {
            "line": {
             "colorbar": {
              "outlinewidth": 0,
              "ticks": ""
             }
            },
            "marker": {
             "colorbar": {
              "outlinewidth": 0,
              "ticks": ""
             }
            },
            "type": "scatter3d"
           }
          ],
          "scattercarpet": [
           {
            "marker": {
             "colorbar": {
              "outlinewidth": 0,
              "ticks": ""
             }
            },
            "type": "scattercarpet"
           }
          ],
          "scattergeo": [
           {
            "marker": {
             "colorbar": {
              "outlinewidth": 0,
              "ticks": ""
             }
            },
            "type": "scattergeo"
           }
          ],
          "scattergl": [
           {
            "marker": {
             "colorbar": {
              "outlinewidth": 0,
              "ticks": ""
             }
            },
            "type": "scattergl"
           }
          ],
          "scattermapbox": [
           {
            "marker": {
             "colorbar": {
              "outlinewidth": 0,
              "ticks": ""
             }
            },
            "type": "scattermapbox"
           }
          ],
          "scatterpolar": [
           {
            "marker": {
             "colorbar": {
              "outlinewidth": 0,
              "ticks": ""
             }
            },
            "type": "scatterpolar"
           }
          ],
          "scatterpolargl": [
           {
            "marker": {
             "colorbar": {
              "outlinewidth": 0,
              "ticks": ""
             }
            },
            "type": "scatterpolargl"
           }
          ],
          "scatterternary": [
           {
            "marker": {
             "colorbar": {
              "outlinewidth": 0,
              "ticks": ""
             }
            },
            "type": "scatterternary"
           }
          ],
          "surface": [
           {
            "colorbar": {
             "outlinewidth": 0,
             "ticks": ""
            },
            "colorscale": [
             [
              0,
              "#0d0887"
             ],
             [
              0.1111111111111111,
              "#46039f"
             ],
             [
              0.2222222222222222,
              "#7201a8"
             ],
             [
              0.3333333333333333,
              "#9c179e"
             ],
             [
              0.4444444444444444,
              "#bd3786"
             ],
             [
              0.5555555555555556,
              "#d8576b"
             ],
             [
              0.6666666666666666,
              "#ed7953"
             ],
             [
              0.7777777777777778,
              "#fb9f3a"
             ],
             [
              0.8888888888888888,
              "#fdca26"
             ],
             [
              1,
              "#f0f921"
             ]
            ],
            "type": "surface"
           }
          ],
          "table": [
           {
            "cells": {
             "fill": {
              "color": "#EBF0F8"
             },
             "line": {
              "color": "white"
             }
            },
            "header": {
             "fill": {
              "color": "#C8D4E3"
             },
             "line": {
              "color": "white"
             }
            },
            "type": "table"
           }
          ]
         },
         "layout": {
          "annotationdefaults": {
           "arrowcolor": "#2a3f5f",
           "arrowhead": 0,
           "arrowwidth": 1
          },
          "autotypenumbers": "strict",
          "coloraxis": {
           "colorbar": {
            "outlinewidth": 0,
            "ticks": ""
           }
          },
          "colorscale": {
           "diverging": [
            [
             0,
             "#8e0152"
            ],
            [
             0.1,
             "#c51b7d"
            ],
            [
             0.2,
             "#de77ae"
            ],
            [
             0.3,
             "#f1b6da"
            ],
            [
             0.4,
             "#fde0ef"
            ],
            [
             0.5,
             "#f7f7f7"
            ],
            [
             0.6,
             "#e6f5d0"
            ],
            [
             0.7,
             "#b8e186"
            ],
            [
             0.8,
             "#7fbc41"
            ],
            [
             0.9,
             "#4d9221"
            ],
            [
             1,
             "#276419"
            ]
           ],
           "sequential": [
            [
             0,
             "#0d0887"
            ],
            [
             0.1111111111111111,
             "#46039f"
            ],
            [
             0.2222222222222222,
             "#7201a8"
            ],
            [
             0.3333333333333333,
             "#9c179e"
            ],
            [
             0.4444444444444444,
             "#bd3786"
            ],
            [
             0.5555555555555556,
             "#d8576b"
            ],
            [
             0.6666666666666666,
             "#ed7953"
            ],
            [
             0.7777777777777778,
             "#fb9f3a"
            ],
            [
             0.8888888888888888,
             "#fdca26"
            ],
            [
             1,
             "#f0f921"
            ]
           ],
           "sequentialminus": [
            [
             0,
             "#0d0887"
            ],
            [
             0.1111111111111111,
             "#46039f"
            ],
            [
             0.2222222222222222,
             "#7201a8"
            ],
            [
             0.3333333333333333,
             "#9c179e"
            ],
            [
             0.4444444444444444,
             "#bd3786"
            ],
            [
             0.5555555555555556,
             "#d8576b"
            ],
            [
             0.6666666666666666,
             "#ed7953"
            ],
            [
             0.7777777777777778,
             "#fb9f3a"
            ],
            [
             0.8888888888888888,
             "#fdca26"
            ],
            [
             1,
             "#f0f921"
            ]
           ]
          },
          "colorway": [
           "#636efa",
           "#EF553B",
           "#00cc96",
           "#ab63fa",
           "#FFA15A",
           "#19d3f3",
           "#FF6692",
           "#B6E880",
           "#FF97FF",
           "#FECB52"
          ],
          "font": {
           "color": "#2a3f5f"
          },
          "geo": {
           "bgcolor": "white",
           "lakecolor": "white",
           "landcolor": "#E5ECF6",
           "showlakes": true,
           "showland": true,
           "subunitcolor": "white"
          },
          "hoverlabel": {
           "align": "left"
          },
          "hovermode": "closest",
          "mapbox": {
           "style": "light"
          },
          "paper_bgcolor": "white",
          "plot_bgcolor": "#E5ECF6",
          "polar": {
           "angularaxis": {
            "gridcolor": "white",
            "linecolor": "white",
            "ticks": ""
           },
           "bgcolor": "#E5ECF6",
           "radialaxis": {
            "gridcolor": "white",
            "linecolor": "white",
            "ticks": ""
           }
          },
          "scene": {
           "xaxis": {
            "backgroundcolor": "#E5ECF6",
            "gridcolor": "white",
            "gridwidth": 2,
            "linecolor": "white",
            "showbackground": true,
            "ticks": "",
            "zerolinecolor": "white"
           },
           "yaxis": {
            "backgroundcolor": "#E5ECF6",
            "gridcolor": "white",
            "gridwidth": 2,
            "linecolor": "white",
            "showbackground": true,
            "ticks": "",
            "zerolinecolor": "white"
           },
           "zaxis": {
            "backgroundcolor": "#E5ECF6",
            "gridcolor": "white",
            "gridwidth": 2,
            "linecolor": "white",
            "showbackground": true,
            "ticks": "",
            "zerolinecolor": "white"
           }
          },
          "shapedefaults": {
           "line": {
            "color": "#2a3f5f"
           }
          },
          "ternary": {
           "aaxis": {
            "gridcolor": "white",
            "linecolor": "white",
            "ticks": ""
           },
           "baxis": {
            "gridcolor": "white",
            "linecolor": "white",
            "ticks": ""
           },
           "bgcolor": "#E5ECF6",
           "caxis": {
            "gridcolor": "white",
            "linecolor": "white",
            "ticks": ""
           }
          },
          "title": {
           "x": 0.05
          },
          "xaxis": {
           "automargin": true,
           "gridcolor": "white",
           "linecolor": "white",
           "ticks": "",
           "title": {
            "standoff": 15
           },
           "zerolinecolor": "white",
           "zerolinewidth": 2
          },
          "yaxis": {
           "automargin": true,
           "gridcolor": "white",
           "linecolor": "white",
           "ticks": "",
           "title": {
            "standoff": 15
           },
           "zerolinecolor": "white",
           "zerolinewidth": 2
          }
         }
        },
        "title": {
         "text": "Sterkte van positieve verbanden tussen overheidsuitgaven en geluk"
        },
        "width": 1100,
        "xaxis": {
         "tickangle": -45,
         "title": {
          "text": "Soort overheidsuitgave (oplopend verband)"
         }
        }
       }
      }
     },
     "metadata": {},
     "output_type": "display_data"
    }
   ],
   "source": [
    "import pandas as pd\n",
    "import numpy as np\n",
    "from scipy.stats import pearsonr\n",
    "import plotly.graph_objects as go\n",
    "\n",
    "# ───── 1. Data inlezen ──────────────────────────────────────\n",
    "MENTAL_CSV = \"Data/mental_welfare_dataset.csv\"\n",
    "CPDS_CSV   = \"Data/cpds-1960-2022-update-2024-2.csv\"\n",
    "\n",
    "mental = pd.read_csv(MENTAL_CSV).rename(columns={\"Unnamed: 0\": \"drop\"}, errors=\"ignore\")\n",
    "cpds = pd.read_csv(CPDS_CSV)\n",
    "cpds.columns = [c.lower() for c in cpds.columns]\n",
    "\n",
    "# ───── 2. Harmonisatie ──────────────────────────────────────\n",
    "rename = {\"United States of America\": \"United States\",\n",
    "          \"Czech Republic\": \"Czechia\", \"Russian Federation\": \"Russia\"}\n",
    "for d in (mental, cpds):\n",
    "    d[\"country\"] = d[\"country\"].replace(rename)\n",
    "\n",
    "mental.rename(columns={\"life_ladder\": \"ladder\"}, inplace=True)\n",
    "\n",
    "# ───── 3. Variabelen ────────────────────────────────────────\n",
    "social_vars_all = [s.lower() for s in [\n",
    "    \"sstran\", \"socexp_t_pmp\", \"socexp_c_pmp\", \"socexp_k_pmp\",\n",
    "    \"oldage_pmp\", \"survivor_pmp\", \"incapben_pmp\", \"health_pmp\",\n",
    "    \"family_pmp\", \"fallow_pmp\", \"mpleave_pmp\", \"childcare_pmp\",\n",
    "    \"homehelp_pmp\", \"unemp_pmp\", \"almp_pmp\", \"training_pmp\",\n",
    "    \"housing_pmp\", \"othsocx_pmp\"\n",
    "]]\n",
    "social_vars = [v for v in social_vars_all if v in cpds.columns]\n",
    "\n",
    "# ───── 4. Merge ─────────────────────────────────────────────\n",
    "merged = mental.merge(cpds[[\"country\", \"year\"] + social_vars],\n",
    "                      on=[\"country\", \"year\"], how=\"inner\").dropna()\n",
    "\n",
    "# ───── 5. Correlatie berekenen en filteren ──────────────────\n",
    "r_values = []\n",
    "filtered_vars = []\n",
    "for s in social_vars:\n",
    "    r = pearsonr(merged[\"ladder\"], merged[s])[0]\n",
    "    if r >= 0.4:  # Alleen positieve verbanden >= 0.4\n",
    "        r_values.append(r)\n",
    "        filtered_vars.append(s)\n",
    "\n",
    "# ───── 6. Labels en uitleg ─────────────────────────────────\n",
    "soc_lbl = {\n",
    "    \"sstran\": \"Soc. transfers %GDP\",\n",
    "    \"socexp_t_pmp\": \"Total soc. exp.\",\n",
    "    \"socexp_c_pmp\": \"Cash soc. exp.\",\n",
    "    \"socexp_k_pmp\": \"In-kind soc. exp.\",\n",
    "    \"oldage_pmp\": \"Old-age ben.\",\n",
    "    \"survivor_pmp\": \"Survivor ben.\",\n",
    "    \"incapben_pmp\": \"Incapacity ben.\",\n",
    "    \"health_pmp\": \"Health exp.\",\n",
    "    \"family_pmp\": \"Family ben.\",\n",
    "    \"fallow_pmp\": \"Family allowance\",\n",
    "    \"mpleave_pmp\": \"Mat./Pat. leave\",\n",
    "    \"childcare_pmp\": \"Child-care ben.\",\n",
    "    \"homehelp_pmp\": \"Home-help ben.\",\n",
    "    \"unemp_pmp\": \"Unemployment ben.\",\n",
    "    \"almp_pmp\": \"ALMP programmes\",\n",
    "    \"training_pmp\": \"Training prog.\",\n",
    "    \"housing_pmp\": \"Housing ben.\",\n",
    "    \"othsocx_pmp\": \"Other soc. exp.\"\n",
    "}\n",
    "\n",
    "soc_expl = {\n",
    "    \"sstran\": \"Overheidsuitgaven aan sociale transfers als % van het BBP.\",\n",
    "    \"socexp_t_pmp\": \"Totale sociale overheidsuitgaven per hoofd van de bevolking.\",\n",
    "    \"socexp_c_pmp\": \"Sociale uitgaven in geld, per persoon.\",\n",
    "    \"socexp_k_pmp\": \"Sociale uitgaven in natura (zoals gezondheidszorg), per persoon.\",\n",
    "    \"oldage_pmp\": \"Overheidsuitgaven aan pensioenen, per persoon.\",\n",
    "    \"survivor_pmp\": \"Uitgaven aan nabestaanden, per persoon.\",\n",
    "    \"incapben_pmp\": \"Uitgaven aan arbeidsongeschiktheid, per persoon.\",\n",
    "    \"health_pmp\": \"Overheidsuitgaven aan gezondheidszorg, per persoon.\",\n",
    "    \"family_pmp\": \"Overheidsuitgaven aan gezinsvoordelen, per persoon.\",\n",
    "    \"fallow_pmp\": \"Kinderbijslag en soortgelijke voordelen, per persoon.\",\n",
    "    \"mpleave_pmp\": \"Uitgaven aan ouderschapsverlof, per persoon.\",\n",
    "    \"childcare_pmp\": \"Uitgaven aan kinderopvang, per persoon.\",\n",
    "    \"homehelp_pmp\": \"Uitgaven aan thuishulp voor ouderen/zieken.\",\n",
    "    \"unemp_pmp\": \"Uitgaven aan werkloosheidsuitkeringen, per persoon.\",\n",
    "    \"almp_pmp\": \"Actief arbeidsmarktbeleid, zoals training/subsidies.\",\n",
    "    \"training_pmp\": \"Training- en omscholingsprogramma's, per persoon.\",\n",
    "    \"housing_pmp\": \"Uitgaven aan huisvestingssteun, per persoon.\",\n",
    "    \"othsocx_pmp\": \"Overige sociale uitgaven, per persoon.\"\n",
    "}\n",
    "\n",
    "col_labels = [soc_lbl.get(s, s) for s in filtered_vars]\n",
    "\n",
    "# ───── 7. Sorting toepassen ─────────────────────────────────\n",
    "combined = sorted(zip(col_labels, r_values, filtered_vars), key=lambda x: x[1])\n",
    "col_labels_sorted = [x[0] for x in combined]\n",
    "r_values_sorted = [x[1] for x in combined]\n",
    "filtered_vars_sorted = [x[2] for x in combined]\n",
    "\n",
    "# ───── 8. Hovertekst opnieuw genereren ──────────────────────\n",
    "hover_text_sorted = []\n",
    "for i in range(len(r_values_sorted)):\n",
    "    uitleg = soc_expl.get(filtered_vars_sorted[i], \"\")\n",
    "    tekst = (\n",
    "        f\"<b>{col_labels_sorted[i]}</b><br>\"\n",
    "        f\"{uitleg}<br><br>\"\n",
    "        f\"Verband: {r_values_sorted[i]:.2f}<br>\"\n",
    "        f\"Hoger → meer geluk\"\n",
    "    )\n",
    "    hover_text_sorted.append(tekst)\n",
    "\n",
    "# ───── 9. Heatmap tekenen ───────────────────────────────────\n",
    "fig = go.Figure()\n",
    "\n",
    "fig.add_trace(go.Heatmap(\n",
    "    z=[r_values_sorted],\n",
    "    x=col_labels_sorted,\n",
    "    y=[\"Geluksscore\"],\n",
    "    colorscale='reds',\n",
    "    zmin=0,\n",
    "    zmax=1,\n",
    "    text=[hover_text_sorted],\n",
    "    hoverinfo=\"text\",\n",
    "    showscale=False  # Geen kleurbar\n",
    "))\n",
    "\n",
    "fig.update_layout(\n",
    "    title=\"Sterkte van positieve verbanden tussen overheidsuitgaven en geluk\",\n",
    "    xaxis_title=\"Soort overheidsuitgave (oplopend verband)\",\n",
    "    xaxis_tickangle=-45,\n",
    "    width=1100,\n",
    "    height=300,\n",
    "    font=dict(size=12),\n",
    "    plot_bgcolor='white',\n",
    "    margin=dict(l=100, r=100, t=100, b=120)\n",
    ")\n",
    "\n",
    "fig.show()\n"
   ]
  },
  {
   "cell_type": "markdown",
   "id": "45ee8a6b",
   "metadata": {},
   "source": [
    "**Visualisatie 1.1**  \n",
    "Deze heatmap vergelijkt elf soorten sociale uitgaven met het geluk in verschillende landen. Hoe donkerder rood, hoe sterker het verband met geluk.\n",
    "\n",
    "*Wat zien we in deze heatmap?*\n",
    "Het vakje voor sociale hulpdiensten (in-natura social expenditure) kleurt duidelijk het donkerst rood. De correlatie met geluk is uitzonderlijk hoog (Pierson-correlatie = 0,80). Andere categorieën, zoals uitkeringen of pensioenen, zijn zichtbaar lichter en hebben dus een minder sterke relatie met geluk.\n",
    "Kort gezegd: van alle soorten sociale uitgaven leidt investeren in persoonlijke hulpdiensten het duidelijkst tot meer geluk.\n",
    "\n",
    "\n",
    "## Argument 2: Hoe meer hulpdiensten, hoe hoger het geluk en hoe lager het suïcidecijfer\n",
    "\n"
   ]
  },
  {
   "cell_type": "code",
   "execution_count": 4,
   "id": "fed1a327",
   "metadata": {
    "tags": [
     "hide-input"
    ]
   },
   "outputs": [
    {
     "data": {
      "application/vnd.plotly.v1+json": {
       "config": {
        "plotlyServerURL": "https://plot.ly"
       },
       "data": [
        {
         "hovertemplate": "<b>Land:</b> %{text}<br>Sociale uitgaven in natura: %{x:.2f}% van BBP<br>Waarde: %{y:.2f}<extra></extra>",
         "marker": {
          "color": "steelblue",
          "line": {
           "color": "black",
           "width": 1
          },
          "size": 10
         },
         "mode": "markers",
         "name": "Landen",
         "text": [
          "Australia",
          "Austria",
          "Belgium",
          "Bulgaria",
          "Canada",
          "Croatia",
          "Cyprus",
          "Denmark",
          "Estonia",
          "Finland",
          "France",
          "Germany",
          "Greece",
          "Hungary",
          "Iceland",
          "Ireland",
          "Italy",
          "Japan",
          "Latvia",
          "Lithuania",
          "Luxembourg",
          "Malta",
          "Netherlands",
          "New Zealand",
          "Norway",
          "Poland",
          "Portugal",
          "Romania",
          "Slovakia",
          "Slovenia",
          "Spain",
          "Sweden",
          "Switzerland",
          "United Kingdom"
         ],
         "type": "scatter",
         "x": [
          8.382,
          8.827,
          9.552,
          5,
          8.231,
          7,
          3.9,
          14.79,
          5.112,
          10.695,
          11.372,
          11.004,
          6.299,
          7.074,
          11.148,
          9.528,
          7.634,
          10.085,
          3.8,
          4.9,
          6.371,
          6,
          11.072,
          12.014,
          10.081,
          5.412,
          6.501,
          4.3,
          6.633,
          7.436,
          8.536,
          13.489,
          8.421,
          11.919
         ],
         "y": [
          0.1485022322244458,
          0.6891352566183621,
          1.196953912553565,
          0.2036941773024356,
          0.1143125886301742,
          1.159223374058016,
          -0.9682959841013355,
          0.2054358406728679,
          1.1296074441340225,
          0.8618255856113766,
          0.7540174974756372,
          0.2146364719350434,
          -0.9106423089340052,
          1.984342575935428,
          0.1919250431400415,
          0.2487598978224411,
          -0.5239194748427758,
          1.5457995187915063,
          1.7152506157169645,
          3.1143153328984057,
          -0.1360637547508574,
          -0.7019738250285713,
          -0.0048995391580191,
          0.3183241350754509,
          -0.0257263397619505,
          0.9484975740570418,
          -0.0566078296145077,
          0.2865925692359775,
          0.005629596723595,
          1.660839521980356,
          -0.4531025390200654,
          0.2566051526037513,
          0.3679581908464604,
          -0.531516020569595
         ]
        },
        {
         "line": {
          "color": "red",
          "dash": "dash"
         },
         "mode": "lines",
         "name": "Trendlijn",
         "type": "scatter",
         "x": [
          3.8,
          3.911010101010101,
          4.022020202020202,
          4.133030303030303,
          4.244040404040404,
          4.355050505050505,
          4.466060606060606,
          4.577070707070707,
          4.688080808080808,
          4.799090909090909,
          4.91010101010101,
          5.021111111111111,
          5.132121212121212,
          5.243131313131313,
          5.354141414141414,
          5.465151515151515,
          5.576161616161616,
          5.687171717171717,
          5.798181818181818,
          5.909191919191919,
          6.020202020202019,
          6.131212121212121,
          6.242222222222221,
          6.353232323232323,
          6.464242424242423,
          6.575252525252525,
          6.686262626262625,
          6.797272727272727,
          6.908282828282827,
          7.019292929292929,
          7.130303030303029,
          7.241313131313131,
          7.352323232323231,
          7.463333333333333,
          7.574343434343433,
          7.685353535353535,
          7.796363636363635,
          7.907373737373736,
          8.018383838383837,
          8.129393939393939,
          8.240404040404039,
          8.35141414141414,
          8.462424242424241,
          8.573434343434343,
          8.684444444444443,
          8.795454545454543,
          8.906464646464645,
          9.017474747474747,
          9.128484848484847,
          9.239494949494947,
          9.350505050505049,
          9.461515151515151,
          9.572525252525251,
          9.683535353535351,
          9.794545454545453,
          9.905555555555555,
          10.016565656565655,
          10.127575757575755,
          10.238585858585857,
          10.349595959595959,
          10.46060606060606,
          10.57161616161616,
          10.682626262626261,
          10.793636363636363,
          10.904646464646463,
          11.015656565656563,
          11.126666666666665,
          11.237676767676767,
          11.348686868686867,
          11.459696969696967,
          11.57070707070707,
          11.681717171717171,
          11.792727272727271,
          11.903737373737371,
          12.014747474747473,
          12.125757575757575,
          12.236767676767673,
          12.347777777777775,
          12.458787878787877,
          12.569797979797979,
          12.680808080808077,
          12.79181818181818,
          12.902828282828281,
          13.013838383838383,
          13.124848484848481,
          13.235858585858583,
          13.346868686868685,
          13.457878787878787,
          13.568888888888885,
          13.679898989898987,
          13.79090909090909,
          13.901919191919191,
          14.01292929292929,
          14.123939393939391,
          14.234949494949493,
          14.345959595959595,
          14.456969696969693,
          14.567979797979795,
          14.678989898989897,
          14.79
         ],
         "y": [
          0.6351712738342363,
          0.630402391731736,
          0.6256335096292355,
          0.6208646275267351,
          0.6160957454242346,
          0.6113268633217342,
          0.6065579812192338,
          0.6017890991167334,
          0.5970202170142329,
          0.5922513349117325,
          0.5874824528092321,
          0.5827135707067317,
          0.5779446886042312,
          0.5731758065017308,
          0.5684069243992304,
          0.56363804229673,
          0.5588691601942295,
          0.5541002780917291,
          0.5493313959892286,
          0.5445625138867283,
          0.5397936317842278,
          0.5350247496817274,
          0.530255867579227,
          0.5254869854767266,
          0.5207181033742261,
          0.5159492212717257,
          0.5111803391692253,
          0.5064114570667249,
          0.5016425749642244,
          0.496873692861724,
          0.4921048107592236,
          0.48733592865672315,
          0.4825670465542227,
          0.4777981644517223,
          0.47302928234922187,
          0.46826040024672144,
          0.463491518144221,
          0.4587226360417206,
          0.45395375393922016,
          0.44918487183671973,
          0.4444159897342193,
          0.43964710763171894,
          0.43487822552921845,
          0.430109343426718,
          0.4253404613242176,
          0.42057157922171723,
          0.41580269711921675,
          0.4110338150167163,
          0.4062649329142159,
          0.4014960508117155,
          0.39672716870921504,
          0.3919582866067146,
          0.3871894045042142,
          0.3824205224017138,
          0.37765164029921333,
          0.37288275819671285,
          0.3681138760942125,
          0.3633449939917121,
          0.3585761118892116,
          0.35380722978671114,
          0.34903834768421077,
          0.3442694655817104,
          0.3395005834792099,
          0.33473170137670943,
          0.32996281927420906,
          0.3251939371717087,
          0.3204250550692082,
          0.3156561729667077,
          0.31088729086420736,
          0.306118408761707,
          0.3013495266592065,
          0.2965806445567061,
          0.2918117624542057,
          0.2870428803517052,
          0.28227399824920485,
          0.27750511614670437,
          0.272736234044204,
          0.2679673519417035,
          0.26319846983920314,
          0.25842958773670266,
          0.2536607056342023,
          0.2488918235317018,
          0.24412294142920143,
          0.23935405932670095,
          0.23458517722420058,
          0.2298162951217001,
          0.22504741301919973,
          0.22027853091669924,
          0.21550964881419887,
          0.2107407667116984,
          0.20597188460919802,
          0.20120300250669754,
          0.19643412040419717,
          0.19166523830169668,
          0.1868963561991963,
          0.18212747409669583,
          0.17735859199419546,
          0.17258970989169498,
          0.1678208277891946,
          0.16305194568669412
         ]
        }
       ],
       "layout": {
        "template": {
         "data": {
          "bar": [
           {
            "error_x": {
             "color": "rgb(36,36,36)"
            },
            "error_y": {
             "color": "rgb(36,36,36)"
            },
            "marker": {
             "line": {
              "color": "white",
              "width": 0.5
             },
             "pattern": {
              "fillmode": "overlay",
              "size": 10,
              "solidity": 0.2
             }
            },
            "type": "bar"
           }
          ],
          "barpolar": [
           {
            "marker": {
             "line": {
              "color": "white",
              "width": 0.5
             },
             "pattern": {
              "fillmode": "overlay",
              "size": 10,
              "solidity": 0.2
             }
            },
            "type": "barpolar"
           }
          ],
          "carpet": [
           {
            "aaxis": {
             "endlinecolor": "rgb(36,36,36)",
             "gridcolor": "white",
             "linecolor": "white",
             "minorgridcolor": "white",
             "startlinecolor": "rgb(36,36,36)"
            },
            "baxis": {
             "endlinecolor": "rgb(36,36,36)",
             "gridcolor": "white",
             "linecolor": "white",
             "minorgridcolor": "white",
             "startlinecolor": "rgb(36,36,36)"
            },
            "type": "carpet"
           }
          ],
          "choropleth": [
           {
            "colorbar": {
             "outlinewidth": 1,
             "tickcolor": "rgb(36,36,36)",
             "ticks": "outside"
            },
            "type": "choropleth"
           }
          ],
          "contour": [
           {
            "colorbar": {
             "outlinewidth": 1,
             "tickcolor": "rgb(36,36,36)",
             "ticks": "outside"
            },
            "colorscale": [
             [
              0,
              "#440154"
             ],
             [
              0.1111111111111111,
              "#482878"
             ],
             [
              0.2222222222222222,
              "#3e4989"
             ],
             [
              0.3333333333333333,
              "#31688e"
             ],
             [
              0.4444444444444444,
              "#26828e"
             ],
             [
              0.5555555555555556,
              "#1f9e89"
             ],
             [
              0.6666666666666666,
              "#35b779"
             ],
             [
              0.7777777777777778,
              "#6ece58"
             ],
             [
              0.8888888888888888,
              "#b5de2b"
             ],
             [
              1,
              "#fde725"
             ]
            ],
            "type": "contour"
           }
          ],
          "contourcarpet": [
           {
            "colorbar": {
             "outlinewidth": 1,
             "tickcolor": "rgb(36,36,36)",
             "ticks": "outside"
            },
            "type": "contourcarpet"
           }
          ],
          "heatmap": [
           {
            "colorbar": {
             "outlinewidth": 1,
             "tickcolor": "rgb(36,36,36)",
             "ticks": "outside"
            },
            "colorscale": [
             [
              0,
              "#440154"
             ],
             [
              0.1111111111111111,
              "#482878"
             ],
             [
              0.2222222222222222,
              "#3e4989"
             ],
             [
              0.3333333333333333,
              "#31688e"
             ],
             [
              0.4444444444444444,
              "#26828e"
             ],
             [
              0.5555555555555556,
              "#1f9e89"
             ],
             [
              0.6666666666666666,
              "#35b779"
             ],
             [
              0.7777777777777778,
              "#6ece58"
             ],
             [
              0.8888888888888888,
              "#b5de2b"
             ],
             [
              1,
              "#fde725"
             ]
            ],
            "type": "heatmap"
           }
          ],
          "heatmapgl": [
           {
            "colorbar": {
             "outlinewidth": 1,
             "tickcolor": "rgb(36,36,36)",
             "ticks": "outside"
            },
            "colorscale": [
             [
              0,
              "#440154"
             ],
             [
              0.1111111111111111,
              "#482878"
             ],
             [
              0.2222222222222222,
              "#3e4989"
             ],
             [
              0.3333333333333333,
              "#31688e"
             ],
             [
              0.4444444444444444,
              "#26828e"
             ],
             [
              0.5555555555555556,
              "#1f9e89"
             ],
             [
              0.6666666666666666,
              "#35b779"
             ],
             [
              0.7777777777777778,
              "#6ece58"
             ],
             [
              0.8888888888888888,
              "#b5de2b"
             ],
             [
              1,
              "#fde725"
             ]
            ],
            "type": "heatmapgl"
           }
          ],
          "histogram": [
           {
            "marker": {
             "line": {
              "color": "white",
              "width": 0.6
             }
            },
            "type": "histogram"
           }
          ],
          "histogram2d": [
           {
            "colorbar": {
             "outlinewidth": 1,
             "tickcolor": "rgb(36,36,36)",
             "ticks": "outside"
            },
            "colorscale": [
             [
              0,
              "#440154"
             ],
             [
              0.1111111111111111,
              "#482878"
             ],
             [
              0.2222222222222222,
              "#3e4989"
             ],
             [
              0.3333333333333333,
              "#31688e"
             ],
             [
              0.4444444444444444,
              "#26828e"
             ],
             [
              0.5555555555555556,
              "#1f9e89"
             ],
             [
              0.6666666666666666,
              "#35b779"
             ],
             [
              0.7777777777777778,
              "#6ece58"
             ],
             [
              0.8888888888888888,
              "#b5de2b"
             ],
             [
              1,
              "#fde725"
             ]
            ],
            "type": "histogram2d"
           }
          ],
          "histogram2dcontour": [
           {
            "colorbar": {
             "outlinewidth": 1,
             "tickcolor": "rgb(36,36,36)",
             "ticks": "outside"
            },
            "colorscale": [
             [
              0,
              "#440154"
             ],
             [
              0.1111111111111111,
              "#482878"
             ],
             [
              0.2222222222222222,
              "#3e4989"
             ],
             [
              0.3333333333333333,
              "#31688e"
             ],
             [
              0.4444444444444444,
              "#26828e"
             ],
             [
              0.5555555555555556,
              "#1f9e89"
             ],
             [
              0.6666666666666666,
              "#35b779"
             ],
             [
              0.7777777777777778,
              "#6ece58"
             ],
             [
              0.8888888888888888,
              "#b5de2b"
             ],
             [
              1,
              "#fde725"
             ]
            ],
            "type": "histogram2dcontour"
           }
          ],
          "mesh3d": [
           {
            "colorbar": {
             "outlinewidth": 1,
             "tickcolor": "rgb(36,36,36)",
             "ticks": "outside"
            },
            "type": "mesh3d"
           }
          ],
          "parcoords": [
           {
            "line": {
             "colorbar": {
              "outlinewidth": 1,
              "tickcolor": "rgb(36,36,36)",
              "ticks": "outside"
             }
            },
            "type": "parcoords"
           }
          ],
          "pie": [
           {
            "automargin": true,
            "type": "pie"
           }
          ],
          "scatter": [
           {
            "fillpattern": {
             "fillmode": "overlay",
             "size": 10,
             "solidity": 0.2
            },
            "type": "scatter"
           }
          ],
          "scatter3d": [
           {
            "line": {
             "colorbar": {
              "outlinewidth": 1,
              "tickcolor": "rgb(36,36,36)",
              "ticks": "outside"
             }
            },
            "marker": {
             "colorbar": {
              "outlinewidth": 1,
              "tickcolor": "rgb(36,36,36)",
              "ticks": "outside"
             }
            },
            "type": "scatter3d"
           }
          ],
          "scattercarpet": [
           {
            "marker": {
             "colorbar": {
              "outlinewidth": 1,
              "tickcolor": "rgb(36,36,36)",
              "ticks": "outside"
             }
            },
            "type": "scattercarpet"
           }
          ],
          "scattergeo": [
           {
            "marker": {
             "colorbar": {
              "outlinewidth": 1,
              "tickcolor": "rgb(36,36,36)",
              "ticks": "outside"
             }
            },
            "type": "scattergeo"
           }
          ],
          "scattergl": [
           {
            "marker": {
             "colorbar": {
              "outlinewidth": 1,
              "tickcolor": "rgb(36,36,36)",
              "ticks": "outside"
             }
            },
            "type": "scattergl"
           }
          ],
          "scattermapbox": [
           {
            "marker": {
             "colorbar": {
              "outlinewidth": 1,
              "tickcolor": "rgb(36,36,36)",
              "ticks": "outside"
             }
            },
            "type": "scattermapbox"
           }
          ],
          "scatterpolar": [
           {
            "marker": {
             "colorbar": {
              "outlinewidth": 1,
              "tickcolor": "rgb(36,36,36)",
              "ticks": "outside"
             }
            },
            "type": "scatterpolar"
           }
          ],
          "scatterpolargl": [
           {
            "marker": {
             "colorbar": {
              "outlinewidth": 1,
              "tickcolor": "rgb(36,36,36)",
              "ticks": "outside"
             }
            },
            "type": "scatterpolargl"
           }
          ],
          "scatterternary": [
           {
            "marker": {
             "colorbar": {
              "outlinewidth": 1,
              "tickcolor": "rgb(36,36,36)",
              "ticks": "outside"
             }
            },
            "type": "scatterternary"
           }
          ],
          "surface": [
           {
            "colorbar": {
             "outlinewidth": 1,
             "tickcolor": "rgb(36,36,36)",
             "ticks": "outside"
            },
            "colorscale": [
             [
              0,
              "#440154"
             ],
             [
              0.1111111111111111,
              "#482878"
             ],
             [
              0.2222222222222222,
              "#3e4989"
             ],
             [
              0.3333333333333333,
              "#31688e"
             ],
             [
              0.4444444444444444,
              "#26828e"
             ],
             [
              0.5555555555555556,
              "#1f9e89"
             ],
             [
              0.6666666666666666,
              "#35b779"
             ],
             [
              0.7777777777777778,
              "#6ece58"
             ],
             [
              0.8888888888888888,
              "#b5de2b"
             ],
             [
              1,
              "#fde725"
             ]
            ],
            "type": "surface"
           }
          ],
          "table": [
           {
            "cells": {
             "fill": {
              "color": "rgb(237,237,237)"
             },
             "line": {
              "color": "white"
             }
            },
            "header": {
             "fill": {
              "color": "rgb(217,217,217)"
             },
             "line": {
              "color": "white"
             }
            },
            "type": "table"
           }
          ]
         },
         "layout": {
          "annotationdefaults": {
           "arrowhead": 0,
           "arrowwidth": 1
          },
          "autotypenumbers": "strict",
          "coloraxis": {
           "colorbar": {
            "outlinewidth": 1,
            "tickcolor": "rgb(36,36,36)",
            "ticks": "outside"
           }
          },
          "colorscale": {
           "diverging": [
            [
             0,
             "rgb(103,0,31)"
            ],
            [
             0.1,
             "rgb(178,24,43)"
            ],
            [
             0.2,
             "rgb(214,96,77)"
            ],
            [
             0.3,
             "rgb(244,165,130)"
            ],
            [
             0.4,
             "rgb(253,219,199)"
            ],
            [
             0.5,
             "rgb(247,247,247)"
            ],
            [
             0.6,
             "rgb(209,229,240)"
            ],
            [
             0.7,
             "rgb(146,197,222)"
            ],
            [
             0.8,
             "rgb(67,147,195)"
            ],
            [
             0.9,
             "rgb(33,102,172)"
            ],
            [
             1,
             "rgb(5,48,97)"
            ]
           ],
           "sequential": [
            [
             0,
             "#440154"
            ],
            [
             0.1111111111111111,
             "#482878"
            ],
            [
             0.2222222222222222,
             "#3e4989"
            ],
            [
             0.3333333333333333,
             "#31688e"
            ],
            [
             0.4444444444444444,
             "#26828e"
            ],
            [
             0.5555555555555556,
             "#1f9e89"
            ],
            [
             0.6666666666666666,
             "#35b779"
            ],
            [
             0.7777777777777778,
             "#6ece58"
            ],
            [
             0.8888888888888888,
             "#b5de2b"
            ],
            [
             1,
             "#fde725"
            ]
           ],
           "sequentialminus": [
            [
             0,
             "#440154"
            ],
            [
             0.1111111111111111,
             "#482878"
            ],
            [
             0.2222222222222222,
             "#3e4989"
            ],
            [
             0.3333333333333333,
             "#31688e"
            ],
            [
             0.4444444444444444,
             "#26828e"
            ],
            [
             0.5555555555555556,
             "#1f9e89"
            ],
            [
             0.6666666666666666,
             "#35b779"
            ],
            [
             0.7777777777777778,
             "#6ece58"
            ],
            [
             0.8888888888888888,
             "#b5de2b"
            ],
            [
             1,
             "#fde725"
            ]
           ]
          },
          "colorway": [
           "#1F77B4",
           "#FF7F0E",
           "#2CA02C",
           "#D62728",
           "#9467BD",
           "#8C564B",
           "#E377C2",
           "#7F7F7F",
           "#BCBD22",
           "#17BECF"
          ],
          "font": {
           "color": "rgb(36,36,36)"
          },
          "geo": {
           "bgcolor": "white",
           "lakecolor": "white",
           "landcolor": "white",
           "showlakes": true,
           "showland": true,
           "subunitcolor": "white"
          },
          "hoverlabel": {
           "align": "left"
          },
          "hovermode": "closest",
          "mapbox": {
           "style": "light"
          },
          "paper_bgcolor": "white",
          "plot_bgcolor": "white",
          "polar": {
           "angularaxis": {
            "gridcolor": "rgb(232,232,232)",
            "linecolor": "rgb(36,36,36)",
            "showgrid": false,
            "showline": true,
            "ticks": "outside"
           },
           "bgcolor": "white",
           "radialaxis": {
            "gridcolor": "rgb(232,232,232)",
            "linecolor": "rgb(36,36,36)",
            "showgrid": false,
            "showline": true,
            "ticks": "outside"
           }
          },
          "scene": {
           "xaxis": {
            "backgroundcolor": "white",
            "gridcolor": "rgb(232,232,232)",
            "gridwidth": 2,
            "linecolor": "rgb(36,36,36)",
            "showbackground": true,
            "showgrid": false,
            "showline": true,
            "ticks": "outside",
            "zeroline": false,
            "zerolinecolor": "rgb(36,36,36)"
           },
           "yaxis": {
            "backgroundcolor": "white",
            "gridcolor": "rgb(232,232,232)",
            "gridwidth": 2,
            "linecolor": "rgb(36,36,36)",
            "showbackground": true,
            "showgrid": false,
            "showline": true,
            "ticks": "outside",
            "zeroline": false,
            "zerolinecolor": "rgb(36,36,36)"
           },
           "zaxis": {
            "backgroundcolor": "white",
            "gridcolor": "rgb(232,232,232)",
            "gridwidth": 2,
            "linecolor": "rgb(36,36,36)",
            "showbackground": true,
            "showgrid": false,
            "showline": true,
            "ticks": "outside",
            "zeroline": false,
            "zerolinecolor": "rgb(36,36,36)"
           }
          },
          "shapedefaults": {
           "fillcolor": "black",
           "line": {
            "width": 0
           },
           "opacity": 0.3
          },
          "ternary": {
           "aaxis": {
            "gridcolor": "rgb(232,232,232)",
            "linecolor": "rgb(36,36,36)",
            "showgrid": false,
            "showline": true,
            "ticks": "outside"
           },
           "baxis": {
            "gridcolor": "rgb(232,232,232)",
            "linecolor": "rgb(36,36,36)",
            "showgrid": false,
            "showline": true,
            "ticks": "outside"
           },
           "bgcolor": "white",
           "caxis": {
            "gridcolor": "rgb(232,232,232)",
            "linecolor": "rgb(36,36,36)",
            "showgrid": false,
            "showline": true,
            "ticks": "outside"
           }
          },
          "title": {
           "x": 0.05
          },
          "xaxis": {
           "automargin": true,
           "gridcolor": "rgb(232,232,232)",
           "linecolor": "rgb(36,36,36)",
           "showgrid": false,
           "showline": true,
           "ticks": "outside",
           "title": {
            "standoff": 15
           },
           "zeroline": false,
           "zerolinecolor": "rgb(36,36,36)"
          },
          "yaxis": {
           "automargin": true,
           "gridcolor": "rgb(232,232,232)",
           "linecolor": "rgb(36,36,36)",
           "showgrid": false,
           "showline": true,
           "ticks": "outside",
           "title": {
            "standoff": 15
           },
           "zeroline": false,
           "zerolinecolor": "rgb(36,36,36)"
          }
         }
        },
        "title": {
         "text": "Suïcidecijfers (per 100.000 inwoners) versus sociale uitgaven in natura (2012) — r = 0.35"
        },
        "updatemenus": [
         {
          "buttons": [
           {
            "args": [
             {
              "x": [
               [
                8.382,
                8.827,
                9.552,
                5,
                8.231,
                7,
                3.9,
                14.79,
                5.112,
                10.695,
                11.372,
                11.004,
                6.299,
                7.074,
                11.148,
                9.528,
                7.634,
                10.085,
                3.8,
                4.9,
                6.371,
                6,
                11.072,
                12.014,
                10.081,
                5.412,
                6.501,
                4.3,
                6.633,
                7.436,
                8.536,
                13.489,
                8.421,
                11.919
               ],
               [
                3.8,
                3.911010101010101,
                4.022020202020202,
                4.133030303030303,
                4.244040404040404,
                4.355050505050505,
                4.466060606060606,
                4.577070707070707,
                4.688080808080808,
                4.799090909090909,
                4.91010101010101,
                5.021111111111111,
                5.132121212121212,
                5.243131313131313,
                5.354141414141414,
                5.465151515151515,
                5.576161616161616,
                5.687171717171717,
                5.798181818181818,
                5.909191919191919,
                6.020202020202019,
                6.131212121212121,
                6.242222222222221,
                6.353232323232323,
                6.464242424242423,
                6.575252525252525,
                6.686262626262625,
                6.797272727272727,
                6.908282828282827,
                7.019292929292929,
                7.130303030303029,
                7.241313131313131,
                7.352323232323231,
                7.463333333333333,
                7.574343434343433,
                7.685353535353535,
                7.796363636363635,
                7.907373737373736,
                8.018383838383837,
                8.129393939393939,
                8.240404040404039,
                8.35141414141414,
                8.462424242424241,
                8.573434343434343,
                8.684444444444443,
                8.795454545454543,
                8.906464646464645,
                9.017474747474747,
                9.128484848484847,
                9.239494949494947,
                9.350505050505049,
                9.461515151515151,
                9.572525252525251,
                9.683535353535351,
                9.794545454545453,
                9.905555555555555,
                10.016565656565655,
                10.127575757575755,
                10.238585858585857,
                10.349595959595959,
                10.46060606060606,
                10.57161616161616,
                10.682626262626261,
                10.793636363636363,
                10.904646464646463,
                11.015656565656563,
                11.126666666666665,
                11.237676767676767,
                11.348686868686867,
                11.459696969696967,
                11.57070707070707,
                11.681717171717171,
                11.792727272727271,
                11.903737373737371,
                12.014747474747473,
                12.125757575757575,
                12.236767676767673,
                12.347777777777775,
                12.458787878787877,
                12.569797979797979,
                12.680808080808077,
                12.79181818181818,
                12.902828282828281,
                13.013838383838383,
                13.124848484848481,
                13.235858585858583,
                13.346868686868685,
                13.457878787878787,
                13.568888888888885,
                13.679898989898987,
                13.79090909090909,
                13.901919191919191,
                14.01292929292929,
                14.123939393939391,
                14.234949494949493,
                14.345959595959595,
                14.456969696969693,
                14.567979797979795,
                14.678989898989897,
                14.79
               ]
              ],
              "y": [
               [
                0.1485022322244458,
                0.6891352566183621,
                1.196953912553565,
                0.2036941773024356,
                0.1143125886301742,
                1.159223374058016,
                -0.9682959841013355,
                0.2054358406728679,
                1.1296074441340225,
                0.8618255856113766,
                0.7540174974756372,
                0.2146364719350434,
                -0.9106423089340052,
                1.984342575935428,
                0.1919250431400415,
                0.2487598978224411,
                -0.5239194748427758,
                1.5457995187915063,
                1.7152506157169645,
                3.1143153328984057,
                -0.1360637547508574,
                -0.7019738250285713,
                -0.0048995391580191,
                0.3183241350754509,
                -0.0257263397619505,
                0.9484975740570418,
                -0.0566078296145077,
                0.2865925692359775,
                0.005629596723595,
                1.660839521980356,
                -0.4531025390200654,
                0.2566051526037513,
                0.3679581908464604,
                -0.531516020569595
               ],
               [
                0.6351712738342363,
                0.630402391731736,
                0.6256335096292355,
                0.6208646275267351,
                0.6160957454242346,
                0.6113268633217342,
                0.6065579812192338,
                0.6017890991167334,
                0.5970202170142329,
                0.5922513349117325,
                0.5874824528092321,
                0.5827135707067317,
                0.5779446886042312,
                0.5731758065017308,
                0.5684069243992304,
                0.56363804229673,
                0.5588691601942295,
                0.5541002780917291,
                0.5493313959892286,
                0.5445625138867283,
                0.5397936317842278,
                0.5350247496817274,
                0.530255867579227,
                0.5254869854767266,
                0.5207181033742261,
                0.5159492212717257,
                0.5111803391692253,
                0.5064114570667249,
                0.5016425749642244,
                0.496873692861724,
                0.4921048107592236,
                0.48733592865672315,
                0.4825670465542227,
                0.4777981644517223,
                0.47302928234922187,
                0.46826040024672144,
                0.463491518144221,
                0.4587226360417206,
                0.45395375393922016,
                0.44918487183671973,
                0.4444159897342193,
                0.43964710763171894,
                0.43487822552921845,
                0.430109343426718,
                0.4253404613242176,
                0.42057157922171723,
                0.41580269711921675,
                0.4110338150167163,
                0.4062649329142159,
                0.4014960508117155,
                0.39672716870921504,
                0.3919582866067146,
                0.3871894045042142,
                0.3824205224017138,
                0.37765164029921333,
                0.37288275819671285,
                0.3681138760942125,
                0.3633449939917121,
                0.3585761118892116,
                0.35380722978671114,
                0.34903834768421077,
                0.3442694655817104,
                0.3395005834792099,
                0.33473170137670943,
                0.32996281927420906,
                0.3251939371717087,
                0.3204250550692082,
                0.3156561729667077,
                0.31088729086420736,
                0.306118408761707,
                0.3013495266592065,
                0.2965806445567061,
                0.2918117624542057,
                0.2870428803517052,
                0.28227399824920485,
                0.27750511614670437,
                0.272736234044204,
                0.2679673519417035,
                0.26319846983920314,
                0.25842958773670266,
                0.2536607056342023,
                0.2488918235317018,
                0.24412294142920143,
                0.23935405932670095,
                0.23458517722420058,
                0.2298162951217001,
                0.22504741301919973,
                0.22027853091669924,
                0.21550964881419887,
                0.2107407667116984,
                0.20597188460919802,
                0.20120300250669754,
                0.19643412040419717,
                0.19166523830169668,
                0.1868963561991963,
                0.18212747409669583,
                0.17735859199419546,
                0.17258970989169498,
                0.1678208277891946,
                0.16305194568669412
               ]
              ]
             },
             {
              "title": "Suïcidecijfers (per 100.000 inwoners) versus sociale uitgaven in natura (2012) — r = -0.14",
              "yaxis": {
               "title": "Suïcidecijfers (per 100.000 inwoners)"
              }
             }
            ],
            "label": "Suïcidecijfers (per 100.000 inwoners) (r = -0.14)",
            "method": "update"
           },
           {
            "args": [
             {
              "x": [
               [
                8.382,
                8.827,
                9.552,
                5,
                8.231,
                7,
                3.9,
                14.79,
                5.112,
                10.695,
                11.372,
                11.004,
                6.299,
                7.074,
                11.148,
                9.528,
                7.634,
                10.085,
                3.8,
                4.9,
                6.371,
                6,
                11.072,
                12.014,
                10.081,
                5.412,
                6.501,
                4.3,
                6.633,
                7.436,
                8.536,
                13.489,
                8.421,
                11.919
               ],
               [
                3.8,
                3.911010101010101,
                4.022020202020202,
                4.133030303030303,
                4.244040404040404,
                4.355050505050505,
                4.466060606060606,
                4.577070707070707,
                4.688080808080808,
                4.799090909090909,
                4.91010101010101,
                5.021111111111111,
                5.132121212121212,
                5.243131313131313,
                5.354141414141414,
                5.465151515151515,
                5.576161616161616,
                5.687171717171717,
                5.798181818181818,
                5.909191919191919,
                6.020202020202019,
                6.131212121212121,
                6.242222222222221,
                6.353232323232323,
                6.464242424242423,
                6.575252525252525,
                6.686262626262625,
                6.797272727272727,
                6.908282828282827,
                7.019292929292929,
                7.130303030303029,
                7.241313131313131,
                7.352323232323231,
                7.463333333333333,
                7.574343434343433,
                7.685353535353535,
                7.796363636363635,
                7.907373737373736,
                8.018383838383837,
                8.129393939393939,
                8.240404040404039,
                8.35141414141414,
                8.462424242424241,
                8.573434343434343,
                8.684444444444443,
                8.795454545454543,
                8.906464646464645,
                9.017474747474747,
                9.128484848484847,
                9.239494949494947,
                9.350505050505049,
                9.461515151515151,
                9.572525252525251,
                9.683535353535351,
                9.794545454545453,
                9.905555555555555,
                10.016565656565655,
                10.127575757575755,
                10.238585858585857,
                10.349595959595959,
                10.46060606060606,
                10.57161616161616,
                10.682626262626261,
                10.793636363636363,
                10.904646464646463,
                11.015656565656563,
                11.126666666666665,
                11.237676767676767,
                11.348686868686867,
                11.459696969696967,
                11.57070707070707,
                11.681717171717171,
                11.792727272727271,
                11.903737373737371,
                12.014747474747473,
                12.125757575757575,
                12.236767676767673,
                12.347777777777775,
                12.458787878787877,
                12.569797979797979,
                12.680808080808077,
                12.79181818181818,
                12.902828282828281,
                13.013838383838383,
                13.124848484848481,
                13.235858585858583,
                13.346868686868685,
                13.457878787878787,
                13.568888888888885,
                13.679898989898987,
                13.79090909090909,
                13.901919191919191,
                14.01292929292929,
                14.123939393939391,
                14.234949494949493,
                14.345959595959595,
                14.456969696969693,
                14.567979797979795,
                14.678989898989897,
                14.79
               ]
              ],
              "y": [
               [
                7.35,
                7.369,
                6.967,
                3.981,
                7.477,
                5.661,
                6.466,
                7.693,
                5.426,
                7.389,
                6.764,
                6.672,
                5.435,
                4.775,
                7.355,
                7.076,
                6.021,
                6.064,
                5.046,
                5.426,
                7.054,
                5.964,
                7.512,
                7.221,
                7.655,
                5.822,
                5.101,
                5.033,
                5.969,
                6.06,
                6.322,
                7.48,
                7.65,
                6.883
               ],
               [
                5.250851197337942,
                5.279530913241199,
                5.308210629144457,
                5.336890345047714,
                5.365570060950971,
                5.394249776854229,
                5.422929492757486,
                5.451609208660743,
                5.480288924564001,
                5.508968640467258,
                5.537648356370515,
                5.566328072273773,
                5.59500778817703,
                5.623687504080287,
                5.652367219983544,
                5.681046935886802,
                5.709726651790059,
                5.738406367693317,
                5.767086083596574,
                5.795765799499831,
                5.824445515403088,
                5.853125231306346,
                5.881804947209603,
                5.910484663112861,
                5.939164379016118,
                5.967844094919375,
                5.996523810822632,
                6.02520352672589,
                6.053883242629147,
                6.082562958532405,
                6.111242674435662,
                6.139922390338919,
                6.168602106242176,
                6.197281822145434,
                6.225961538048691,
                6.254641253951949,
                6.283320969855206,
                6.312000685758463,
                6.34068040166172,
                6.369360117564977,
                6.398039833468234,
                6.426719549371492,
                6.45539926527475,
                6.484078981178007,
                6.512758697081264,
                6.541438412984521,
                6.570118128887778,
                6.5987978447910365,
                6.6274775606942935,
                6.6561572765975505,
                6.6848369925008075,
                6.713516708404065,
                6.742196424307322,
                6.770876140210579,
                6.799555856113837,
                6.828235572017094,
                6.856915287920351,
                6.8855950038236085,
                6.9142747197268655,
                6.942954435630123,
                6.97163415153338,
                7.000313867436638,
                7.028993583339895,
                7.057673299243152,
                7.086353015146409,
                7.115032731049666,
                7.143712446952924,
                7.172392162856182,
                7.201071878759439,
                7.229751594662696,
                7.258431310565953,
                7.287111026469211,
                7.315790742372468,
                7.344470458275725,
                7.373150174178983,
                7.40182989008224,
                7.430509605985497,
                7.459189321888754,
                7.487869037792012,
                7.51654875369527,
                7.545228469598526,
                7.573908185501784,
                7.602587901405041,
                7.631267617308299,
                7.659947333211555,
                7.688627049114813,
                7.717306765018071,
                7.745986480921328,
                7.774666196824585,
                7.803345912727842,
                7.8320256286311,
                7.860705344534358,
                7.889385060437614,
                7.918064776340872,
                7.946744492244129,
                7.975424208147387,
                8.004103924050643,
                8.032783639953902,
                8.061463355857159,
                8.090143071760416
               ]
              ]
             },
             {
              "title": "Geluksscore (Cantril ladder, 0–10) versus sociale uitgaven in natura (2012) — r = 0.73",
              "yaxis": {
               "title": "Geluksscore (Cantril ladder, 0–10)"
              }
             }
            ],
            "label": "Geluksscore (Cantril ladder, 0–10) (r = 0.73)",
            "method": "update"
           },
           {
            "args": [
             {
              "x": [
               [
                8.382,
                8.827,
                9.552,
                5,
                8.231,
                7,
                3.9,
                14.79,
                5.112,
                10.695,
                11.372,
                11.004,
                6.299,
                7.074,
                11.148,
                9.528,
                7.634,
                10.085,
                3.8,
                4.9,
                6.371,
                6,
                11.072,
                12.014,
                10.081,
                5.412,
                6.501,
                4.3,
                6.633,
                7.436,
                8.536,
                13.489,
                8.421,
                11.919
               ],
               [
                3.8,
                3.911010101010101,
                4.022020202020202,
                4.133030303030303,
                4.244040404040404,
                4.355050505050505,
                4.466060606060606,
                4.577070707070707,
                4.688080808080808,
                4.799090909090909,
                4.91010101010101,
                5.021111111111111,
                5.132121212121212,
                5.243131313131313,
                5.354141414141414,
                5.465151515151515,
                5.576161616161616,
                5.687171717171717,
                5.798181818181818,
                5.909191919191919,
                6.020202020202019,
                6.131212121212121,
                6.242222222222221,
                6.353232323232323,
                6.464242424242423,
                6.575252525252525,
                6.686262626262625,
                6.797272727272727,
                6.908282828282827,
                7.019292929292929,
                7.130303030303029,
                7.241313131313131,
                7.352323232323231,
                7.463333333333333,
                7.574343434343433,
                7.685353535353535,
                7.796363636363635,
                7.907373737373736,
                8.018383838383837,
                8.129393939393939,
                8.240404040404039,
                8.35141414141414,
                8.462424242424241,
                8.573434343434343,
                8.684444444444443,
                8.795454545454543,
                8.906464646464645,
                9.017474747474747,
                9.128484848484847,
                9.239494949494947,
                9.350505050505049,
                9.461515151515151,
                9.572525252525251,
                9.683535353535351,
                9.794545454545453,
                9.905555555555555,
                10.016565656565655,
                10.127575757575755,
                10.238585858585857,
                10.349595959595959,
                10.46060606060606,
                10.57161616161616,
                10.682626262626261,
                10.793636363636363,
                10.904646464646463,
                11.015656565656563,
                11.126666666666665,
                11.237676767676767,
                11.348686868686867,
                11.459696969696967,
                11.57070707070707,
                11.681717171717171,
                11.792727272727271,
                11.903737373737371,
                12.014747474747473,
                12.125757575757575,
                12.236767676767673,
                12.347777777777775,
                12.458787878787877,
                12.569797979797979,
                12.680808080808077,
                12.79181818181818,
                12.902828282828281,
                13.013838383838383,
                13.124848484848481,
                13.235858585858583,
                13.346868686868685,
                13.457878787878787,
                13.568888888888885,
                13.679898989898987,
                13.79090909090909,
                13.901919191919191,
                14.01292929292929,
                14.123939393939391,
                14.234949494949493,
                14.345959595959595,
                14.456969696969693,
                14.567979797979795,
                14.678989898989897,
                14.79
               ]
              ],
              "y": [
               [
                1.7316943973852983,
                0.7417357471058881,
                0.49161786739204,
                -1.1501954830989756,
                -0.1395063110568782,
                -0.8649171705364266,
                0.8955946064556843,
                0.3456532198320402,
                -0.5663839619474619,
                0.3747641291786794,
                1.3010261766665348,
                0.932257493471796,
                1.6541814585604284,
                -1.0089661761918358,
                0.1581189581306644,
                1.7367461539048528,
                0.7178719710301799,
                -1.7285148720180674,
                -0.4120862124289408,
                0.0557282309411188,
                0.4911416976189434,
                0.7847308037991557,
                1.1548459741335286,
                2.069525616655697,
                1.0988681227433947,
                -1.535170596816404,
                2.4418277295410955,
                -1.1710453469316366,
                -1.0649778073450569,
                -0.858746683455188,
                1.123261371930344,
                0.7134419726454699,
                1.5215787215983032,
                0.4963022614344148
               ],
               [
                -0.235726836922173,
                -0.22084995960945153,
                -0.20597308229673006,
                -0.1910962049840086,
                -0.176219327671287,
                -0.16134245035856554,
                -0.14646557304584407,
                -0.1315886957331226,
                -0.11671181842040113,
                -0.10183494110767966,
                -0.08695806379495807,
                -0.0720811864822366,
                -0.05720430916951513,
                -0.04232743185679366,
                -0.027450554544072192,
                -0.012573677231350722,
                0.0023032000813708597,
                0.01718007739409233,
                0.0320569547068138,
                0.04693383201953527,
                0.06181070933225663,
                0.07668758664497821,
                0.09156446395769957,
                0.10644134127042126,
                0.12131821858314262,
                0.1361950958958642,
                0.15107197320858556,
                0.16594885052130715,
                0.1808257278340285,
                0.1957026051467502,
                0.21057948245947156,
                0.22545635977219314,
                0.2403332370849145,
                0.2552101143976362,
                0.27008699171035744,
                0.28496386902307913,
                0.2998407463358004,
                0.31471762364852185,
                0.32959450096124354,
                0.344471378273965,
                0.3593482555866865,
                0.37422513289940773,
                0.3891020102121294,
                0.4039788875248509,
                0.41885576483757236,
                0.43373264215029383,
                0.4486095194630153,
                0.463486396775737,
                0.47836327408845825,
                0.4932401514011797,
                0.5081170287139014,
                0.5229939060266229,
                0.5378707833393443,
                0.5527476606520656,
                0.5676245379647873,
                0.5825014152775088,
                0.5973782925902302,
                0.6122551699029517,
                0.6271320472156732,
                0.6420089245283949,
                0.6568858018411161,
                0.6717626791538376,
                0.686639556466559,
                0.7015164337792807,
                0.7163933110920022,
                0.7312701884047235,
                0.7461470657174452,
                0.7610239430301666,
                0.7759008203428881,
                0.7907776976556096,
                0.805654574968331,
                0.8205314522810527,
                0.835408329593774,
                0.8502852069064954,
                0.8651620842192169,
                0.8800389615319386,
                0.8949158388446599,
                0.9097927161573813,
                0.924669593470103,
                0.9395464707828245,
                0.9544233480955457,
                0.9693002254082674,
                0.9841771027209889,
                0.9990539800337106,
                1.0139308573464316,
                1.0288077346591533,
                1.0436846119718748,
                1.0585614892845965,
                1.0734383665973177,
                1.0883152439100392,
                1.103192121222761,
                1.1180689985354824,
                1.1329458758482036,
                1.147822753160925,
                1.1626996304736468,
                1.1775765077863685,
                1.1924533850990895,
                1.2073302624118112,
                1.2222071397245327,
                1.2370840170372543
               ]
              ]
             },
             {
              "title": "Totaal mentale aandoeningen (%) versus sociale uitgaven in natura (2012) — r = 0.35",
              "yaxis": {
               "title": "Totaal mentale aandoeningen (%)"
              }
             }
            ],
            "label": "Totaal mentale aandoeningen (%) (r = 0.35)",
            "method": "update"
           }
          ],
          "direction": "up",
          "showactive": true,
          "x": 1.2,
          "xanchor": "right",
          "y": -0.2,
          "yanchor": "top"
         }
        ],
        "xaxis": {
         "title": {
          "text": "Sociale uitgaven in natura als percentage van BBP"
         }
        },
        "yaxis": {
         "title": {
          "text": "Suïcidecijfers (per 100.000 inwoners)"
         }
        }
       }
      }
     },
     "metadata": {},
     "output_type": "display_data"
    }
   ],
   "source": [
    "import pandas as pd\n",
    "import numpy as np\n",
    "import plotly.graph_objects as go\n",
    "\n",
    "# Dataset inladen\n",
    "pad = \"Data/volledige_gecombineerde_dataset_met_family.csv\"\n",
    "df = pd.read_csv(pad)\n",
    "\n",
    "# Filter op 2012\n",
    "df_2012 = df[df['year'] == 2012].dropna(subset=[\n",
    "    'socexp_k_pmp',\n",
    "    'suicides_per_100k',\n",
    "    'ladder_y',\n",
    "    'total_mental_illness_prev'\n",
    "])\n",
    "\n",
    "# Functie voor regressielijn en correlatie\n",
    "def bereken_regressie(x, y):\n",
    "    slope, intercept = np.polyfit(x, y, 1)\n",
    "    x_vals = np.linspace(x.min(), x.max(), 100)\n",
    "    y_vals = slope * x_vals + intercept\n",
    "    corr = round(x.corr(y), 2)\n",
    "    return x_vals, y_vals, corr\n",
    "\n",
    "# Keuzevariabelen en labels\n",
    "variabelen = {\n",
    "    'suicides_per_100k': 'Suïcidecijfers (per 100.000 inwoners)',\n",
    "    'ladder_y': 'Geluksscore (Cantril ladder, 0–10)',\n",
    "    'total_mental_illness_prev': 'Totaal mentale aandoeningen (%)'\n",
    "}\n",
    "\n",
    "# Standaard indicator\n",
    "y_default = 'suicides_per_100k'\n",
    "\n",
    "# Eerste keer plotten\n",
    "x_data = df_2012['socexp_k_pmp']\n",
    "y_data = df_2012[y_default]\n",
    "x_vals, y_vals, corr = bereken_regressie(x_data, y_data)\n",
    "\n",
    "fig = go.Figure()\n",
    "\n",
    "# Scatterplot\n",
    "fig.add_trace(go.Scatter(\n",
    "    x=x_data,\n",
    "    y=y_data,\n",
    "    mode='markers',\n",
    "    marker=dict(size=10, color='steelblue', line=dict(width=1, color='black')),\n",
    "    text=df_2012['country'],\n",
    "    hovertemplate=\"<b>Land:</b> %{text}<br>Sociale uitgaven in natura: %{x:.2f}% van BBP<br>Waarde: %{y:.2f}<extra></extra>\",\n",
    "    name='Landen'\n",
    "))\n",
    "\n",
    "# Trendlijn\n",
    "fig.add_trace(go.Scatter(\n",
    "    x=x_vals,\n",
    "    y=y_vals,\n",
    "    mode='lines',\n",
    "    line=dict(color='red', dash='dash'),\n",
    "    name='Trendlijn'\n",
    "))\n",
    "\n",
    "# Dropdownmenu met duidelijke labels + correlatie in titel\n",
    "dropdown_buttons = []\n",
    "for var, label in variabelen.items():\n",
    "    y_data = df_2012[var]\n",
    "    x_vals, y_vals, corr = bereken_regressie(x_data, y_data)\n",
    "\n",
    "    dropdown_buttons.append(dict(\n",
    "        label=f\"{label} (r = {corr})\",\n",
    "        method=\"update\",\n",
    "        args=[\n",
    "            {\"x\": [x_data, x_vals],\n",
    "             \"y\": [y_data, y_vals]},\n",
    "            {\"yaxis\": {\"title\": label},\n",
    "             \"title\": f\"{label} versus sociale uitgaven in natura (2012) — r = {corr}\"}\n",
    "        ]\n",
    "    ))\n",
    "\n",
    "# Layout\n",
    "fig.update_layout(\n",
    "    title=f\"{variabelen[y_default]} versus sociale uitgaven in natura (2012) — r = {corr}\",\n",
    "    xaxis_title=\"Sociale uitgaven in natura als percentage van BBP\",\n",
    "    yaxis_title=variabelen[y_default],\n",
    "    updatemenus=[\n",
    "        dict(\n",
    "            buttons=dropdown_buttons,\n",
    "            direction=\"up\",\n",
    "            x=1.2,\n",
    "            xanchor=\"right\",\n",
    "            y=-0.2,\n",
    "            yanchor=\"top\",\n",
    "            showactive=True\n",
    "        )\n",
    "    ],\n",
    "    template=\"simple_white\"\n",
    ")\n",
    "\n",
    "fig.show()\n"
   ]
  },
  {
   "cell_type": "markdown",
   "id": "9e607b18",
   "metadata": {},
   "source": [
    "**Visualisatie 1.2**  \n",
    "Met deze interactieve grafiek kun je het aandeel van het inkomen (BBP) dat naar sociale hulpdiensten gaat vergelijken met drie variabelen: geluk, zelfmoordcijfers en mentale aandoeningen.\n",
    "\n",
    "*Wat zien we?*\n",
    "- ⁠Kies je voor *geluksscore* (r = 0,73), dan zie je duidelijk: hoe meer procent BBP aan hulpdiensten, hoe hoger de geluksscore. Landen die 10% of meer investeren scoren gemiddeld 7,5 uit 10, terwijl landen onder 6% niet verder komen dan 5,5.\n",
    "- Zet je de knop op *suïcide per 100.000 mensen* (r = -0,14), dan gaat de lijn iets omlaag: meer investering in hulpdiensten betekent dus minder zelfdodingen.\n",
    "- ⁠Kies je *mentale aandoeningen* (r = 0,35), dan stijgt de lijn licht. Dit betekent vooral dat landen met betere hulpdiensten problemen beter herkennen en registreren.\n",
    "\n",
    "meer investeren in persoonlijke hulpdiensten verhoogt niet alleen het gemiddelde geluk, maar zorgt ook voor minder suïcides en betere mentale zorg."
   ]
  },
  {
   "cell_type": "markdown",
   "id": "e37f6a1a",
   "metadata": {},
   "source": [
    "## Argument 3: Persoonlijke hulpdiensten zijn effectiever dan directe uitkeringen"
   ]
  },
  {
   "cell_type": "code",
   "execution_count": null,
   "id": "8ba1d1e2",
   "metadata": {
    "tags": [
     "hide-input"
    ]
   },
   "outputs": [
    {
     "data": {
      "application/vnd.plotly.v1+json": {
       "config": {
        "plotlyServerURL": "https://plot.ly"
       },
       "data": [
        {
         "hovertemplate": "<b>%{text}</b><br>Cash-uitgaven: %{x:.2f}% van BBP<br>Geluksscore: %{y:.2f}<extra></extra>",
         "marker": {
          "color": "blue"
         },
         "mode": "markers",
         "name": "Cash-uitgaven (% BBP)",
         "text": [
          "Australia",
          "Austria",
          "Belgium",
          "Bulgaria",
          "Canada",
          "Croatia",
          "Cyprus",
          "Denmark",
          "Estonia",
          "Finland",
          "France",
          "Germany",
          "Greece",
          "Hungary",
          "Iceland",
          "Ireland",
          "Italy",
          "Japan",
          "Latvia",
          "Lithuania",
          "Luxembourg",
          "Malta",
          "Netherlands",
          "New Zealand",
          "Norway",
          "Poland",
          "Portugal",
          "Romania",
          "Slovakia",
          "Slovenia",
          "Spain",
          "Sweden",
          "Switzerland",
          "United Kingdom"
         ],
         "type": "scatter",
         "x": [
          12.418,
          18.876,
          17.698,
          11,
          8.749,
          13.7,
          15.8,
          15.373,
          10.361,
          16.758,
          18.944,
          15.301,
          21.55,
          14.657,
          12.3,
          12.635,
          20.394,
          12.111,
          10.2,
          10.6,
          14.565,
          12.5,
          11.938,
          10.488,
          12.036,
          14.007,
          17.588,
          10.3,
          10.598,
          15.771,
          16.361,
          11.945,
          15.751,
          11.602
         ],
         "y": [
          7.35,
          7.369,
          6.967,
          3.981,
          7.477,
          5.661,
          6.466,
          7.693,
          5.426,
          7.389,
          6.764,
          6.672,
          5.435,
          4.775,
          7.355,
          7.076,
          6.021,
          6.064,
          5.046,
          5.426,
          7.054,
          5.964,
          7.512,
          7.221,
          7.655,
          5.822,
          5.101,
          5.033,
          5.969,
          6.06,
          6.322,
          7.48,
          7.65,
          6.883
         ]
        },
        {
         "hovertemplate": "<b>%{text}</b><br>In-kind-uitgaven: %{x:.2f}% van BBP<br>Geluksscore: %{y:.2f}<extra></extra>",
         "marker": {
          "color": "orange"
         },
         "mode": "markers",
         "name": "In-kind-uitgaven (% BBP)",
         "text": [
          "Australia",
          "Austria",
          "Belgium",
          "Bulgaria",
          "Canada",
          "Croatia",
          "Cyprus",
          "Denmark",
          "Estonia",
          "Finland",
          "France",
          "Germany",
          "Greece",
          "Hungary",
          "Iceland",
          "Ireland",
          "Italy",
          "Japan",
          "Latvia",
          "Lithuania",
          "Luxembourg",
          "Malta",
          "Netherlands",
          "New Zealand",
          "Norway",
          "Poland",
          "Portugal",
          "Romania",
          "Slovakia",
          "Slovenia",
          "Spain",
          "Sweden",
          "Switzerland",
          "United Kingdom"
         ],
         "type": "scatter",
         "x": [
          8.382,
          8.827,
          9.552,
          5,
          8.231,
          7,
          3.9,
          14.79,
          5.112,
          10.695,
          11.372,
          11.004,
          6.299,
          7.074,
          11.148,
          9.528,
          7.634,
          10.085,
          3.8,
          4.9,
          6.371,
          6,
          11.072,
          12.014,
          10.081,
          5.412,
          6.501,
          4.3,
          6.633,
          7.436,
          8.536,
          13.489,
          8.421,
          11.919
         ],
         "y": [
          7.35,
          7.369,
          6.967,
          3.981,
          7.477,
          5.661,
          6.466,
          7.693,
          5.426,
          7.389,
          6.764,
          6.672,
          5.435,
          4.775,
          7.355,
          7.076,
          6.021,
          6.064,
          5.046,
          5.426,
          7.054,
          5.964,
          7.512,
          7.221,
          7.655,
          5.822,
          5.101,
          5.033,
          5.969,
          6.06,
          6.322,
          7.48,
          7.65,
          6.883
         ]
        },
        {
         "line": {
          "color": "blue",
          "dash": "dash"
         },
         "mode": "lines",
         "name": "Trend cash-uitgaven",
         "type": "scatter",
         "x": [
          8.749,
          8.87830303030303,
          9.007606060606062,
          9.136909090909091,
          9.266212121212122,
          9.395515151515152,
          9.524818181818182,
          9.654121212121213,
          9.783424242424243,
          9.912727272727274,
          10.042030303030304,
          10.171333333333333,
          10.300636363636364,
          10.429939393939394,
          10.559242424242425,
          10.688545454545455,
          10.817848484848486,
          10.947151515151516,
          11.076454545454546,
          11.205757575757577,
          11.335060606060607,
          11.464363636363636,
          11.593666666666667,
          11.722969696969697,
          11.852272727272728,
          11.981575757575758,
          12.11087878787879,
          12.240181818181819,
          12.369484848484849,
          12.49878787878788,
          12.62809090909091,
          12.757393939393939,
          12.88669696969697,
          13.016000000000002,
          13.145303030303031,
          13.274606060606061,
          13.403909090909092,
          13.533212121212122,
          13.662515151515152,
          13.791818181818183,
          13.921121212121212,
          14.050424242424242,
          14.179727272727273,
          14.309030303030305,
          14.438333333333334,
          14.567636363636364,
          14.696939393939395,
          14.826242424242425,
          14.955545454545454,
          15.084848484848486,
          15.214151515151517,
          15.343454545454545,
          15.472757575757576,
          15.602060606060608,
          15.731363636363637,
          15.860666666666667,
          15.989969696969698,
          16.11927272727273,
          16.248575757575757,
          16.37787878787879,
          16.50718181818182,
          16.636484848484848,
          16.76578787878788,
          16.89509090909091,
          17.02439393939394,
          17.15369696969697,
          17.283,
          17.41230303030303,
          17.541606060606064,
          17.670909090909092,
          17.80021212121212,
          17.929515151515155,
          18.058818181818182,
          18.188121212121214,
          18.317424242424245,
          18.446727272727273,
          18.576030303030304,
          18.705333333333336,
          18.834636363636363,
          18.963939393939395,
          19.093242424242426,
          19.222545454545454,
          19.351848484848485,
          19.481151515151517,
          19.610454545454544,
          19.73975757575758,
          19.869060606060607,
          19.998363636363635,
          20.12766666666667,
          20.256969696969698,
          20.38627272727273,
          20.51557575757576,
          20.64487878787879,
          20.77418181818182,
          20.90348484848485,
          21.03278787878788,
          21.16209090909091,
          21.29139393939394,
          21.42069696969697,
          21.55
         ],
         "y": [
          6.317102304311168,
          6.319549405214139,
          6.32199650611711,
          6.324443607020082,
          6.326890707923054,
          6.3293378088260255,
          6.331784909728997,
          6.334232010631968,
          6.336679111534941,
          6.339126212437912,
          6.341573313340883,
          6.344020414243855,
          6.346467515146827,
          6.3489146160497985,
          6.35136171695277,
          6.353808817855741,
          6.356255918758713,
          6.358703019661685,
          6.361150120564656,
          6.363597221467628,
          6.366044322370599,
          6.368491423273571,
          6.370938524176543,
          6.373385625079514,
          6.375832725982486,
          6.378279826885457,
          6.380726927788429,
          6.383174028691401,
          6.385621129594372,
          6.3880682304973435,
          6.390515331400316,
          6.392962432303287,
          6.395409533206259,
          6.39785663410923,
          6.400303735012201,
          6.402750835915174,
          6.405197936818145,
          6.4076450377211165,
          6.410092138624088,
          6.41253923952706,
          6.414986340430032,
          6.417433441333003,
          6.419880542235974,
          6.422327643138946,
          6.424774744041918,
          6.4272218449448895,
          6.429668945847861,
          6.432116046750832,
          6.4345631476538045,
          6.437010248556776,
          6.439457349459747,
          6.441904450362719,
          6.44435155126569,
          6.446798652168662,
          6.449245753071634,
          6.451692853974605,
          6.454139954877577,
          6.456587055780549,
          6.45903415668352,
          6.461481257586492,
          6.463928358489463,
          6.466375459392435,
          6.468822560295407,
          6.471269661198378,
          6.47371676210135,
          6.476163863004321,
          6.478610963907293,
          6.481058064810265,
          6.483505165713236,
          6.4859522666162075,
          6.48839936751918,
          6.490846468422151,
          6.493293569325123,
          6.495740670228094,
          6.498187771131066,
          6.500634872034038,
          6.503081972937009,
          6.5055290738399805,
          6.507976174742952,
          6.510423275645924,
          6.512870376548896,
          6.515317477451867,
          6.517764578354838,
          6.520211679257811,
          6.522658780160782,
          6.525105881063753,
          6.527552981966725,
          6.530000082869696,
          6.5324471837726685,
          6.53489428467564,
          6.537341385578611,
          6.539788486481583,
          6.542235587384555,
          6.544682688287526,
          6.547129789190498,
          6.549576890093469,
          6.552023990996441,
          6.554471091899413,
          6.556918192802384,
          6.559365293705356
         ]
        },
        {
         "line": {
          "color": "orange",
          "dash": "dash"
         },
         "mode": "lines",
         "name": "Trend in-kind-uitgaven",
         "type": "scatter",
         "x": [
          3.8,
          3.911010101010101,
          4.022020202020202,
          4.133030303030303,
          4.244040404040404,
          4.355050505050505,
          4.466060606060606,
          4.577070707070707,
          4.688080808080808,
          4.799090909090909,
          4.91010101010101,
          5.021111111111111,
          5.132121212121212,
          5.243131313131313,
          5.354141414141414,
          5.465151515151515,
          5.576161616161616,
          5.687171717171717,
          5.798181818181818,
          5.909191919191919,
          6.020202020202019,
          6.131212121212121,
          6.242222222222221,
          6.353232323232323,
          6.464242424242423,
          6.575252525252525,
          6.686262626262625,
          6.797272727272727,
          6.908282828282827,
          7.019292929292929,
          7.130303030303029,
          7.241313131313131,
          7.352323232323231,
          7.463333333333333,
          7.574343434343433,
          7.685353535353535,
          7.796363636363635,
          7.907373737373736,
          8.018383838383837,
          8.129393939393939,
          8.240404040404039,
          8.35141414141414,
          8.462424242424241,
          8.573434343434343,
          8.684444444444443,
          8.795454545454543,
          8.906464646464645,
          9.017474747474747,
          9.128484848484847,
          9.239494949494947,
          9.350505050505049,
          9.461515151515151,
          9.572525252525251,
          9.683535353535351,
          9.794545454545453,
          9.905555555555555,
          10.016565656565655,
          10.127575757575755,
          10.238585858585857,
          10.349595959595959,
          10.46060606060606,
          10.57161616161616,
          10.682626262626261,
          10.793636363636363,
          10.904646464646463,
          11.015656565656563,
          11.126666666666665,
          11.237676767676767,
          11.348686868686867,
          11.459696969696967,
          11.57070707070707,
          11.681717171717171,
          11.792727272727271,
          11.903737373737371,
          12.014747474747473,
          12.125757575757575,
          12.236767676767673,
          12.347777777777775,
          12.458787878787877,
          12.569797979797979,
          12.680808080808077,
          12.79181818181818,
          12.902828282828281,
          13.013838383838383,
          13.124848484848481,
          13.235858585858583,
          13.346868686868685,
          13.457878787878787,
          13.568888888888885,
          13.679898989898987,
          13.79090909090909,
          13.901919191919191,
          14.01292929292929,
          14.123939393939391,
          14.234949494949493,
          14.345959595959595,
          14.456969696969693,
          14.567979797979795,
          14.678989898989897,
          14.79
         ],
         "y": [
          5.250851197337942,
          5.279530913241199,
          5.308210629144457,
          5.336890345047714,
          5.365570060950971,
          5.394249776854229,
          5.422929492757486,
          5.451609208660743,
          5.480288924564001,
          5.508968640467258,
          5.537648356370515,
          5.566328072273773,
          5.59500778817703,
          5.623687504080287,
          5.652367219983544,
          5.681046935886802,
          5.709726651790059,
          5.738406367693317,
          5.767086083596574,
          5.795765799499831,
          5.824445515403088,
          5.853125231306346,
          5.881804947209603,
          5.910484663112861,
          5.939164379016118,
          5.967844094919375,
          5.996523810822632,
          6.02520352672589,
          6.053883242629147,
          6.082562958532405,
          6.111242674435662,
          6.139922390338919,
          6.168602106242176,
          6.197281822145434,
          6.225961538048691,
          6.254641253951949,
          6.283320969855206,
          6.312000685758463,
          6.34068040166172,
          6.369360117564977,
          6.398039833468234,
          6.426719549371492,
          6.45539926527475,
          6.484078981178007,
          6.512758697081264,
          6.541438412984521,
          6.570118128887778,
          6.5987978447910365,
          6.6274775606942935,
          6.6561572765975505,
          6.6848369925008075,
          6.713516708404065,
          6.742196424307322,
          6.770876140210579,
          6.799555856113837,
          6.828235572017094,
          6.856915287920351,
          6.8855950038236085,
          6.9142747197268655,
          6.942954435630123,
          6.97163415153338,
          7.000313867436638,
          7.028993583339895,
          7.057673299243152,
          7.086353015146409,
          7.115032731049666,
          7.143712446952924,
          7.172392162856182,
          7.201071878759439,
          7.229751594662696,
          7.258431310565953,
          7.287111026469211,
          7.315790742372468,
          7.344470458275725,
          7.373150174178983,
          7.40182989008224,
          7.430509605985497,
          7.459189321888754,
          7.487869037792012,
          7.51654875369527,
          7.545228469598526,
          7.573908185501784,
          7.602587901405041,
          7.631267617308299,
          7.659947333211555,
          7.688627049114813,
          7.717306765018071,
          7.745986480921328,
          7.774666196824585,
          7.803345912727842,
          7.8320256286311,
          7.860705344534358,
          7.889385060437614,
          7.918064776340872,
          7.946744492244129,
          7.975424208147387,
          8.004103924050643,
          8.032783639953902,
          8.061463355857159,
          8.090143071760416
         ]
        }
       ],
       "layout": {
        "template": {
         "data": {
          "bar": [
           {
            "error_x": {
             "color": "rgb(36,36,36)"
            },
            "error_y": {
             "color": "rgb(36,36,36)"
            },
            "marker": {
             "line": {
              "color": "white",
              "width": 0.5
             },
             "pattern": {
              "fillmode": "overlay",
              "size": 10,
              "solidity": 0.2
             }
            },
            "type": "bar"
           }
          ],
          "barpolar": [
           {
            "marker": {
             "line": {
              "color": "white",
              "width": 0.5
             },
             "pattern": {
              "fillmode": "overlay",
              "size": 10,
              "solidity": 0.2
             }
            },
            "type": "barpolar"
           }
          ],
          "carpet": [
           {
            "aaxis": {
             "endlinecolor": "rgb(36,36,36)",
             "gridcolor": "white",
             "linecolor": "white",
             "minorgridcolor": "white",
             "startlinecolor": "rgb(36,36,36)"
            },
            "baxis": {
             "endlinecolor": "rgb(36,36,36)",
             "gridcolor": "white",
             "linecolor": "white",
             "minorgridcolor": "white",
             "startlinecolor": "rgb(36,36,36)"
            },
            "type": "carpet"
           }
          ],
          "choropleth": [
           {
            "colorbar": {
             "outlinewidth": 1,
             "tickcolor": "rgb(36,36,36)",
             "ticks": "outside"
            },
            "type": "choropleth"
           }
          ],
          "contour": [
           {
            "colorbar": {
             "outlinewidth": 1,
             "tickcolor": "rgb(36,36,36)",
             "ticks": "outside"
            },
            "colorscale": [
             [
              0,
              "#440154"
             ],
             [
              0.1111111111111111,
              "#482878"
             ],
             [
              0.2222222222222222,
              "#3e4989"
             ],
             [
              0.3333333333333333,
              "#31688e"
             ],
             [
              0.4444444444444444,
              "#26828e"
             ],
             [
              0.5555555555555556,
              "#1f9e89"
             ],
             [
              0.6666666666666666,
              "#35b779"
             ],
             [
              0.7777777777777778,
              "#6ece58"
             ],
             [
              0.8888888888888888,
              "#b5de2b"
             ],
             [
              1,
              "#fde725"
             ]
            ],
            "type": "contour"
           }
          ],
          "contourcarpet": [
           {
            "colorbar": {
             "outlinewidth": 1,
             "tickcolor": "rgb(36,36,36)",
             "ticks": "outside"
            },
            "type": "contourcarpet"
           }
          ],
          "heatmap": [
           {
            "colorbar": {
             "outlinewidth": 1,
             "tickcolor": "rgb(36,36,36)",
             "ticks": "outside"
            },
            "colorscale": [
             [
              0,
              "#440154"
             ],
             [
              0.1111111111111111,
              "#482878"
             ],
             [
              0.2222222222222222,
              "#3e4989"
             ],
             [
              0.3333333333333333,
              "#31688e"
             ],
             [
              0.4444444444444444,
              "#26828e"
             ],
             [
              0.5555555555555556,
              "#1f9e89"
             ],
             [
              0.6666666666666666,
              "#35b779"
             ],
             [
              0.7777777777777778,
              "#6ece58"
             ],
             [
              0.8888888888888888,
              "#b5de2b"
             ],
             [
              1,
              "#fde725"
             ]
            ],
            "type": "heatmap"
           }
          ],
          "heatmapgl": [
           {
            "colorbar": {
             "outlinewidth": 1,
             "tickcolor": "rgb(36,36,36)",
             "ticks": "outside"
            },
            "colorscale": [
             [
              0,
              "#440154"
             ],
             [
              0.1111111111111111,
              "#482878"
             ],
             [
              0.2222222222222222,
              "#3e4989"
             ],
             [
              0.3333333333333333,
              "#31688e"
             ],
             [
              0.4444444444444444,
              "#26828e"
             ],
             [
              0.5555555555555556,
              "#1f9e89"
             ],
             [
              0.6666666666666666,
              "#35b779"
             ],
             [
              0.7777777777777778,
              "#6ece58"
             ],
             [
              0.8888888888888888,
              "#b5de2b"
             ],
             [
              1,
              "#fde725"
             ]
            ],
            "type": "heatmapgl"
           }
          ],
          "histogram": [
           {
            "marker": {
             "line": {
              "color": "white",
              "width": 0.6
             }
            },
            "type": "histogram"
           }
          ],
          "histogram2d": [
           {
            "colorbar": {
             "outlinewidth": 1,
             "tickcolor": "rgb(36,36,36)",
             "ticks": "outside"
            },
            "colorscale": [
             [
              0,
              "#440154"
             ],
             [
              0.1111111111111111,
              "#482878"
             ],
             [
              0.2222222222222222,
              "#3e4989"
             ],
             [
              0.3333333333333333,
              "#31688e"
             ],
             [
              0.4444444444444444,
              "#26828e"
             ],
             [
              0.5555555555555556,
              "#1f9e89"
             ],
             [
              0.6666666666666666,
              "#35b779"
             ],
             [
              0.7777777777777778,
              "#6ece58"
             ],
             [
              0.8888888888888888,
              "#b5de2b"
             ],
             [
              1,
              "#fde725"
             ]
            ],
            "type": "histogram2d"
           }
          ],
          "histogram2dcontour": [
           {
            "colorbar": {
             "outlinewidth": 1,
             "tickcolor": "rgb(36,36,36)",
             "ticks": "outside"
            },
            "colorscale": [
             [
              0,
              "#440154"
             ],
             [
              0.1111111111111111,
              "#482878"
             ],
             [
              0.2222222222222222,
              "#3e4989"
             ],
             [
              0.3333333333333333,
              "#31688e"
             ],
             [
              0.4444444444444444,
              "#26828e"
             ],
             [
              0.5555555555555556,
              "#1f9e89"
             ],
             [
              0.6666666666666666,
              "#35b779"
             ],
             [
              0.7777777777777778,
              "#6ece58"
             ],
             [
              0.8888888888888888,
              "#b5de2b"
             ],
             [
              1,
              "#fde725"
             ]
            ],
            "type": "histogram2dcontour"
           }
          ],
          "mesh3d": [
           {
            "colorbar": {
             "outlinewidth": 1,
             "tickcolor": "rgb(36,36,36)",
             "ticks": "outside"
            },
            "type": "mesh3d"
           }
          ],
          "parcoords": [
           {
            "line": {
             "colorbar": {
              "outlinewidth": 1,
              "tickcolor": "rgb(36,36,36)",
              "ticks": "outside"
             }
            },
            "type": "parcoords"
           }
          ],
          "pie": [
           {
            "automargin": true,
            "type": "pie"
           }
          ],
          "scatter": [
           {
            "fillpattern": {
             "fillmode": "overlay",
             "size": 10,
             "solidity": 0.2
            },
            "type": "scatter"
           }
          ],
          "scatter3d": [
           {
            "line": {
             "colorbar": {
              "outlinewidth": 1,
              "tickcolor": "rgb(36,36,36)",
              "ticks": "outside"
             }
            },
            "marker": {
             "colorbar": {
              "outlinewidth": 1,
              "tickcolor": "rgb(36,36,36)",
              "ticks": "outside"
             }
            },
            "type": "scatter3d"
           }
          ],
          "scattercarpet": [
           {
            "marker": {
             "colorbar": {
              "outlinewidth": 1,
              "tickcolor": "rgb(36,36,36)",
              "ticks": "outside"
             }
            },
            "type": "scattercarpet"
           }
          ],
          "scattergeo": [
           {
            "marker": {
             "colorbar": {
              "outlinewidth": 1,
              "tickcolor": "rgb(36,36,36)",
              "ticks": "outside"
             }
            },
            "type": "scattergeo"
           }
          ],
          "scattergl": [
           {
            "marker": {
             "colorbar": {
              "outlinewidth": 1,
              "tickcolor": "rgb(36,36,36)",
              "ticks": "outside"
             }
            },
            "type": "scattergl"
           }
          ],
          "scattermapbox": [
           {
            "marker": {
             "colorbar": {
              "outlinewidth": 1,
              "tickcolor": "rgb(36,36,36)",
              "ticks": "outside"
             }
            },
            "type": "scattermapbox"
           }
          ],
          "scatterpolar": [
           {
            "marker": {
             "colorbar": {
              "outlinewidth": 1,
              "tickcolor": "rgb(36,36,36)",
              "ticks": "outside"
             }
            },
            "type": "scatterpolar"
           }
          ],
          "scatterpolargl": [
           {
            "marker": {
             "colorbar": {
              "outlinewidth": 1,
              "tickcolor": "rgb(36,36,36)",
              "ticks": "outside"
             }
            },
            "type": "scatterpolargl"
           }
          ],
          "scatterternary": [
           {
            "marker": {
             "colorbar": {
              "outlinewidth": 1,
              "tickcolor": "rgb(36,36,36)",
              "ticks": "outside"
             }
            },
            "type": "scatterternary"
           }
          ],
          "surface": [
           {
            "colorbar": {
             "outlinewidth": 1,
             "tickcolor": "rgb(36,36,36)",
             "ticks": "outside"
            },
            "colorscale": [
             [
              0,
              "#440154"
             ],
             [
              0.1111111111111111,
              "#482878"
             ],
             [
              0.2222222222222222,
              "#3e4989"
             ],
             [
              0.3333333333333333,
              "#31688e"
             ],
             [
              0.4444444444444444,
              "#26828e"
             ],
             [
              0.5555555555555556,
              "#1f9e89"
             ],
             [
              0.6666666666666666,
              "#35b779"
             ],
             [
              0.7777777777777778,
              "#6ece58"
             ],
             [
              0.8888888888888888,
              "#b5de2b"
             ],
             [
              1,
              "#fde725"
             ]
            ],
            "type": "surface"
           }
          ],
          "table": [
           {
            "cells": {
             "fill": {
              "color": "rgb(237,237,237)"
             },
             "line": {
              "color": "white"
             }
            },
            "header": {
             "fill": {
              "color": "rgb(217,217,217)"
             },
             "line": {
              "color": "white"
             }
            },
            "type": "table"
           }
          ]
         },
         "layout": {
          "annotationdefaults": {
           "arrowhead": 0,
           "arrowwidth": 1
          },
          "autotypenumbers": "strict",
          "coloraxis": {
           "colorbar": {
            "outlinewidth": 1,
            "tickcolor": "rgb(36,36,36)",
            "ticks": "outside"
           }
          },
          "colorscale": {
           "diverging": [
            [
             0,
             "rgb(103,0,31)"
            ],
            [
             0.1,
             "rgb(178,24,43)"
            ],
            [
             0.2,
             "rgb(214,96,77)"
            ],
            [
             0.3,
             "rgb(244,165,130)"
            ],
            [
             0.4,
             "rgb(253,219,199)"
            ],
            [
             0.5,
             "rgb(247,247,247)"
            ],
            [
             0.6,
             "rgb(209,229,240)"
            ],
            [
             0.7,
             "rgb(146,197,222)"
            ],
            [
             0.8,
             "rgb(67,147,195)"
            ],
            [
             0.9,
             "rgb(33,102,172)"
            ],
            [
             1,
             "rgb(5,48,97)"
            ]
           ],
           "sequential": [
            [
             0,
             "#440154"
            ],
            [
             0.1111111111111111,
             "#482878"
            ],
            [
             0.2222222222222222,
             "#3e4989"
            ],
            [
             0.3333333333333333,
             "#31688e"
            ],
            [
             0.4444444444444444,
             "#26828e"
            ],
            [
             0.5555555555555556,
             "#1f9e89"
            ],
            [
             0.6666666666666666,
             "#35b779"
            ],
            [
             0.7777777777777778,
             "#6ece58"
            ],
            [
             0.8888888888888888,
             "#b5de2b"
            ],
            [
             1,
             "#fde725"
            ]
           ],
           "sequentialminus": [
            [
             0,
             "#440154"
            ],
            [
             0.1111111111111111,
             "#482878"
            ],
            [
             0.2222222222222222,
             "#3e4989"
            ],
            [
             0.3333333333333333,
             "#31688e"
            ],
            [
             0.4444444444444444,
             "#26828e"
            ],
            [
             0.5555555555555556,
             "#1f9e89"
            ],
            [
             0.6666666666666666,
             "#35b779"
            ],
            [
             0.7777777777777778,
             "#6ece58"
            ],
            [
             0.8888888888888888,
             "#b5de2b"
            ],
            [
             1,
             "#fde725"
            ]
           ]
          },
          "colorway": [
           "#1F77B4",
           "#FF7F0E",
           "#2CA02C",
           "#D62728",
           "#9467BD",
           "#8C564B",
           "#E377C2",
           "#7F7F7F",
           "#BCBD22",
           "#17BECF"
          ],
          "font": {
           "color": "rgb(36,36,36)"
          },
          "geo": {
           "bgcolor": "white",
           "lakecolor": "white",
           "landcolor": "white",
           "showlakes": true,
           "showland": true,
           "subunitcolor": "white"
          },
          "hoverlabel": {
           "align": "left"
          },
          "hovermode": "closest",
          "mapbox": {
           "style": "light"
          },
          "paper_bgcolor": "white",
          "plot_bgcolor": "white",
          "polar": {
           "angularaxis": {
            "gridcolor": "rgb(232,232,232)",
            "linecolor": "rgb(36,36,36)",
            "showgrid": false,
            "showline": true,
            "ticks": "outside"
           },
           "bgcolor": "white",
           "radialaxis": {
            "gridcolor": "rgb(232,232,232)",
            "linecolor": "rgb(36,36,36)",
            "showgrid": false,
            "showline": true,
            "ticks": "outside"
           }
          },
          "scene": {
           "xaxis": {
            "backgroundcolor": "white",
            "gridcolor": "rgb(232,232,232)",
            "gridwidth": 2,
            "linecolor": "rgb(36,36,36)",
            "showbackground": true,
            "showgrid": false,
            "showline": true,
            "ticks": "outside",
            "zeroline": false,
            "zerolinecolor": "rgb(36,36,36)"
           },
           "yaxis": {
            "backgroundcolor": "white",
            "gridcolor": "rgb(232,232,232)",
            "gridwidth": 2,
            "linecolor": "rgb(36,36,36)",
            "showbackground": true,
            "showgrid": false,
            "showline": true,
            "ticks": "outside",
            "zeroline": false,
            "zerolinecolor": "rgb(36,36,36)"
           },
           "zaxis": {
            "backgroundcolor": "white",
            "gridcolor": "rgb(232,232,232)",
            "gridwidth": 2,
            "linecolor": "rgb(36,36,36)",
            "showbackground": true,
            "showgrid": false,
            "showline": true,
            "ticks": "outside",
            "zeroline": false,
            "zerolinecolor": "rgb(36,36,36)"
           }
          },
          "shapedefaults": {
           "fillcolor": "black",
           "line": {
            "width": 0
           },
           "opacity": 0.3
          },
          "ternary": {
           "aaxis": {
            "gridcolor": "rgb(232,232,232)",
            "linecolor": "rgb(36,36,36)",
            "showgrid": false,
            "showline": true,
            "ticks": "outside"
           },
           "baxis": {
            "gridcolor": "rgb(232,232,232)",
            "linecolor": "rgb(36,36,36)",
            "showgrid": false,
            "showline": true,
            "ticks": "outside"
           },
           "bgcolor": "white",
           "caxis": {
            "gridcolor": "rgb(232,232,232)",
            "linecolor": "rgb(36,36,36)",
            "showgrid": false,
            "showline": true,
            "ticks": "outside"
           }
          },
          "title": {
           "x": 0.05
          },
          "xaxis": {
           "automargin": true,
           "gridcolor": "rgb(232,232,232)",
           "linecolor": "rgb(36,36,36)",
           "showgrid": false,
           "showline": true,
           "ticks": "outside",
           "title": {
            "standoff": 15
           },
           "zeroline": false,
           "zerolinecolor": "rgb(36,36,36)"
          },
          "yaxis": {
           "automargin": true,
           "gridcolor": "rgb(232,232,232)",
           "linecolor": "rgb(36,36,36)",
           "showgrid": false,
           "showline": true,
           "ticks": "outside",
           "title": {
            "standoff": 15
           },
           "zeroline": false,
           "zerolinecolor": "rgb(36,36,36)"
          }
         }
        },
        "title": {
         "text": "Relatie tussen sociale uitgaven en geluk (2012)"
        },
        "xaxis": {
         "title": {
          "text": "Sociale uitgaven als percentage van BBP"
         }
        },
        "yaxis": {
         "title": {
          "text": "Gemiddelde geluksscore (0–10)"
         }
        }
       }
      }
     },
     "metadata": {},
     "output_type": "display_data"
    }
   ],
   "source": [
    "import pandas as pd\n",
    "import numpy as np\n",
    "import plotly.graph_objects as go\n",
    "\n",
    "# Dataset inladen\n",
    "pad = \"Data/volledige_gecombineerde_dataset.csv\"  # Pas pad aan indien nodig\n",
    "df = pd.read_csv(pad)\n",
    "\n",
    "# Filteren op compleet jaar\n",
    "df_2012 = df[df['year'] == 2012].dropna(subset=[\n",
    "    'socexp_c_pmp',\n",
    "    'socexp_k_pmp',\n",
    "    'ladder_y'  # Dit is de juiste kolomnaam\n",
    "])\n",
    "\n",
    "# Functie voor regressielijn\n",
    "def regressielijn(x, y):\n",
    "    slope, intercept = np.polyfit(x, y, 1)\n",
    "    x_vals = np.linspace(x.min(), x.max(), 100)\n",
    "    y_vals = slope * x_vals + intercept\n",
    "    return x_vals, y_vals\n",
    "\n",
    "# Data voorbereiden\n",
    "x_cash = df_2012['socexp_c_pmp']\n",
    "x_natura = df_2012['socexp_k_pmp']\n",
    "y_geluk = df_2012['ladder_y']\n",
    "\n",
    "\n",
    "# Regressielijnen\n",
    "x_vals_cash, y_vals_cash = regressielijn(x_cash, y_geluk)\n",
    "x_vals_natura, y_vals_natura = regressielijn(x_natura, y_geluk)\n",
    "\n",
    "# Figuur\n",
    "fig = go.Figure()\n",
    "\n",
    "# Cash-uitgaven\n",
    "fig.add_trace(go.Scatter(\n",
    "    x=x_cash,\n",
    "    y=y_geluk,\n",
    "    mode='markers',\n",
    "    marker=dict(color='blue'),\n",
    "    text=df_2012['country'],\n",
    "    name='Cash-uitgaven (% BBP)',\n",
    "    hovertemplate=\"<b>%{text}</b><br>Cash-uitgaven: %{x:.2f}% van BBP<br>Geluksscore: %{y:.2f}<extra></extra>\"\n",
    "))\n",
    "\n",
    "# In-kind-uitgaven\n",
    "fig.add_trace(go.Scatter(\n",
    "    x=x_natura,\n",
    "    y=y_geluk,\n",
    "    mode='markers',\n",
    "    marker=dict(color='orange'),\n",
    "    text=df_2012['country'],\n",
    "    name='In-kind-uitgaven (% BBP)',\n",
    "    hovertemplate=\"<b>%{text}</b><br>In-kind-uitgaven: %{x:.2f}% van BBP<br>Geluksscore: %{y:.2f}<extra></extra>\"\n",
    "))\n",
    "\n",
    "# Trendlijn cash\n",
    "fig.add_trace(go.Scatter(\n",
    "    x=x_vals_cash,\n",
    "    y=y_vals_cash,\n",
    "    mode='lines',\n",
    "    line=dict(color='blue', dash='dash'),\n",
    "    name='Trend cash-uitgaven'\n",
    "))\n",
    "\n",
    "# Trendlijn in-kind\n",
    "fig.add_trace(go.Scatter(\n",
    "    x=x_vals_natura,\n",
    "    y=y_vals_natura,\n",
    "    mode='lines',\n",
    "    line=dict(color='orange', dash='dash'),\n",
    "    name='Trend in-kind-uitgaven'\n",
    "))\n",
    "\n",
    "# Layout\n",
    "fig.update_layout(\n",
    "    title=\"Relatie tussen sociale uitgaven en geluk (2012)\",\n",
    "    xaxis_title=\"Sociale uitgaven als percentage van BBP\",\n",
    "    yaxis_title=\"Gemiddelde geluksscore (0–10)\",\n",
    "    template=\"simple_white\"\n",
    ")\n",
    "\n",
    "fig.show()\n"
   ]
  },
  {
   "cell_type": "markdown",
   "id": "e96462f9",
   "metadata": {},
   "source": [
    "**Visualisatie 2.3**  \n",
    "Deze grafiek toont een directe vergelijking tussen investeringen in persoonlijke hulpdiensten (geel) en directe uitkeringen in geld (blauw).\n",
    "\n",
    "*Wat zien we hier?*\n",
    "- ⁠De gele punten (hulpdiensten, r = 0,73) stijgen sterk: hoe meer hulpdiensten, hoe hoger de gemiddelde geluksscore.\n",
    "- ⁠De blauwe punten (cash-uitkeringen, r = 0,06) blijven vrijwel vlak: meer uitkeringen leiden nauwelijks tot extra geluk.\n",
    "- Frankrijk besteedt bijvoorbeeld in 2012 zo’n 13% van het BBP aan directe uitkeringen en haalt een geluksscore van 6,5. Zweden investeert minder in uitkeringen (9%), maar juist veel in hulpdiensten en scoort daarmee hoger: ongeveer 7,4.\n",
    "\n",
    "De grafiek laat duidelijk zien: persoonlijke hulpdiensten verbeteren het geluk aanzienlijk meer dan directe financiële steun.\n"
   ]
  },
  {
   "cell_type": "markdown",
   "id": "2cb99377",
   "metadata": {},
   "source": [
    "## Economisch rendement en beleidsimplicaties\n",
    "\n",
    "Gelukkige mensen zijn productiever. Uit de recente grote studie van Fang, Veenhoven & Burger (2025) blijkt dat elke flinke stap omhoog in gemiddelde geluksscore leidt tot ongeveer 35% extra productiviteit. Deze studie bundelt resultaten uit 27 landen en 197 verschillende onderzoeken, en laat daarmee zien dat investeren in geluk letterlijk loont.\n",
    "\n",
    "\n",
    "## Wat betekent dit voor Nederland?\n",
    "\n",
    "- ⁠Als Nederland slechts 1% extra van het nationale inkomen (BBP) investeert in persoonlijke hulpdiensten, stijgt de gemiddelde geluksscore naar verwachting al met ongeveer 0,25 punt.\n",
    "- ⁠Door de verhoogde productiviteit verdient deze investering zichzelf uiteindelijk terug. Meer geluk betekent niet alleen een prettiger leven, maar ook beter werk, minder zorgkosten en hogere belastingopbrengsten.\n",
    "- ⁠Nederland kan dit eenvoudig monitoren met drie concrete indicatoren: gemiddelde geluksscore, aantal zelfdodingen, en aantal mensen met mentale problemen.\n",
    "\n",
    "Meer investeren in persoonlijke hulpdiensten maakt Nederland dus niet alleen gelukkiger, maar ook economisch gezonder en veerkrachtiger."
   ]
  }
 ],
 "metadata": {
  "kernelspec": {
   "display_name": "base",
   "language": "python",
   "name": "python3"
  },
  "language_info": {
   "codemirror_mode": {
    "name": "ipython",
    "version": 3
   },
   "file_extension": ".py",
   "mimetype": "text/x-python",
   "name": "python",
   "nbconvert_exporter": "python",
   "pygments_lexer": "ipython3",
   "version": "3.11.5"
  }
 },
 "nbformat": 4,
 "nbformat_minor": 5
}
