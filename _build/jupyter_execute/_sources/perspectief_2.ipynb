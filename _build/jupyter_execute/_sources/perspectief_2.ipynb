{
 "cells": [
  {
   "cell_type": "markdown",
   "id": "3d99b2e9",
   "metadata": {},
   "source": [
    "# Vrijheid, politiek en geluk: hoe culturele factoren ons welzijn beïnvloeden\n",
    "Geluk hangt niet alleen af van welvaart, gezondheid en onderwijs. Ook culturele factoren, zoals vrijheid en politieke betrokkenheid, spelen een belangrijke rol.\n",
    "In dit perspectief onderzoeken we hoe vrijheid en politiek samenhangen met welzijn en sociaal gedrag. Alcoholgebruik gebruiken we daarbij als concreet voorbeeld van ontspanning en sociale vrijheid. Met drie visualisaties laten we zien hoe deze factoren samenhangen met geluk in verschillende landen."
   ]
  },
  {
   "cell_type": "markdown",
   "id": "ce64cddf",
   "metadata": {
    "hide-input": true
   },
   "source": [
    "## Eerste argument: Hoge politieke betrokkenheid hangt samen met lager gemiddeld geluk\n",
    "In landen waar politiek een grote rol speelt in het dagelijks leven, ervaren mensen gemiddeld minder geluk. Dat blijkt uit de cijfers. De grafiek hieronder laat zien dat landen waar meer mensen politiek 'heel belangrijk' vinden, gemiddeld lagere geluksscores rapporteren. Dit suggereert dat maatschappelijke zorgen of politieke spanningen het algemene welzijn negatief beïnvloeden."
   ]
  },
  {
   "cell_type": "code",
   "execution_count": 1,
   "id": "032a2028",
   "metadata": {
    "tags": [
     "hide-input"
    ]
   },
   "outputs": [
    {
     "ename": "FileNotFoundError",
     "evalue": "[Errno 2] No such file or directory: 'Data/Gecombineerde_dataset__Politiek_belang__alcoholconsumptie_en_geluk.csv'",
     "output_type": "error",
     "traceback": [
      "\u001b[0;31m---------------------------------------------------------------------------\u001b[0m",
      "\u001b[0;31mFileNotFoundError\u001b[0m                         Traceback (most recent call last)",
      "Cell \u001b[0;32mIn[1], line 8\u001b[0m\n\u001b[1;32m      6\u001b[0m \u001b[38;5;66;03m# Data inladen\u001b[39;00m\n\u001b[1;32m      7\u001b[0m pad \u001b[38;5;241m=\u001b[39m \u001b[38;5;124m\"\u001b[39m\u001b[38;5;124mData/Gecombineerde_dataset__Politiek_belang__alcoholconsumptie_en_geluk.csv\u001b[39m\u001b[38;5;124m\"\u001b[39m\n\u001b[0;32m----> 8\u001b[0m subset \u001b[38;5;241m=\u001b[39m pd\u001b[38;5;241m.\u001b[39mread_csv(pad)\n\u001b[1;32m      9\u001b[0m subset\u001b[38;5;241m.\u001b[39mcolumns \u001b[38;5;241m=\u001b[39m subset\u001b[38;5;241m.\u001b[39mcolumns\u001b[38;5;241m.\u001b[39mstr\u001b[38;5;241m.\u001b[39mstrip()\n\u001b[1;32m     11\u001b[0m \u001b[38;5;66;03m# Regressie berekenen\u001b[39;00m\n",
      "File \u001b[0;32m~/anaconda3/lib/python3.11/site-packages/pandas/io/parsers/readers.py:912\u001b[0m, in \u001b[0;36mread_csv\u001b[0;34m(filepath_or_buffer, sep, delimiter, header, names, index_col, usecols, dtype, engine, converters, true_values, false_values, skipinitialspace, skiprows, skipfooter, nrows, na_values, keep_default_na, na_filter, verbose, skip_blank_lines, parse_dates, infer_datetime_format, keep_date_col, date_parser, date_format, dayfirst, cache_dates, iterator, chunksize, compression, thousands, decimal, lineterminator, quotechar, quoting, doublequote, escapechar, comment, encoding, encoding_errors, dialect, on_bad_lines, delim_whitespace, low_memory, memory_map, float_precision, storage_options, dtype_backend)\u001b[0m\n\u001b[1;32m    899\u001b[0m kwds_defaults \u001b[38;5;241m=\u001b[39m _refine_defaults_read(\n\u001b[1;32m    900\u001b[0m     dialect,\n\u001b[1;32m    901\u001b[0m     delimiter,\n\u001b[0;32m   (...)\u001b[0m\n\u001b[1;32m    908\u001b[0m     dtype_backend\u001b[38;5;241m=\u001b[39mdtype_backend,\n\u001b[1;32m    909\u001b[0m )\n\u001b[1;32m    910\u001b[0m kwds\u001b[38;5;241m.\u001b[39mupdate(kwds_defaults)\n\u001b[0;32m--> 912\u001b[0m \u001b[38;5;28;01mreturn\u001b[39;00m _read(filepath_or_buffer, kwds)\n",
      "File \u001b[0;32m~/anaconda3/lib/python3.11/site-packages/pandas/io/parsers/readers.py:577\u001b[0m, in \u001b[0;36m_read\u001b[0;34m(filepath_or_buffer, kwds)\u001b[0m\n\u001b[1;32m    574\u001b[0m _validate_names(kwds\u001b[38;5;241m.\u001b[39mget(\u001b[38;5;124m\"\u001b[39m\u001b[38;5;124mnames\u001b[39m\u001b[38;5;124m\"\u001b[39m, \u001b[38;5;28;01mNone\u001b[39;00m))\n\u001b[1;32m    576\u001b[0m \u001b[38;5;66;03m# Create the parser.\u001b[39;00m\n\u001b[0;32m--> 577\u001b[0m parser \u001b[38;5;241m=\u001b[39m TextFileReader(filepath_or_buffer, \u001b[38;5;241m*\u001b[39m\u001b[38;5;241m*\u001b[39mkwds)\n\u001b[1;32m    579\u001b[0m \u001b[38;5;28;01mif\u001b[39;00m chunksize \u001b[38;5;129;01mor\u001b[39;00m iterator:\n\u001b[1;32m    580\u001b[0m     \u001b[38;5;28;01mreturn\u001b[39;00m parser\n",
      "File \u001b[0;32m~/anaconda3/lib/python3.11/site-packages/pandas/io/parsers/readers.py:1407\u001b[0m, in \u001b[0;36mTextFileReader.__init__\u001b[0;34m(self, f, engine, **kwds)\u001b[0m\n\u001b[1;32m   1404\u001b[0m     \u001b[38;5;28mself\u001b[39m\u001b[38;5;241m.\u001b[39moptions[\u001b[38;5;124m\"\u001b[39m\u001b[38;5;124mhas_index_names\u001b[39m\u001b[38;5;124m\"\u001b[39m] \u001b[38;5;241m=\u001b[39m kwds[\u001b[38;5;124m\"\u001b[39m\u001b[38;5;124mhas_index_names\u001b[39m\u001b[38;5;124m\"\u001b[39m]\n\u001b[1;32m   1406\u001b[0m \u001b[38;5;28mself\u001b[39m\u001b[38;5;241m.\u001b[39mhandles: IOHandles \u001b[38;5;241m|\u001b[39m \u001b[38;5;28;01mNone\u001b[39;00m \u001b[38;5;241m=\u001b[39m \u001b[38;5;28;01mNone\u001b[39;00m\n\u001b[0;32m-> 1407\u001b[0m \u001b[38;5;28mself\u001b[39m\u001b[38;5;241m.\u001b[39m_engine \u001b[38;5;241m=\u001b[39m \u001b[38;5;28mself\u001b[39m\u001b[38;5;241m.\u001b[39m_make_engine(f, \u001b[38;5;28mself\u001b[39m\u001b[38;5;241m.\u001b[39mengine)\n",
      "File \u001b[0;32m~/anaconda3/lib/python3.11/site-packages/pandas/io/parsers/readers.py:1661\u001b[0m, in \u001b[0;36mTextFileReader._make_engine\u001b[0;34m(self, f, engine)\u001b[0m\n\u001b[1;32m   1659\u001b[0m     \u001b[38;5;28;01mif\u001b[39;00m \u001b[38;5;124m\"\u001b[39m\u001b[38;5;124mb\u001b[39m\u001b[38;5;124m\"\u001b[39m \u001b[38;5;129;01mnot\u001b[39;00m \u001b[38;5;129;01min\u001b[39;00m mode:\n\u001b[1;32m   1660\u001b[0m         mode \u001b[38;5;241m+\u001b[39m\u001b[38;5;241m=\u001b[39m \u001b[38;5;124m\"\u001b[39m\u001b[38;5;124mb\u001b[39m\u001b[38;5;124m\"\u001b[39m\n\u001b[0;32m-> 1661\u001b[0m \u001b[38;5;28mself\u001b[39m\u001b[38;5;241m.\u001b[39mhandles \u001b[38;5;241m=\u001b[39m get_handle(\n\u001b[1;32m   1662\u001b[0m     f,\n\u001b[1;32m   1663\u001b[0m     mode,\n\u001b[1;32m   1664\u001b[0m     encoding\u001b[38;5;241m=\u001b[39m\u001b[38;5;28mself\u001b[39m\u001b[38;5;241m.\u001b[39moptions\u001b[38;5;241m.\u001b[39mget(\u001b[38;5;124m\"\u001b[39m\u001b[38;5;124mencoding\u001b[39m\u001b[38;5;124m\"\u001b[39m, \u001b[38;5;28;01mNone\u001b[39;00m),\n\u001b[1;32m   1665\u001b[0m     compression\u001b[38;5;241m=\u001b[39m\u001b[38;5;28mself\u001b[39m\u001b[38;5;241m.\u001b[39moptions\u001b[38;5;241m.\u001b[39mget(\u001b[38;5;124m\"\u001b[39m\u001b[38;5;124mcompression\u001b[39m\u001b[38;5;124m\"\u001b[39m, \u001b[38;5;28;01mNone\u001b[39;00m),\n\u001b[1;32m   1666\u001b[0m     memory_map\u001b[38;5;241m=\u001b[39m\u001b[38;5;28mself\u001b[39m\u001b[38;5;241m.\u001b[39moptions\u001b[38;5;241m.\u001b[39mget(\u001b[38;5;124m\"\u001b[39m\u001b[38;5;124mmemory_map\u001b[39m\u001b[38;5;124m\"\u001b[39m, \u001b[38;5;28;01mFalse\u001b[39;00m),\n\u001b[1;32m   1667\u001b[0m     is_text\u001b[38;5;241m=\u001b[39mis_text,\n\u001b[1;32m   1668\u001b[0m     errors\u001b[38;5;241m=\u001b[39m\u001b[38;5;28mself\u001b[39m\u001b[38;5;241m.\u001b[39moptions\u001b[38;5;241m.\u001b[39mget(\u001b[38;5;124m\"\u001b[39m\u001b[38;5;124mencoding_errors\u001b[39m\u001b[38;5;124m\"\u001b[39m, \u001b[38;5;124m\"\u001b[39m\u001b[38;5;124mstrict\u001b[39m\u001b[38;5;124m\"\u001b[39m),\n\u001b[1;32m   1669\u001b[0m     storage_options\u001b[38;5;241m=\u001b[39m\u001b[38;5;28mself\u001b[39m\u001b[38;5;241m.\u001b[39moptions\u001b[38;5;241m.\u001b[39mget(\u001b[38;5;124m\"\u001b[39m\u001b[38;5;124mstorage_options\u001b[39m\u001b[38;5;124m\"\u001b[39m, \u001b[38;5;28;01mNone\u001b[39;00m),\n\u001b[1;32m   1670\u001b[0m )\n\u001b[1;32m   1671\u001b[0m \u001b[38;5;28;01massert\u001b[39;00m \u001b[38;5;28mself\u001b[39m\u001b[38;5;241m.\u001b[39mhandles \u001b[38;5;129;01mis\u001b[39;00m \u001b[38;5;129;01mnot\u001b[39;00m \u001b[38;5;28;01mNone\u001b[39;00m\n\u001b[1;32m   1672\u001b[0m f \u001b[38;5;241m=\u001b[39m \u001b[38;5;28mself\u001b[39m\u001b[38;5;241m.\u001b[39mhandles\u001b[38;5;241m.\u001b[39mhandle\n",
      "File \u001b[0;32m~/anaconda3/lib/python3.11/site-packages/pandas/io/common.py:859\u001b[0m, in \u001b[0;36mget_handle\u001b[0;34m(path_or_buf, mode, encoding, compression, memory_map, is_text, errors, storage_options)\u001b[0m\n\u001b[1;32m    854\u001b[0m \u001b[38;5;28;01melif\u001b[39;00m \u001b[38;5;28misinstance\u001b[39m(handle, \u001b[38;5;28mstr\u001b[39m):\n\u001b[1;32m    855\u001b[0m     \u001b[38;5;66;03m# Check whether the filename is to be opened in binary mode.\u001b[39;00m\n\u001b[1;32m    856\u001b[0m     \u001b[38;5;66;03m# Binary mode does not support 'encoding' and 'newline'.\u001b[39;00m\n\u001b[1;32m    857\u001b[0m     \u001b[38;5;28;01mif\u001b[39;00m ioargs\u001b[38;5;241m.\u001b[39mencoding \u001b[38;5;129;01mand\u001b[39;00m \u001b[38;5;124m\"\u001b[39m\u001b[38;5;124mb\u001b[39m\u001b[38;5;124m\"\u001b[39m \u001b[38;5;129;01mnot\u001b[39;00m \u001b[38;5;129;01min\u001b[39;00m ioargs\u001b[38;5;241m.\u001b[39mmode:\n\u001b[1;32m    858\u001b[0m         \u001b[38;5;66;03m# Encoding\u001b[39;00m\n\u001b[0;32m--> 859\u001b[0m         handle \u001b[38;5;241m=\u001b[39m \u001b[38;5;28mopen\u001b[39m(\n\u001b[1;32m    860\u001b[0m             handle,\n\u001b[1;32m    861\u001b[0m             ioargs\u001b[38;5;241m.\u001b[39mmode,\n\u001b[1;32m    862\u001b[0m             encoding\u001b[38;5;241m=\u001b[39mioargs\u001b[38;5;241m.\u001b[39mencoding,\n\u001b[1;32m    863\u001b[0m             errors\u001b[38;5;241m=\u001b[39merrors,\n\u001b[1;32m    864\u001b[0m             newline\u001b[38;5;241m=\u001b[39m\u001b[38;5;124m\"\u001b[39m\u001b[38;5;124m\"\u001b[39m,\n\u001b[1;32m    865\u001b[0m         )\n\u001b[1;32m    866\u001b[0m     \u001b[38;5;28;01melse\u001b[39;00m:\n\u001b[1;32m    867\u001b[0m         \u001b[38;5;66;03m# Binary mode\u001b[39;00m\n\u001b[1;32m    868\u001b[0m         handle \u001b[38;5;241m=\u001b[39m \u001b[38;5;28mopen\u001b[39m(handle, ioargs\u001b[38;5;241m.\u001b[39mmode)\n",
      "\u001b[0;31mFileNotFoundError\u001b[0m: [Errno 2] No such file or directory: 'Data/Gecombineerde_dataset__Politiek_belang__alcoholconsumptie_en_geluk.csv'"
     ]
    }
   ],
   "source": [
    "import pandas as pd\n",
    "import plotly.graph_objects as go\n",
    "from scipy.stats import linregress\n",
    "import numpy as np\n",
    "\n",
    "# Data inladen\n",
    "pad = \"Data/Gecombineerde_dataset__Politiek_belang__alcoholconsumptie_en_geluk.csv\"\n",
    "subset = pd.read_csv(pad)\n",
    "subset.columns = subset.columns.str.strip()\n",
    "\n",
    "# Regressie berekenen\n",
    "slope, intercept, r_value, p_value, std_err = linregress(subset[\"Very important in life: Politics\"], subset[\"Cantril ladder score\"])\n",
    "\n",
    "# X-waarden voor lijn\n",
    "x_vals = np.linspace(subset[\"Very important in life: Politics\"].min(), subset[\"Very important in life: Politics\"].max(), 100)\n",
    "y_pred = slope * x_vals + intercept\n",
    "\n",
    "# Plot starten\n",
    "fig = go.Figure()\n",
    "\n",
    "# Simpele en catchy hovertekst\n",
    "fig.add_trace(go.Scatter(\n",
    "    x=subset[\"Very important in life: Politics\"],\n",
    "    y=subset[\"Cantril ladder score\"],\n",
    "    mode='markers',\n",
    "    marker=dict(\n",
    "        size=8,\n",
    "        color='steelblue',\n",
    "        line=dict(width=1, color='black'),\n",
    "        opacity=0.8\n",
    "    ),\n",
    "    text=subset[\"Entity\"],\n",
    "    hovertemplate=\"<b>%{text}</b><br>Mensen die politiek belangrijk vinden: %{x:.1f}%<br>Geluk score: %{y:.2f} op 10<extra></extra>\",\n",
    "    showlegend=False\n",
    "))\n",
    "\n",
    "# Regressielijn toevoegen\n",
    "fig.add_trace(go.Scatter(\n",
    "    x=x_vals,\n",
    "    y=y_pred,\n",
    "    mode='lines',\n",
    "    line=dict(color='red', dash='dash'),\n",
    "    name='Regressielijn'\n",
    "))\n",
    "\n",
    "# Layout\n",
    "fig.update_layout(\n",
    "    title=\"Relatie tussen politiek belang en geluk per land\",\n",
    "    xaxis_title=\"Percentage mensen dat politiek 'heel belangrijk' vindt\",\n",
    "    yaxis_title=\"Gemiddelde geluksscore (schaal 0 tot 10)\",\n",
    "    template=\"simple_white\",\n",
    "    showlegend=False\n",
    ")\n",
    "\n",
    "fig.show()\n",
    "fig.write_html(\"politiek_geluk_regressie.html\")\n"
   ]
  },
  {
   "cell_type": "markdown",
   "id": "246e4d2d",
   "metadata": {},
   "source": [
    "**Visualisatie 2.1**  \n",
    "Hoe belangrijk mensen politiek vinden, zegt iets over hoe gelukkig ze zich voelen. Dat zie je in deze visualisatie: elk punt staat voor een land, met op de x-as het percentage mensen dat politiek ‘heel belangrijk’ vindt en op de y-as de gemiddelde geluksscore (0–10).\n",
    "De rode lijn laat het patroon zien: in landen waar politiek belangrijker wordt gevonden, ligt het geluk gemiddeld lager. De samenhang is duidelijk: **r = -0.37**, een matig negatief verband.\n",
    "\n",
    "**Wat zien we:**  \n",
    "- In landen waar meer dan **20%** politiek 'heel belangrijk' vindt, zakt de geluksscore richting de **5**.  \n",
    "- In landen waar minder dan **10%** dat zegt, ligt het geluk rond de **7**. \n",
    "\n",
    "Mensen lijken zich minder gelukkig te voelen in landen waar politiek een grotere rol speelt. Het gaat om een samenhang, niet om een oorzakelijk verband.\n"
   ]
  },
  {
   "cell_type": "markdown",
   "id": "0bdab888",
   "metadata": {},
   "source": [
    "## Tweede argument: Gelukkige landen tonen minder politieke focus en meer ruimte voor ontspanning\n",
    "Landen waar mensen zich gelukkiger voelen, tonen opvallend minder politieke focus én meer ruimte voor ontspanning. Dat blijkt uit de cijfers: hoe hoger het gemiddelde geluk, hoe minder mensen politiek 'heel belangrijk' vinden en hoe hoger het gemiddelde alcoholgebruik ligt.\n",
    "Dat klinkt misschien onverwacht, maar het patroon is duidelijk. In gelukkige samenlevingen lijken mensen zich minder zorgen te maken over politiek en is er meer ruimte voor sociale vrijheid en ontspanning."
   ]
  },
  {
   "cell_type": "code",
   "execution_count": 2,
   "id": "1003204a",
   "metadata": {
    "tags": [
     "hide-input"
    ]
   },
   "outputs": [
    {
     "data": {
      "application/vnd.plotly.v1+json": {
       "config": {
        "plotlyServerURL": "https://plot.ly"
       },
       "data": [
        {
         "hovertemplate": "Categorie geluk: %{x}<br>Gemiddeld alcoholgebruik: %{y:.1f} liter per persoon per jaar<br>(Hoeveel alcohol mensen gemiddeld drinken in deze groep)",
         "marker": {
          "color": "#636EFA"
         },
         "name": "Alcoholgebruik (liter per jaar)",
         "text": [
          3.8,
          6.1,
          9.8
         ],
         "textposition": "outside",
         "type": "bar",
         "x": [
          "Laag geluk",
          "Gemiddeld geluk",
          "Hoog geluk"
         ],
         "y": [
          3.791357142857143,
          6.0783,
          9.843
         ]
        },
        {
         "hovertemplate": "Categorie geluk: %{x}<br>Gemiddeld percentage mensen dat politiek héél belangrijk vindt: %{y:.1f}%<br>(Hoeveel procent dit écht belangrijk vindt in deze groep)",
         "marker": {
          "color": "#EF553B"
         },
         "name": "Mensen die politiek héél belangrijk vinden (%)",
         "text": [
          19.2,
          13,
          10.7
         ],
         "textposition": "outside",
         "type": "bar",
         "x": [
          "Laag geluk",
          "Gemiddeld geluk",
          "Hoog geluk"
         ],
         "y": [
          19.192024,
          12.990429549999998,
          10.747422349999999
         ]
        }
       ],
       "layout": {
        "barmode": "group",
        "plot_bgcolor": "#F9F9F9",
        "template": {
         "data": {
          "bar": [
           {
            "error_x": {
             "color": "#2a3f5f"
            },
            "error_y": {
             "color": "#2a3f5f"
            },
            "marker": {
             "line": {
              "color": "#E5ECF6",
              "width": 0.5
             },
             "pattern": {
              "fillmode": "overlay",
              "size": 10,
              "solidity": 0.2
             }
            },
            "type": "bar"
           }
          ],
          "barpolar": [
           {
            "marker": {
             "line": {
              "color": "#E5ECF6",
              "width": 0.5
             },
             "pattern": {
              "fillmode": "overlay",
              "size": 10,
              "solidity": 0.2
             }
            },
            "type": "barpolar"
           }
          ],
          "carpet": [
           {
            "aaxis": {
             "endlinecolor": "#2a3f5f",
             "gridcolor": "white",
             "linecolor": "white",
             "minorgridcolor": "white",
             "startlinecolor": "#2a3f5f"
            },
            "baxis": {
             "endlinecolor": "#2a3f5f",
             "gridcolor": "white",
             "linecolor": "white",
             "minorgridcolor": "white",
             "startlinecolor": "#2a3f5f"
            },
            "type": "carpet"
           }
          ],
          "choropleth": [
           {
            "colorbar": {
             "outlinewidth": 0,
             "ticks": ""
            },
            "type": "choropleth"
           }
          ],
          "contour": [
           {
            "colorbar": {
             "outlinewidth": 0,
             "ticks": ""
            },
            "colorscale": [
             [
              0,
              "#0d0887"
             ],
             [
              0.1111111111111111,
              "#46039f"
             ],
             [
              0.2222222222222222,
              "#7201a8"
             ],
             [
              0.3333333333333333,
              "#9c179e"
             ],
             [
              0.4444444444444444,
              "#bd3786"
             ],
             [
              0.5555555555555556,
              "#d8576b"
             ],
             [
              0.6666666666666666,
              "#ed7953"
             ],
             [
              0.7777777777777778,
              "#fb9f3a"
             ],
             [
              0.8888888888888888,
              "#fdca26"
             ],
             [
              1,
              "#f0f921"
             ]
            ],
            "type": "contour"
           }
          ],
          "contourcarpet": [
           {
            "colorbar": {
             "outlinewidth": 0,
             "ticks": ""
            },
            "type": "contourcarpet"
           }
          ],
          "heatmap": [
           {
            "colorbar": {
             "outlinewidth": 0,
             "ticks": ""
            },
            "colorscale": [
             [
              0,
              "#0d0887"
             ],
             [
              0.1111111111111111,
              "#46039f"
             ],
             [
              0.2222222222222222,
              "#7201a8"
             ],
             [
              0.3333333333333333,
              "#9c179e"
             ],
             [
              0.4444444444444444,
              "#bd3786"
             ],
             [
              0.5555555555555556,
              "#d8576b"
             ],
             [
              0.6666666666666666,
              "#ed7953"
             ],
             [
              0.7777777777777778,
              "#fb9f3a"
             ],
             [
              0.8888888888888888,
              "#fdca26"
             ],
             [
              1,
              "#f0f921"
             ]
            ],
            "type": "heatmap"
           }
          ],
          "heatmapgl": [
           {
            "colorbar": {
             "outlinewidth": 0,
             "ticks": ""
            },
            "colorscale": [
             [
              0,
              "#0d0887"
             ],
             [
              0.1111111111111111,
              "#46039f"
             ],
             [
              0.2222222222222222,
              "#7201a8"
             ],
             [
              0.3333333333333333,
              "#9c179e"
             ],
             [
              0.4444444444444444,
              "#bd3786"
             ],
             [
              0.5555555555555556,
              "#d8576b"
             ],
             [
              0.6666666666666666,
              "#ed7953"
             ],
             [
              0.7777777777777778,
              "#fb9f3a"
             ],
             [
              0.8888888888888888,
              "#fdca26"
             ],
             [
              1,
              "#f0f921"
             ]
            ],
            "type": "heatmapgl"
           }
          ],
          "histogram": [
           {
            "marker": {
             "pattern": {
              "fillmode": "overlay",
              "size": 10,
              "solidity": 0.2
             }
            },
            "type": "histogram"
           }
          ],
          "histogram2d": [
           {
            "colorbar": {
             "outlinewidth": 0,
             "ticks": ""
            },
            "colorscale": [
             [
              0,
              "#0d0887"
             ],
             [
              0.1111111111111111,
              "#46039f"
             ],
             [
              0.2222222222222222,
              "#7201a8"
             ],
             [
              0.3333333333333333,
              "#9c179e"
             ],
             [
              0.4444444444444444,
              "#bd3786"
             ],
             [
              0.5555555555555556,
              "#d8576b"
             ],
             [
              0.6666666666666666,
              "#ed7953"
             ],
             [
              0.7777777777777778,
              "#fb9f3a"
             ],
             [
              0.8888888888888888,
              "#fdca26"
             ],
             [
              1,
              "#f0f921"
             ]
            ],
            "type": "histogram2d"
           }
          ],
          "histogram2dcontour": [
           {
            "colorbar": {
             "outlinewidth": 0,
             "ticks": ""
            },
            "colorscale": [
             [
              0,
              "#0d0887"
             ],
             [
              0.1111111111111111,
              "#46039f"
             ],
             [
              0.2222222222222222,
              "#7201a8"
             ],
             [
              0.3333333333333333,
              "#9c179e"
             ],
             [
              0.4444444444444444,
              "#bd3786"
             ],
             [
              0.5555555555555556,
              "#d8576b"
             ],
             [
              0.6666666666666666,
              "#ed7953"
             ],
             [
              0.7777777777777778,
              "#fb9f3a"
             ],
             [
              0.8888888888888888,
              "#fdca26"
             ],
             [
              1,
              "#f0f921"
             ]
            ],
            "type": "histogram2dcontour"
           }
          ],
          "mesh3d": [
           {
            "colorbar": {
             "outlinewidth": 0,
             "ticks": ""
            },
            "type": "mesh3d"
           }
          ],
          "parcoords": [
           {
            "line": {
             "colorbar": {
              "outlinewidth": 0,
              "ticks": ""
             }
            },
            "type": "parcoords"
           }
          ],
          "pie": [
           {
            "automargin": true,
            "type": "pie"
           }
          ],
          "scatter": [
           {
            "fillpattern": {
             "fillmode": "overlay",
             "size": 10,
             "solidity": 0.2
            },
            "type": "scatter"
           }
          ],
          "scatter3d": [
           {
            "line": {
             "colorbar": {
              "outlinewidth": 0,
              "ticks": ""
             }
            },
            "marker": {
             "colorbar": {
              "outlinewidth": 0,
              "ticks": ""
             }
            },
            "type": "scatter3d"
           }
          ],
          "scattercarpet": [
           {
            "marker": {
             "colorbar": {
              "outlinewidth": 0,
              "ticks": ""
             }
            },
            "type": "scattercarpet"
           }
          ],
          "scattergeo": [
           {
            "marker": {
             "colorbar": {
              "outlinewidth": 0,
              "ticks": ""
             }
            },
            "type": "scattergeo"
           }
          ],
          "scattergl": [
           {
            "marker": {
             "colorbar": {
              "outlinewidth": 0,
              "ticks": ""
             }
            },
            "type": "scattergl"
           }
          ],
          "scattermapbox": [
           {
            "marker": {
             "colorbar": {
              "outlinewidth": 0,
              "ticks": ""
             }
            },
            "type": "scattermapbox"
           }
          ],
          "scatterpolar": [
           {
            "marker": {
             "colorbar": {
              "outlinewidth": 0,
              "ticks": ""
             }
            },
            "type": "scatterpolar"
           }
          ],
          "scatterpolargl": [
           {
            "marker": {
             "colorbar": {
              "outlinewidth": 0,
              "ticks": ""
             }
            },
            "type": "scatterpolargl"
           }
          ],
          "scatterternary": [
           {
            "marker": {
             "colorbar": {
              "outlinewidth": 0,
              "ticks": ""
             }
            },
            "type": "scatterternary"
           }
          ],
          "surface": [
           {
            "colorbar": {
             "outlinewidth": 0,
             "ticks": ""
            },
            "colorscale": [
             [
              0,
              "#0d0887"
             ],
             [
              0.1111111111111111,
              "#46039f"
             ],
             [
              0.2222222222222222,
              "#7201a8"
             ],
             [
              0.3333333333333333,
              "#9c179e"
             ],
             [
              0.4444444444444444,
              "#bd3786"
             ],
             [
              0.5555555555555556,
              "#d8576b"
             ],
             [
              0.6666666666666666,
              "#ed7953"
             ],
             [
              0.7777777777777778,
              "#fb9f3a"
             ],
             [
              0.8888888888888888,
              "#fdca26"
             ],
             [
              1,
              "#f0f921"
             ]
            ],
            "type": "surface"
           }
          ],
          "table": [
           {
            "cells": {
             "fill": {
              "color": "#EBF0F8"
             },
             "line": {
              "color": "white"
             }
            },
            "header": {
             "fill": {
              "color": "#C8D4E3"
             },
             "line": {
              "color": "white"
             }
            },
            "type": "table"
           }
          ]
         },
         "layout": {
          "annotationdefaults": {
           "arrowcolor": "#2a3f5f",
           "arrowhead": 0,
           "arrowwidth": 1
          },
          "autotypenumbers": "strict",
          "coloraxis": {
           "colorbar": {
            "outlinewidth": 0,
            "ticks": ""
           }
          },
          "colorscale": {
           "diverging": [
            [
             0,
             "#8e0152"
            ],
            [
             0.1,
             "#c51b7d"
            ],
            [
             0.2,
             "#de77ae"
            ],
            [
             0.3,
             "#f1b6da"
            ],
            [
             0.4,
             "#fde0ef"
            ],
            [
             0.5,
             "#f7f7f7"
            ],
            [
             0.6,
             "#e6f5d0"
            ],
            [
             0.7,
             "#b8e186"
            ],
            [
             0.8,
             "#7fbc41"
            ],
            [
             0.9,
             "#4d9221"
            ],
            [
             1,
             "#276419"
            ]
           ],
           "sequential": [
            [
             0,
             "#0d0887"
            ],
            [
             0.1111111111111111,
             "#46039f"
            ],
            [
             0.2222222222222222,
             "#7201a8"
            ],
            [
             0.3333333333333333,
             "#9c179e"
            ],
            [
             0.4444444444444444,
             "#bd3786"
            ],
            [
             0.5555555555555556,
             "#d8576b"
            ],
            [
             0.6666666666666666,
             "#ed7953"
            ],
            [
             0.7777777777777778,
             "#fb9f3a"
            ],
            [
             0.8888888888888888,
             "#fdca26"
            ],
            [
             1,
             "#f0f921"
            ]
           ],
           "sequentialminus": [
            [
             0,
             "#0d0887"
            ],
            [
             0.1111111111111111,
             "#46039f"
            ],
            [
             0.2222222222222222,
             "#7201a8"
            ],
            [
             0.3333333333333333,
             "#9c179e"
            ],
            [
             0.4444444444444444,
             "#bd3786"
            ],
            [
             0.5555555555555556,
             "#d8576b"
            ],
            [
             0.6666666666666666,
             "#ed7953"
            ],
            [
             0.7777777777777778,
             "#fb9f3a"
            ],
            [
             0.8888888888888888,
             "#fdca26"
            ],
            [
             1,
             "#f0f921"
            ]
           ]
          },
          "colorway": [
           "#636efa",
           "#EF553B",
           "#00cc96",
           "#ab63fa",
           "#FFA15A",
           "#19d3f3",
           "#FF6692",
           "#B6E880",
           "#FF97FF",
           "#FECB52"
          ],
          "font": {
           "color": "#2a3f5f"
          },
          "geo": {
           "bgcolor": "white",
           "lakecolor": "white",
           "landcolor": "#E5ECF6",
           "showlakes": true,
           "showland": true,
           "subunitcolor": "white"
          },
          "hoverlabel": {
           "align": "left"
          },
          "hovermode": "closest",
          "mapbox": {
           "style": "light"
          },
          "paper_bgcolor": "white",
          "plot_bgcolor": "#E5ECF6",
          "polar": {
           "angularaxis": {
            "gridcolor": "white",
            "linecolor": "white",
            "ticks": ""
           },
           "bgcolor": "#E5ECF6",
           "radialaxis": {
            "gridcolor": "white",
            "linecolor": "white",
            "ticks": ""
           }
          },
          "scene": {
           "xaxis": {
            "backgroundcolor": "#E5ECF6",
            "gridcolor": "white",
            "gridwidth": 2,
            "linecolor": "white",
            "showbackground": true,
            "ticks": "",
            "zerolinecolor": "white"
           },
           "yaxis": {
            "backgroundcolor": "#E5ECF6",
            "gridcolor": "white",
            "gridwidth": 2,
            "linecolor": "white",
            "showbackground": true,
            "ticks": "",
            "zerolinecolor": "white"
           },
           "zaxis": {
            "backgroundcolor": "#E5ECF6",
            "gridcolor": "white",
            "gridwidth": 2,
            "linecolor": "white",
            "showbackground": true,
            "ticks": "",
            "zerolinecolor": "white"
           }
          },
          "shapedefaults": {
           "line": {
            "color": "#2a3f5f"
           }
          },
          "ternary": {
           "aaxis": {
            "gridcolor": "white",
            "linecolor": "white",
            "ticks": ""
           },
           "baxis": {
            "gridcolor": "white",
            "linecolor": "white",
            "ticks": ""
           },
           "bgcolor": "#E5ECF6",
           "caxis": {
            "gridcolor": "white",
            "linecolor": "white",
            "ticks": ""
           }
          },
          "title": {
           "x": 0.05
          },
          "xaxis": {
           "automargin": true,
           "gridcolor": "white",
           "linecolor": "white",
           "ticks": "",
           "title": {
            "standoff": 15
           },
           "zerolinecolor": "white",
           "zerolinewidth": 2
          },
          "yaxis": {
           "automargin": true,
           "gridcolor": "white",
           "linecolor": "white",
           "ticks": "",
           "title": {
            "standoff": 15
           },
           "zerolinecolor": "white",
           "zerolinewidth": 2
          }
         }
        },
        "title": {
         "text": "Gemiddeld alcoholgebruik en politiek belang per gelukscategorie"
        },
        "xaxis": {
         "title": {
          "text": "Gelukscategorie"
         }
        },
        "yaxis": {
         "title": {
          "text": "Waarde"
         }
        }
       }
      }
     },
     "metadata": {},
     "output_type": "display_data"
    }
   ],
   "source": [
    "import pandas as pd\n",
    "import plotly.graph_objects as go\n",
    "\n",
    "# Data inladen\n",
    "pad = \"Data/Gecombineerde_dataset__Politiek_belang__alcoholconsumptie_en_geluk.csv\"\n",
    "subset = pd.read_csv(pad)\n",
    "subset.columns = subset.columns.str.strip()\n",
    "\n",
    "# Gelukscategorie aanmaken\n",
    "subset[\"Gelukscategorie\"] = pd.cut(\n",
    "    subset[\"Cantril ladder score\"],\n",
    "    bins=[0, 5, 6.5, 10],\n",
    "    labels=[\"Laag geluk\", \"Gemiddeld geluk\", \"Hoog geluk\"]\n",
    ")\n",
    "\n",
    "# Gemiddelden per gelukscategorie\n",
    "gemiddelden = subset.groupby(\"Gelukscategorie\").agg({\n",
    "    \"alcohol_consumption\": \"mean\",\n",
    "    \"Very important in life: Politics\": \"mean\"\n",
    "}).reset_index()\n",
    "\n",
    "# Kleuren\n",
    "kleuren = ['#636EFA', '#EF553B']\n",
    "\n",
    "# Barplot maken met begrijpelijke hover\n",
    "fig2 = go.Figure()\n",
    "\n",
    "fig2.add_trace(go.Bar(\n",
    "    x=gemiddelden[\"Gelukscategorie\"],\n",
    "    y=gemiddelden[\"alcohol_consumption\"],\n",
    "    name=\"Alcoholgebruik (liter per jaar)\",\n",
    "    marker_color=kleuren[0],\n",
    "    text=gemiddelden[\"alcohol_consumption\"].round(1),\n",
    "    textposition='outside',\n",
    "    hovertemplate=(\n",
    "        \"Categorie geluk: %{x}<br>\"\n",
    "        \"Gemiddeld alcoholgebruik: %{y:.1f} liter per persoon per jaar<br>\"\n",
    "        \"(Hoeveel alcohol mensen gemiddeld drinken in deze groep)\"\n",
    "    )\n",
    "))\n",
    "\n",
    "fig2.add_trace(go.Bar(\n",
    "    x=gemiddelden[\"Gelukscategorie\"],\n",
    "    y=gemiddelden[\"Very important in life: Politics\"],\n",
    "    name=\"Mensen die politiek héél belangrijk vinden (%)\",\n",
    "    marker_color=kleuren[1],\n",
    "    text=gemiddelden[\"Very important in life: Politics\"].round(1),\n",
    "    textposition='outside',\n",
    "    hovertemplate=(\n",
    "        \"Categorie geluk: %{x}<br>\"\n",
    "        \"Gemiddeld percentage mensen dat politiek héél belangrijk vindt: %{y:.1f}%<br>\"\n",
    "        \"(Hoeveel procent dit écht belangrijk vindt in deze groep)\"\n",
    "    )\n",
    "))\n",
    "\n",
    "fig2.update_layout(\n",
    "    barmode='group',\n",
    "    title=\"Gemiddeld alcoholgebruik en politiek belang per gelukscategorie\",\n",
    "    yaxis_title=\"Waarde\",\n",
    "    xaxis_title=\"Gelukscategorie\",\n",
    "    plot_bgcolor=\"#F9F9F9\"\n",
    ")\n",
    "\n",
    "fig2.show()\n",
    "fig2.write_html(\"politiek_alcohol_geluk.html\")"
   ]
  },
  {
   "cell_type": "markdown",
   "id": "7556ec03",
   "metadata": {},
   "source": [
    "**Visualisatie 2.2**  \n",
    "De visualisatie verdeelt landen in drie groepen op basis van hun gemiddelde geluksscore: laag, gemiddeld en hoog. Per groep zie je het gemiddelde alcoholgebruik en het percentage mensen dat politiek 'heel belangrijk' vindt.\n",
    "\n",
    "Wat blijkt uit de data:  \n",
    "- In landen met een hoge geluksscore wordt gemiddeld ruim **10** liter alcohol per persoon per jaar gedronken, en vindt slechts **12%** politiek heel belangrijk.\n",
    "- In landen met een lage geluksscore, zoals Bangladesh en Egypte, is dat slechts **5** liter alcohol, terwijl **28%** politiek belangrijk vindt.\n",
    "\n",
    "In gelukkige samenlevingen maken mensen zich minder druk om politiek en is er meer ruimte voor ontspanning en sociaal gedrag. Alcoholgebruik is hier geen oordeel, maar een concreet voorbeeld van sociale vrijheid."
   ]
  },
  {
   "cell_type": "markdown",
   "id": "6b9e7aa9",
   "metadata": {},
   "source": [
    "## Derde argument: Meer vrijheid hangt samen met hoger gemiddeld geluk en meer sociaal gedrag\n",
    "Vrijheid speelt een sleutelrol in het verklaren van verschillen in geluk en gedrag tussen landen. In landen waar mensen meer vrijheid ervaren, wordt niet alleen meer alcohol gedronken, maar voelen mensen zich ook gelukkiger. De cijfers bevestigen dit duidelijke verband."
   ]
  },
  {
   "cell_type": "code",
   "execution_count": 3,
   "id": "bfbf5b86",
   "metadata": {
    "tags": [
     "hide-input"
    ]
   },
   "outputs": [
    {
     "data": {
      "application/vnd.plotly.v1+json": {
       "config": {
        "plotlyServerURL": "https://plot.ly"
       },
       "data": [
        {
         "hovertemplate": "<b>%{hovertext}</b><br><br>Type land=Gedeeltelijk vrij land<br>Gemiddelde geluksscore (0-10)=%{x}<br>Alcoholgebruik per persoon (liter per jaar)=%{y}<br>Vrijheidsscore van het land (0 = niet vrij, 100 = heel vrij)=%{marker.size}<extra></extra>",
         "hovertext": [
          "Dominican Republic",
          "El Salvador",
          "Tanzania",
          "Moldova",
          "Zambia",
          "Kuwait",
          "India",
          "Armenia",
          "Georgia",
          "Tunisia",
          "Lebanon",
          "Kenya",
          "Indonesia",
          "Albania",
          "Guatemala",
          "Ukraine",
          "Maldives",
          "Nigeria",
          "Serbia",
          "North Macedonia",
          "Singapore",
          "Peru",
          "Hungary",
          "Philippines",
          "Pakistan",
          "Malaysia",
          "Bangladesh",
          "Mexico",
          "Montenegro",
          "Morocco",
          "Bolivia",
          "Bosnia and Herzegovina"
         ],
         "legendgroup": "Gedeeltelijk vrij land",
         "marker": {
          "color": "#636efa",
          "line": {
           "width": 1
          },
          "opacity": 0.7,
          "size": [
           68,
           56,
           36,
           62,
           54,
           37,
           66,
           54,
           58,
           56,
           43,
           52,
           58,
           67,
           49,
           50,
           41,
           43,
           60,
           68,
           47,
           70,
           66,
           58,
           37,
           53,
           40,
           60,
           67,
           37,
           66,
           52
          ],
          "sizemode": "area",
          "sizeref": 0.25,
          "symbol": "circle"
         },
         "mode": "markers",
         "name": "Gedeeltelijk vrij land",
         "orientation": "v",
         "showlegend": true,
         "type": "scatter",
         "x": [
          5.545,
          6.061,
          3.623,
          5.766,
          4.073,
          6.106,
          3.819,
          5.283,
          4.891,
          4.596,
          4.584,
          4.607,
          5.345,
          5.117,
          6.435,
          4.875,
          5.198,
          4.759,
          5.7782,
          5.101,
          6.377,
          5.84,
          5.992,
          5.88,
          4.934,
          5.384,
          5.025,
          6.317,
          5.5461,
          4.918,
          5.716,
          5.813
         ],
         "xaxis": "x",
         "y": [
          6.5,
          3.15,
          10.95,
          11.08,
          3.62,
          0,
          4.1,
          4.28,
          14.41,
          1.71,
          1.26,
          2.47,
          0.074,
          4.47,
          1.54,
          9.24,
          1.49,
          3.78,
          7.89,
          4.36,
          1.81,
          6.45,
          9.93,
          5.66,
          0.084,
          0.74,
          0.092,
          4.79,
          10.34,
          0.5,
          3.59,
          5.87
         ],
         "yaxis": "y"
        },
        {
         "hovertemplate": "<b>%{hovertext}</b><br><br>Type land=Niet vrij land<br>Gemiddelde geluksscore (0-10)=%{x}<br>Alcoholgebruik per persoon (liter per jaar)=%{y}<br>Vrijheidsscore van het land (0 = niet vrij, 100 = heel vrij)=%{marker.size}<extra></extra>",
         "hovertext": [
          "Uganda",
          "Saudi Arabia",
          "Burkina Faso",
          "Mali",
          "Qatar",
          "Yemen",
          "Uzbekistan",
          "Algeria",
          "Rwanda",
          "Haiti",
          "Kyrgyzstan",
          "Thailand",
          "Tajikistan",
          "Libya",
          "Jordan",
          "Vietnam",
          "Venezuela",
          "Iran",
          "Iraq",
          "Kazakhstan",
          "Turkey",
          "Russia",
          "China",
          "Nicaragua",
          "Azerbaijan",
          "Ethiopia",
          "Belarus",
          "Myanmar",
          "Egypt",
          "Zimbabwe"
         ],
         "legendgroup": "Niet vrij land",
         "marker": {
          "color": "#EF553B",
          "line": {
           "width": 1
          },
          "opacity": 0.7,
          "size": [
           35,
           8,
           30,
           29,
           25,
           9,
           12,
           32,
           23,
           31,
           27,
           30,
           7,
           10,
           33,
           19,
           15,
           12,
           29,
           23,
           32,
           16,
           9,
           19,
           9,
           21,
           8,
           9,
           18,
           28
          ],
          "sizemode": "area",
          "sizeref": 0.25,
          "symbol": "circle"
         },
         "mode": "markers",
         "name": "Niet vrij land",
         "orientation": "v",
         "showlegend": true,
         "type": "scatter",
         "x": [
          4.636,
          6.494,
          4.834,
          4.723,
          6.374,
          3.658,
          6.179,
          4.887,
          3.415,
          3.615,
          5.744,
          5.985,
          5.466,
          5.41,
          4.395,
          5.411,
          4.892,
          4.721,
          4.854,
          6.152,
          4.948,
          5.477,
          5.339,
          5.972,
          5.171,
          4.275,
          5.534,
          4.426,
          4.283,
          3.145
         ],
         "xaxis": "x",
         "y": [
          11.3,
          0,
          11.27,
          5.32,
          1.15,
          0.044,
          2.1,
          0.54,
          2.87,
          3.11,
          3.63,
          7.99,
          0.74,
          0.012,
          0.23,
          8.04,
          1.99,
          0.51,
          0.24,
          4.52,
          1.69,
          10.53,
          4.58,
          3.67,
          2.49,
          3.06,
          11.63,
          1.93,
          0.13,
          2.67
         ],
         "yaxis": "y"
        },
        {
         "hovertemplate": "<b>%{hovertext}</b><br><br>Type land=Vrij land<br>Gemiddelde geluksscore (0-10)=%{x}<br>Alcoholgebruik per persoon (liter per jaar)=%{y}<br>Vrijheidsscore van het land (0 = niet vrij, 100 = heel vrij)=%{marker.size}<extra></extra>",
         "hovertext": [
          "Belgium",
          "Malta",
          "Ireland",
          "Luxembourg",
          "South Africa",
          "Trinidad and Tobago",
          "Ghana",
          "Poland",
          "Latvia",
          "Australia",
          "Iceland",
          "Uruguay",
          "United States",
          "Greece",
          "Italy",
          "United Kingdom",
          "Japan",
          "Germany",
          "Switzerland",
          "Argentina",
          "Lithuania",
          "Austria",
          "Bulgaria",
          "Denmark",
          "Norway",
          "Cyprus",
          "Canada",
          "Romania",
          "Chile",
          "Croatia",
          "Portugal",
          "Colombia",
          "Ecuador",
          "Brazil",
          "Sweden",
          "Spain",
          "Finland",
          "South Korea",
          "Mongolia",
          "Estonia",
          "Slovenia",
          "Netherlands",
          "Slovakia",
          "New Zealand",
          "France"
         ],
         "legendgroup": "Vrij land",
         "marker": {
          "color": "#00cc96",
          "line": {
           "width": 1
          },
          "opacity": 0.7,
          "size": [
           96,
           89,
           97,
           97,
           79,
           82,
           80,
           81,
           88,
           95,
           94,
           96,
           83,
           86,
           90,
           93,
           96,
           94,
           96,
           85,
           89,
           93,
           79,
           97,
           100,
           92,
           98,
           83,
           94,
           84,
           96,
           70,
           70,
           72,
           100,
           90,
           100,
           83,
           84,
           94,
           95,
           97,
           90,
           99,
           89
          ],
          "sizemode": "area",
          "sizeref": 0.25,
          "symbol": "circle"
         },
         "mode": "markers",
         "name": "Vrij land",
         "orientation": "v",
         "showlegend": true,
         "type": "scatter",
         "x": [
          6.834,
          6.602,
          7.085,
          7.324,
          4.956,
          6.1919,
          5.088,
          6.166,
          6.032,
          7.183,
          7.554,
          6.431,
          6.951,
          5.723,
          6.483,
          7.064,
          5.94,
          7.155,
          7.571,
          5.929,
          6.255,
          7.268,
          5.266,
          7.62,
          7.392,
          6.223,
          7.103,
          6.14,
          6.172,
          5.882,
          5.929,
          6.012,
          5.764,
          6.33,
          7.363,
          6.491,
          7.842,
          5.845,
          5.677,
          6.189,
          6.461,
          7.464,
          6.331,
          7.277,
          6.69
         ],
         "xaxis": "x",
         "y": [
          9.43,
          7.11,
          10.77,
          10.82,
          7.13,
          6.06,
          4.26,
          11.66,
          12.87,
          10.29,
          7.94,
          5.61,
          9.9,
          5.81,
          6.97,
          10.73,
          6.38,
          11.84,
          10.07,
          8.05,
          12.1,
          11.51,
          11.62,
          9.49,
          7.38,
          6.36,
          9.89,
          16.8,
          7.56,
          7.65,
          8.88,
          4.24,
          2.54,
          7.7,
          9.57,
          9.16,
          9.08,
          7.79,
          7.68,
          10.68,
          10.41,
          8.71,
          10.67,
          10.02,
          10.32
         ],
         "yaxis": "y"
        }
       ],
       "layout": {
        "legend": {
         "itemsizing": "constant",
         "title": {
          "text": "Type land"
         },
         "tracegroupgap": 0
        },
        "template": {
         "data": {
          "bar": [
           {
            "error_x": {
             "color": "#2a3f5f"
            },
            "error_y": {
             "color": "#2a3f5f"
            },
            "marker": {
             "line": {
              "color": "#E5ECF6",
              "width": 0.5
             },
             "pattern": {
              "fillmode": "overlay",
              "size": 10,
              "solidity": 0.2
             }
            },
            "type": "bar"
           }
          ],
          "barpolar": [
           {
            "marker": {
             "line": {
              "color": "#E5ECF6",
              "width": 0.5
             },
             "pattern": {
              "fillmode": "overlay",
              "size": 10,
              "solidity": 0.2
             }
            },
            "type": "barpolar"
           }
          ],
          "carpet": [
           {
            "aaxis": {
             "endlinecolor": "#2a3f5f",
             "gridcolor": "white",
             "linecolor": "white",
             "minorgridcolor": "white",
             "startlinecolor": "#2a3f5f"
            },
            "baxis": {
             "endlinecolor": "#2a3f5f",
             "gridcolor": "white",
             "linecolor": "white",
             "minorgridcolor": "white",
             "startlinecolor": "#2a3f5f"
            },
            "type": "carpet"
           }
          ],
          "choropleth": [
           {
            "colorbar": {
             "outlinewidth": 0,
             "ticks": ""
            },
            "type": "choropleth"
           }
          ],
          "contour": [
           {
            "colorbar": {
             "outlinewidth": 0,
             "ticks": ""
            },
            "colorscale": [
             [
              0,
              "#0d0887"
             ],
             [
              0.1111111111111111,
              "#46039f"
             ],
             [
              0.2222222222222222,
              "#7201a8"
             ],
             [
              0.3333333333333333,
              "#9c179e"
             ],
             [
              0.4444444444444444,
              "#bd3786"
             ],
             [
              0.5555555555555556,
              "#d8576b"
             ],
             [
              0.6666666666666666,
              "#ed7953"
             ],
             [
              0.7777777777777778,
              "#fb9f3a"
             ],
             [
              0.8888888888888888,
              "#fdca26"
             ],
             [
              1,
              "#f0f921"
             ]
            ],
            "type": "contour"
           }
          ],
          "contourcarpet": [
           {
            "colorbar": {
             "outlinewidth": 0,
             "ticks": ""
            },
            "type": "contourcarpet"
           }
          ],
          "heatmap": [
           {
            "colorbar": {
             "outlinewidth": 0,
             "ticks": ""
            },
            "colorscale": [
             [
              0,
              "#0d0887"
             ],
             [
              0.1111111111111111,
              "#46039f"
             ],
             [
              0.2222222222222222,
              "#7201a8"
             ],
             [
              0.3333333333333333,
              "#9c179e"
             ],
             [
              0.4444444444444444,
              "#bd3786"
             ],
             [
              0.5555555555555556,
              "#d8576b"
             ],
             [
              0.6666666666666666,
              "#ed7953"
             ],
             [
              0.7777777777777778,
              "#fb9f3a"
             ],
             [
              0.8888888888888888,
              "#fdca26"
             ],
             [
              1,
              "#f0f921"
             ]
            ],
            "type": "heatmap"
           }
          ],
          "heatmapgl": [
           {
            "colorbar": {
             "outlinewidth": 0,
             "ticks": ""
            },
            "colorscale": [
             [
              0,
              "#0d0887"
             ],
             [
              0.1111111111111111,
              "#46039f"
             ],
             [
              0.2222222222222222,
              "#7201a8"
             ],
             [
              0.3333333333333333,
              "#9c179e"
             ],
             [
              0.4444444444444444,
              "#bd3786"
             ],
             [
              0.5555555555555556,
              "#d8576b"
             ],
             [
              0.6666666666666666,
              "#ed7953"
             ],
             [
              0.7777777777777778,
              "#fb9f3a"
             ],
             [
              0.8888888888888888,
              "#fdca26"
             ],
             [
              1,
              "#f0f921"
             ]
            ],
            "type": "heatmapgl"
           }
          ],
          "histogram": [
           {
            "marker": {
             "pattern": {
              "fillmode": "overlay",
              "size": 10,
              "solidity": 0.2
             }
            },
            "type": "histogram"
           }
          ],
          "histogram2d": [
           {
            "colorbar": {
             "outlinewidth": 0,
             "ticks": ""
            },
            "colorscale": [
             [
              0,
              "#0d0887"
             ],
             [
              0.1111111111111111,
              "#46039f"
             ],
             [
              0.2222222222222222,
              "#7201a8"
             ],
             [
              0.3333333333333333,
              "#9c179e"
             ],
             [
              0.4444444444444444,
              "#bd3786"
             ],
             [
              0.5555555555555556,
              "#d8576b"
             ],
             [
              0.6666666666666666,
              "#ed7953"
             ],
             [
              0.7777777777777778,
              "#fb9f3a"
             ],
             [
              0.8888888888888888,
              "#fdca26"
             ],
             [
              1,
              "#f0f921"
             ]
            ],
            "type": "histogram2d"
           }
          ],
          "histogram2dcontour": [
           {
            "colorbar": {
             "outlinewidth": 0,
             "ticks": ""
            },
            "colorscale": [
             [
              0,
              "#0d0887"
             ],
             [
              0.1111111111111111,
              "#46039f"
             ],
             [
              0.2222222222222222,
              "#7201a8"
             ],
             [
              0.3333333333333333,
              "#9c179e"
             ],
             [
              0.4444444444444444,
              "#bd3786"
             ],
             [
              0.5555555555555556,
              "#d8576b"
             ],
             [
              0.6666666666666666,
              "#ed7953"
             ],
             [
              0.7777777777777778,
              "#fb9f3a"
             ],
             [
              0.8888888888888888,
              "#fdca26"
             ],
             [
              1,
              "#f0f921"
             ]
            ],
            "type": "histogram2dcontour"
           }
          ],
          "mesh3d": [
           {
            "colorbar": {
             "outlinewidth": 0,
             "ticks": ""
            },
            "type": "mesh3d"
           }
          ],
          "parcoords": [
           {
            "line": {
             "colorbar": {
              "outlinewidth": 0,
              "ticks": ""
             }
            },
            "type": "parcoords"
           }
          ],
          "pie": [
           {
            "automargin": true,
            "type": "pie"
           }
          ],
          "scatter": [
           {
            "fillpattern": {
             "fillmode": "overlay",
             "size": 10,
             "solidity": 0.2
            },
            "type": "scatter"
           }
          ],
          "scatter3d": [
           {
            "line": {
             "colorbar": {
              "outlinewidth": 0,
              "ticks": ""
             }
            },
            "marker": {
             "colorbar": {
              "outlinewidth": 0,
              "ticks": ""
             }
            },
            "type": "scatter3d"
           }
          ],
          "scattercarpet": [
           {
            "marker": {
             "colorbar": {
              "outlinewidth": 0,
              "ticks": ""
             }
            },
            "type": "scattercarpet"
           }
          ],
          "scattergeo": [
           {
            "marker": {
             "colorbar": {
              "outlinewidth": 0,
              "ticks": ""
             }
            },
            "type": "scattergeo"
           }
          ],
          "scattergl": [
           {
            "marker": {
             "colorbar": {
              "outlinewidth": 0,
              "ticks": ""
             }
            },
            "type": "scattergl"
           }
          ],
          "scattermapbox": [
           {
            "marker": {
             "colorbar": {
              "outlinewidth": 0,
              "ticks": ""
             }
            },
            "type": "scattermapbox"
           }
          ],
          "scatterpolar": [
           {
            "marker": {
             "colorbar": {
              "outlinewidth": 0,
              "ticks": ""
             }
            },
            "type": "scatterpolar"
           }
          ],
          "scatterpolargl": [
           {
            "marker": {
             "colorbar": {
              "outlinewidth": 0,
              "ticks": ""
             }
            },
            "type": "scatterpolargl"
           }
          ],
          "scatterternary": [
           {
            "marker": {
             "colorbar": {
              "outlinewidth": 0,
              "ticks": ""
             }
            },
            "type": "scatterternary"
           }
          ],
          "surface": [
           {
            "colorbar": {
             "outlinewidth": 0,
             "ticks": ""
            },
            "colorscale": [
             [
              0,
              "#0d0887"
             ],
             [
              0.1111111111111111,
              "#46039f"
             ],
             [
              0.2222222222222222,
              "#7201a8"
             ],
             [
              0.3333333333333333,
              "#9c179e"
             ],
             [
              0.4444444444444444,
              "#bd3786"
             ],
             [
              0.5555555555555556,
              "#d8576b"
             ],
             [
              0.6666666666666666,
              "#ed7953"
             ],
             [
              0.7777777777777778,
              "#fb9f3a"
             ],
             [
              0.8888888888888888,
              "#fdca26"
             ],
             [
              1,
              "#f0f921"
             ]
            ],
            "type": "surface"
           }
          ],
          "table": [
           {
            "cells": {
             "fill": {
              "color": "#EBF0F8"
             },
             "line": {
              "color": "white"
             }
            },
            "header": {
             "fill": {
              "color": "#C8D4E3"
             },
             "line": {
              "color": "white"
             }
            },
            "type": "table"
           }
          ]
         },
         "layout": {
          "annotationdefaults": {
           "arrowcolor": "#2a3f5f",
           "arrowhead": 0,
           "arrowwidth": 1
          },
          "autotypenumbers": "strict",
          "coloraxis": {
           "colorbar": {
            "outlinewidth": 0,
            "ticks": ""
           }
          },
          "colorscale": {
           "diverging": [
            [
             0,
             "#8e0152"
            ],
            [
             0.1,
             "#c51b7d"
            ],
            [
             0.2,
             "#de77ae"
            ],
            [
             0.3,
             "#f1b6da"
            ],
            [
             0.4,
             "#fde0ef"
            ],
            [
             0.5,
             "#f7f7f7"
            ],
            [
             0.6,
             "#e6f5d0"
            ],
            [
             0.7,
             "#b8e186"
            ],
            [
             0.8,
             "#7fbc41"
            ],
            [
             0.9,
             "#4d9221"
            ],
            [
             1,
             "#276419"
            ]
           ],
           "sequential": [
            [
             0,
             "#0d0887"
            ],
            [
             0.1111111111111111,
             "#46039f"
            ],
            [
             0.2222222222222222,
             "#7201a8"
            ],
            [
             0.3333333333333333,
             "#9c179e"
            ],
            [
             0.4444444444444444,
             "#bd3786"
            ],
            [
             0.5555555555555556,
             "#d8576b"
            ],
            [
             0.6666666666666666,
             "#ed7953"
            ],
            [
             0.7777777777777778,
             "#fb9f3a"
            ],
            [
             0.8888888888888888,
             "#fdca26"
            ],
            [
             1,
             "#f0f921"
            ]
           ],
           "sequentialminus": [
            [
             0,
             "#0d0887"
            ],
            [
             0.1111111111111111,
             "#46039f"
            ],
            [
             0.2222222222222222,
             "#7201a8"
            ],
            [
             0.3333333333333333,
             "#9c179e"
            ],
            [
             0.4444444444444444,
             "#bd3786"
            ],
            [
             0.5555555555555556,
             "#d8576b"
            ],
            [
             0.6666666666666666,
             "#ed7953"
            ],
            [
             0.7777777777777778,
             "#fb9f3a"
            ],
            [
             0.8888888888888888,
             "#fdca26"
            ],
            [
             1,
             "#f0f921"
            ]
           ]
          },
          "colorway": [
           "#636efa",
           "#EF553B",
           "#00cc96",
           "#ab63fa",
           "#FFA15A",
           "#19d3f3",
           "#FF6692",
           "#B6E880",
           "#FF97FF",
           "#FECB52"
          ],
          "font": {
           "color": "#2a3f5f"
          },
          "geo": {
           "bgcolor": "white",
           "lakecolor": "white",
           "landcolor": "#E5ECF6",
           "showlakes": true,
           "showland": true,
           "subunitcolor": "white"
          },
          "hoverlabel": {
           "align": "left"
          },
          "hovermode": "closest",
          "mapbox": {
           "style": "light"
          },
          "paper_bgcolor": "white",
          "plot_bgcolor": "#E5ECF6",
          "polar": {
           "angularaxis": {
            "gridcolor": "white",
            "linecolor": "white",
            "ticks": ""
           },
           "bgcolor": "#E5ECF6",
           "radialaxis": {
            "gridcolor": "white",
            "linecolor": "white",
            "ticks": ""
           }
          },
          "scene": {
           "xaxis": {
            "backgroundcolor": "#E5ECF6",
            "gridcolor": "white",
            "gridwidth": 2,
            "linecolor": "white",
            "showbackground": true,
            "ticks": "",
            "zerolinecolor": "white"
           },
           "yaxis": {
            "backgroundcolor": "#E5ECF6",
            "gridcolor": "white",
            "gridwidth": 2,
            "linecolor": "white",
            "showbackground": true,
            "ticks": "",
            "zerolinecolor": "white"
           },
           "zaxis": {
            "backgroundcolor": "#E5ECF6",
            "gridcolor": "white",
            "gridwidth": 2,
            "linecolor": "white",
            "showbackground": true,
            "ticks": "",
            "zerolinecolor": "white"
           }
          },
          "shapedefaults": {
           "line": {
            "color": "#2a3f5f"
           }
          },
          "ternary": {
           "aaxis": {
            "gridcolor": "white",
            "linecolor": "white",
            "ticks": ""
           },
           "baxis": {
            "gridcolor": "white",
            "linecolor": "white",
            "ticks": ""
           },
           "bgcolor": "#E5ECF6",
           "caxis": {
            "gridcolor": "white",
            "linecolor": "white",
            "ticks": ""
           }
          },
          "title": {
           "x": 0.05
          },
          "xaxis": {
           "automargin": true,
           "gridcolor": "white",
           "linecolor": "white",
           "ticks": "",
           "title": {
            "standoff": 15
           },
           "zerolinecolor": "white",
           "zerolinewidth": 2
          },
          "yaxis": {
           "automargin": true,
           "gridcolor": "white",
           "linecolor": "white",
           "ticks": "",
           "title": {
            "standoff": 15
           },
           "zerolinecolor": "white",
           "zerolinewidth": 2
          }
         }
        },
        "title": {
         "text": "Geluk, Alcoholgebruik en Vrijheid per land"
        },
        "xaxis": {
         "anchor": "y",
         "domain": [
          0,
          1
         ],
         "title": {
          "text": "Gemiddelde geluksscore (0-10)"
         }
        },
        "yaxis": {
         "anchor": "x",
         "domain": [
          0,
          1
         ],
         "title": {
          "text": "Alcoholgebruik per persoon (liter per jaar)"
         }
        }
       }
      }
     },
     "metadata": {},
     "output_type": "display_data"
    }
   ],
   "source": [
    "import pandas as pd\n",
    "import plotly.express as px\n",
    "\n",
    "# Data inladen\n",
    "pad = \"Data/Gecombineerde_dataset_met_extra_vrijheid.csv\"\n",
    "df = pd.read_csv(pad)\n",
    "df.columns = df.columns.str.strip()\n",
    "\n",
    "# Vrijheidsstatus netjes uitschrijven\n",
    "df[\"Vrijheidsstatus duidelijk\"] = df[\"Vrijheidsstatus\"].map({\n",
    "    \"F\": \"Vrij land\",\n",
    "    \"PF\": \"Gedeeltelijk vrij land\",\n",
    "    \"NF\": \"Niet vrij land\"\n",
    "})\n",
    "\n",
    "# Bubbleplot maken, geluk op de x-as\n",
    "fig3 = px.scatter(\n",
    "    df,\n",
    "    x=\"Cantril ladder score\",\n",
    "    y=\"alcohol_consumption\",\n",
    "    size=\"Vrijheidsscore (0-100)\",\n",
    "    color=\"Vrijheidsstatus duidelijk\",\n",
    "    hover_name=\"Entity\",\n",
    "    labels={\n",
    "        \"Cantril ladder score\": \"Gemiddelde geluksscore (0-10)\",\n",
    "        \"alcohol_consumption\": \"Alcoholgebruik per persoon (liter per jaar)\",\n",
    "        \"Vrijheidsscore (0-100)\": \"Vrijheidsscore van het land (0 = niet vrij, 100 = heel vrij)\",\n",
    "        \"Vrijheidsstatus duidelijk\": \"Type land\"\n",
    "    },\n",
    "    title=\"Geluk, Alcoholgebruik en Vrijheid per land\"\n",
    ")\n",
    "\n",
    "fig3.update_traces(marker=dict(sizemode='area', line_width=1, opacity=0.7))\n",
    "\n",
    "fig3.show()\n",
    "fig3.write_html(\"geluk_alcohol_vrijheid.html\")\n"
   ]
  },
  {
   "cell_type": "markdown",
   "id": "3aa41c06",
   "metadata": {},
   "source": [
    "**Visualisatie 2.3**  \n",
    "Deze visualisatie laat zien hoe geluk, alcoholgebruik en vrijheid samenhangen. Elk land is een bubbel: hoe groter de bubbel, hoe meer vrijheid. De kleur geeft aan of een land vrij, gedeeltelijk vrij of niet vrij is.\n",
    "\n",
    "**Wat zien we:**  \n",
    "- In landen met een **hoge vrijheidsscore** (boven de 80) ligt de geluksscore rond de **7,5** en wordt gemiddeld **9** tot **12** liter alcohol per persoon per jaar gedronken.\n",
    "- In **minder vrije landen** (vrijheidsscore onder de 30) ligt het geluk rond de **5,5** en het alcoholgebruik tussen de **3** en **5** liter.\n",
    "\n",
    "Vrijheid beperkt zich niet tot politieke rechten, maar beïnvloedt zichtbaar het dagelijks leven. In vrije landen voelen mensen zich gelukkiger, is er meer ontspanning en sociaal gedrag. Het gaat om samenhang, niet om een oorzakelijk verband.\n"
   ]
  },
  {
   "cell_type": "markdown",
   "id": "af88cf74",
   "metadata": {},
   "source": [
    "## Conclusion\n",
    "Onze analyse laat een herkenbaar patroon zien. In landen waar politieke betrokkenheid hoog is, ligt het gemiddelde geluksniveau lager (visualisatie 2.1). Omgekeerd zien we dat in gelukkige samenlevingen politiek minder centraal staat en er meer ruimte is voor ontspanning en sociaal gedrag, zoals alcoholgebruik (visualisatie 2.2).\n",
    "Vrijheid speelt hierin een sleutelrol. Vrije landen combineren meer geluk met meer sociaal gedrag en minder politieke stress (visualisatie 2.3). Vrijheid is daarmee niet alleen een politiek begrip, maar merkbaar in het dagelijks leven.\n",
    "\n",
    "De cijfers laten zien: vrijheid, ontspanning en geluk gaan vaak hand in hand. Minder vrijheid of politieke onrust hangt samen met minder welzijn en minder ruimte voor ontspanning."
   ]
  }
 ],
 "metadata": {
  "kernelspec": {
   "display_name": "base",
   "language": "python",
   "name": "python3"
  },
  "language_info": {
   "codemirror_mode": {
    "name": "ipython",
    "version": 3
   },
   "file_extension": ".py",
   "mimetype": "text/x-python",
   "name": "python",
   "nbconvert_exporter": "python",
   "pygments_lexer": "ipython3",
   "version": "3.11.5"
  }
 },
 "nbformat": 4,
 "nbformat_minor": 5
}